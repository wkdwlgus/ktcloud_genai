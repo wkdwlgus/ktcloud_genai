{
  "nbformat": 4,
  "nbformat_minor": 0,
  "metadata": {
    "colab": {
      "provenance": [],
      "authorship_tag": "ABX9TyMLUSIg+h94J54jHWdvPKMo",
      "include_colab_link": true
    },
    "kernelspec": {
      "name": "python3",
      "display_name": "Python 3"
    },
    "language_info": {
      "name": "python"
    }
  },
  "cells": [
    {
      "cell_type": "markdown",
      "metadata": {
        "id": "view-in-github",
        "colab_type": "text"
      },
      "source": [
        "<a href=\"https://colab.research.google.com/github/wkdwlgus/ktcloud_genai/blob/main/251016_%EB%B6%84%EB%A5%98%EC%9A%A9_%ED%91%9C%ED%98%84_%EB%AF%B8%EC%84%B8_%ED%8A%9C%EB%8B%9D%ED%95%98%EA%B8%B0_%EC%9E%A5%EC%A7%80%ED%98%84.ipynb\" target=\"_parent\"><img src=\"https://colab.research.google.com/assets/colab-badge.svg\" alt=\"Open In Colab\"/></a>"
      ]
    },
    {
      "cell_type": "markdown",
      "source": [
        "# **분류용 표현 모델 미세 튜닝하기 - 한글**"
      ],
      "metadata": {
        "id": "yp-AQkTjxp64"
      }
    },
    {
      "cell_type": "code",
      "execution_count": null,
      "metadata": {
        "id": "wkMKBaWyz0O4"
      },
      "outputs": [],
      "source": [
        "%%capture\n",
        "!pip install datasets setfit seqeval evaluate"
      ]
    },
    {
      "cell_type": "markdown",
      "source": [
        "- **datasets** :\n",
        "    - https://huggingface.co/datasets\n",
        "    - 허깅페이스 데이터셋\n",
        "- **setfit** :\n",
        "    - https://huggingface.co/docs/setfit/index\n",
        "    - 적은 양의 레이블 데이터만으로 문장 변환(Sentence Transformer) 모델을 효율적으로 파인튜닝하기 위한 프레임워크\n",
        "- **seqeval** : (평가지표)\n",
        "    - https://huggingface.co/spaces/evaluate-metric/seqeval\n",
        "    - 개체명 인식(NER:Named Entity Recognition)과 같은 시퀀스 레이블링(sequence labeling) 태스크의 성능(F1-score, 정밀도 등)을 평가하기 위한 라이브러리"
      ],
      "metadata": {
        "id": "SoXILvQPXfF6"
      }
    },
    {
      "cell_type": "markdown",
      "metadata": {
        "id": "UBeVnXxQWy7-"
      },
      "source": [
        "## **데이터**\n",
        "- 모델: `'klue/bert-base'`\n",
        "- 데이터: NSMC(Naver Sentiment Movie Corpus)\n",
        "https://huggingface.co/datasets/Blpeng/nsmc\n",
        "  - train: 150,000개\n",
        "  - test: 50,000개\n",
        "  - Rotten Tomatoes와 유사한 한글 데이터셋"
      ]
    },
    {
      "cell_type": "code",
      "execution_count": null,
      "metadata": {
        "id": "5phRS_z2U_3T",
        "colab": {
          "base_uri": "https://localhost:8080/"
        },
        "outputId": "b4424d62-8f14-4188-b36b-a855770fc361"
      },
      "outputs": [
        {
          "output_type": "stream",
          "name": "stderr",
          "text": [
            "Repo card metadata block was not found. Setting CardData to empty.\n",
            "WARNING:huggingface_hub.repocard:Repo card metadata block was not found. Setting CardData to empty.\n",
            "Some weights of BertForSequenceClassification were not initialized from the model checkpoint at klue/bert-base and are newly initialized: ['classifier.bias', 'classifier.weight']\n",
            "You should probably TRAIN this model on a down-stream task to be able to use it for predictions and inference.\n"
          ]
        }
      ],
      "source": [
        "from datasets import load_dataset, Dataset\n",
        "from transformers import AutoTokenizer, AutoModelForSequenceClassification\n",
        "\n",
        "# 데이터를 준비하고 분할합니다. 결측값을 제거합니다.\n",
        "dataset = load_dataset(\"Blpeng/nsmc\")\n",
        "train_data = dataset['train'].filter(lambda x: x['document'] is not None).shuffle(seed=42).select(range(8500))\n",
        "test_data = dataset['test'].filter(lambda x: x['document'] is not None).shuffle(seed=42).select(range(1000))\n",
        "\n",
        "# 모델과 토크나이저를 로드합니다.\n",
        "model_id = \"klue/bert-base\"\n",
        "model = AutoModelForSequenceClassification.from_pretrained(\n",
        "            model_id, num_labels=2)  # 레이블 개수 2개\n",
        "tokenizer = AutoTokenizer.from_pretrained(model_id)"
      ]
    },
    {
      "cell_type": "markdown",
      "source": [],
      "metadata": {
        "id": "2DT8VlxYBUcN"
      }
    },
    {
      "cell_type": "code",
      "source": [
        "train_data"
      ],
      "metadata": {
        "id": "1_gBUzZ3lZMr",
        "colab": {
          "base_uri": "https://localhost:8080/"
        },
        "outputId": "4af06dec-6a64-400f-ee55-bb1de3172562"
      },
      "execution_count": null,
      "outputs": [
        {
          "output_type": "execute_result",
          "data": {
            "text/plain": [
              "Dataset({\n",
              "    features: ['Unnamed: 0', 'id', 'document', 'label'],\n",
              "    num_rows: 8500\n",
              "})"
            ]
          },
          "metadata": {},
          "execution_count": 3
        }
      ]
    },
    {
      "cell_type": "code",
      "source": [
        "test_data"
      ],
      "metadata": {
        "colab": {
          "base_uri": "https://localhost:8080/"
        },
        "id": "SuzlGmB0khFh",
        "outputId": "4b8c5a1a-c3e6-4402-ecd5-36ba82e84878"
      },
      "execution_count": null,
      "outputs": [
        {
          "output_type": "execute_result",
          "data": {
            "text/plain": [
              "Dataset({\n",
              "    features: ['Unnamed: 0', 'id', 'document', 'label'],\n",
              "    num_rows: 1000\n",
              "})"
            ]
          },
          "metadata": {},
          "execution_count": 4
        }
      ]
    },
    {
      "cell_type": "code",
      "source": [
        "train_data[1]"
      ],
      "metadata": {
        "colab": {
          "base_uri": "https://localhost:8080/"
        },
        "id": "e3VD3ZtTaO3q",
        "outputId": "4ddc33ce-d1b5-4016-d458-9462344a2ba5"
      },
      "execution_count": null,
      "outputs": [
        {
          "output_type": "execute_result",
          "data": {
            "text/plain": [
              "{'Unnamed: 0': 67616, 'id': 7480534, 'document': '이런 영화는 북쪽이나 틀어라', 'label': 0}"
            ]
          },
          "metadata": {},
          "execution_count": 5
        }
      ]
    },
    {
      "cell_type": "markdown",
      "source": [
        "\n",
        "\n",
        "---\n",
        "\n"
      ],
      "metadata": {
        "id": "vQBwJpmupLqm"
      }
    },
    {
      "cell_type": "markdown",
      "metadata": {
        "id": "xya5dfmVoR1R"
      },
      "source": [
        "## **지도 분류**\n"
      ]
    },
    {
      "cell_type": "markdown",
      "metadata": {
        "id": "r48vDo8fa33D"
      },
      "source": [
        "데이터를 토큰으로 나눕니다."
      ]
    },
    {
      "cell_type": "code",
      "execution_count": null,
      "metadata": {
        "id": "5ySNm-a3WCFI"
      },
      "outputs": [],
      "source": [
        "def preprocess_function(examples):\n",
        "   \"\"\"입력 데이터를 토큰으로 나눕니다\"\"\"\n",
        "   return tokenizer(examples[\"document\"], truncation=True)\n",
        "\n",
        "# 훈련 데이터와 테스트 데이터를 토큰화합니다.\n",
        "# batched = True -> 여러개 데이터를 배치단위(batch size 만큼 묶어서) 처리 (메모리 문제)\n",
        "# batch_size = 1000 (default)\n",
        "# batched = False -> 데이터를 하나씩 개별 처리 (시간 문제)\n",
        "# => 메모리 시간 trade off\n",
        "tokenized_train = train_data.map(preprocess_function, batched=True)\n",
        "tokenized_test = test_data.map(preprocess_function, batched=True)"
      ]
    },
    {
      "cell_type": "markdown",
      "source": [
        "DataCollator: 배치 데이터를 만들고 데이터 증식도 적용할 수 있는 클래스"
      ],
      "metadata": {
        "id": "-02zH6-4jvro"
      }
    },
    {
      "cell_type": "code",
      "source": [
        "import torch\n",
        "# DataCollactor가 왜 필요할까?\n",
        "# 토큰화된 데이터\n",
        "sample1 = {\"input_ids\": [101, 146, 1567, 102]}                    # 길이 4\n",
        "sample2 = {\"input_ids\": [101, 1188, 1110, 2213, 999, 102]}        # 길이 6\n",
        "sample3 = {\"input_ids\": [101, 2026, 2523, 106, 102]}              # 길이 5\n",
        "\n",
        "# 배치로 묶으려면?\n",
        "batch = [sample1, sample2, sample3]\n",
        "\n",
        "# ❌ 텐서로 변환 불가능! (길이가 달라서)\n",
        "tensor = torch.tensor([\n",
        "    [101, 146, 1567, 102],           # 4개\n",
        "    [101, 1188, 1110, 2213, 999, 102],  # 6개  ← 에러!\n",
        "    [101, 2026, 2523, 106, 102]      # 5개\n",
        "])"
      ],
      "metadata": {
        "colab": {
          "base_uri": "https://localhost:8080/",
          "height": 211
        },
        "id": "TKeVselrMqWj",
        "outputId": "1816655a-dc52-477a-cd02-85dd0cae2d6e"
      },
      "execution_count": null,
      "outputs": [
        {
          "output_type": "error",
          "ename": "ValueError",
          "evalue": "expected sequence of length 4 at dim 1 (got 6)",
          "traceback": [
            "\u001b[0;31m---------------------------------------------------------------------------\u001b[0m",
            "\u001b[0;31mValueError\u001b[0m                                Traceback (most recent call last)",
            "\u001b[0;32m/tmp/ipython-input-176925255.py\u001b[0m in \u001b[0;36m<cell line: 0>\u001b[0;34m()\u001b[0m\n\u001b[1;32m     10\u001b[0m \u001b[0;34m\u001b[0m\u001b[0m\n\u001b[1;32m     11\u001b[0m \u001b[0;31m# ❌ 텐서로 변환 불가능! (길이가 달라서)\u001b[0m\u001b[0;34m\u001b[0m\u001b[0;34m\u001b[0m\u001b[0m\n\u001b[0;32m---> 12\u001b[0;31m tensor = torch.tensor([\n\u001b[0m\u001b[1;32m     13\u001b[0m     \u001b[0;34m[\u001b[0m\u001b[0;36m101\u001b[0m\u001b[0;34m,\u001b[0m \u001b[0;36m146\u001b[0m\u001b[0;34m,\u001b[0m \u001b[0;36m1567\u001b[0m\u001b[0;34m,\u001b[0m \u001b[0;36m102\u001b[0m\u001b[0;34m]\u001b[0m\u001b[0;34m,\u001b[0m           \u001b[0;31m# 4개\u001b[0m\u001b[0;34m\u001b[0m\u001b[0;34m\u001b[0m\u001b[0m\n\u001b[1;32m     14\u001b[0m     \u001b[0;34m[\u001b[0m\u001b[0;36m101\u001b[0m\u001b[0;34m,\u001b[0m \u001b[0;36m1188\u001b[0m\u001b[0;34m,\u001b[0m \u001b[0;36m1110\u001b[0m\u001b[0;34m,\u001b[0m \u001b[0;36m2213\u001b[0m\u001b[0;34m,\u001b[0m \u001b[0;36m999\u001b[0m\u001b[0;34m,\u001b[0m \u001b[0;36m102\u001b[0m\u001b[0;34m]\u001b[0m\u001b[0;34m,\u001b[0m  \u001b[0;31m# 6개  ← 에러!\u001b[0m\u001b[0;34m\u001b[0m\u001b[0;34m\u001b[0m\u001b[0m\n",
            "\u001b[0;31mValueError\u001b[0m: expected sequence of length 4 at dim 1 (got 6)"
          ]
        }
      ]
    },
    {
      "cell_type": "code",
      "execution_count": null,
      "metadata": {
        "id": "NG1WwM15PrRT"
      },
      "outputs": [],
      "source": [
        "from transformers import DataCollatorWithPadding\n",
        "\n",
        "# 배치에서 가장 긴 시퀀스에 맞춰 패딩합니다.\n",
        "# data_collator(samples) 혹은 trainer.train() 시점에 패딩이 추가됨\n",
        "data_collator = DataCollatorWithPadding(tokenizer=tokenizer)"
      ]
    },
    {
      "cell_type": "markdown",
      "metadata": {
        "id": "QJ1NM1gjbMD7"
      },
      "source": [
        "측정 지표를 정의합니다. (confusion matrix)\n",
        "\n",
        "- **F1-score**\n",
        "    - **정밀도(Precision)와 재현율(Recall)의 조화평균**\n",
        "    - 데이터 불균형(Imbalanced Data)이 심할 때 모델의 성능을 정확하게 평가하기 위해 주로 사용\n",
        "    - 정밀도(Precision)와 재현율(Recall)을 모두 중요하게 고려해야 할 때 사용"
      ]
    },
    {
      "cell_type": "markdown",
      "source": [
        "정밀도 (Precision) = TP / (TP + FP)\n",
        "- 긍정이라고 예측한 것 중 실제 긍정 비율\n",
        "\n",
        "재현율 (Recall) = TP / (TP + FN)\n",
        "- 실제 긍정 중 긍정으로 예측한 비율\n",
        "\n",
        "F1-Score = 2 × (Precision × Recall) / (Precision + Recall)\n",
        "- 정밀도와 재현율의 조화평균\n",
        "- 불균형 데이터 -> **실제: 스팸 10개, 정상 90개**\n",
        "\n",
        "- 모델이 모두 \"정상\"이라고 예측 -> **예측: 전부 정상**\n",
        "\n",
        "- 정확도 = 90/100 = 90%  ← 높아 보이지만...\n",
        "스팸을 하나도 못 잡음! ❌\n",
        "- 정밀도 = 0 / (0 + 0) = 계산 불가\n",
        "- 재현율 = 0 / (0 + 10) = 0%\n",
        "- F1-Score = 0%  ← 실제 성능 반영! ✅"
      ],
      "metadata": {
        "id": "Ca1WpDx-QQHw"
      }
    },
    {
      "cell_type": "code",
      "execution_count": null,
      "metadata": {
        "id": "Y724gUYyWIvq"
      },
      "outputs": [],
      "source": [
        "import numpy as np\n",
        "import evaluate\n",
        "\n",
        "\n",
        "def compute_metrics(eval_pred):\n",
        "    \"\"\"F1 점수를 계산합니다\"\"\"\n",
        "    logits, labels = eval_pred\n",
        "    predictions = np.argmax(logits, axis=-1)\n",
        "\n",
        "    load_f1 = evaluate.load(\"f1\")\n",
        "    f1 = load_f1.compute(predictions=predictions, references=labels)[\"f1\"]\n",
        "    return {\"f1\": f1}"
      ]
    },
    {
      "cell_type": "markdown",
      "metadata": {
        "id": "AAm-sAl9bOPC"
      },
      "source": [
        "모델을 훈련합니다."
      ]
    },
    {
      "cell_type": "code",
      "execution_count": null,
      "metadata": {
        "id": "Dho6VcG9WK5u"
      },
      "outputs": [],
      "source": [
        "from transformers import TrainingArguments, Trainer\n",
        "\n",
        "# 훈련 매개변수\n",
        "training_args = TrainingArguments(\n",
        "   \"model\",\n",
        "   learning_rate=2e-5,              # 0.00002\n",
        "   per_device_train_batch_size=16,\n",
        "   per_device_eval_batch_size=16,\n",
        "   num_train_epochs=1,\n",
        "   weight_decay=0.01,\n",
        "   save_strategy=\"epoch\",\n",
        "   report_to=\"none\"\n",
        ")\n",
        "\n",
        "# 훈련 과정을 수행할 Trainer 객체\n",
        "trainer = Trainer(\n",
        "   model=model,\n",
        "   args=training_args,\n",
        "   train_dataset=tokenized_train,\n",
        "   eval_dataset=tokenized_test,\n",
        "   processing_class=tokenizer,\n",
        "   data_collator=data_collator,\n",
        "   compute_metrics=compute_metrics,\n",
        ")"
      ]
    },
    {
      "cell_type": "code",
      "execution_count": null,
      "metadata": {
        "id": "vOzl0WnSbVnY",
        "colab": {
          "base_uri": "https://localhost:8080/",
          "height": 159
        },
        "outputId": "09a93473-2f85-44a0-e3d8-98f3ce46acda"
      },
      "outputs": [
        {
          "output_type": "display_data",
          "data": {
            "text/plain": [
              "<IPython.core.display.HTML object>"
            ],
            "text/html": [
              "\n",
              "    <div>\n",
              "      \n",
              "      <progress value='532' max='532' style='width:300px; height:20px; vertical-align: middle;'></progress>\n",
              "      [532/532 00:29, Epoch 1/1]\n",
              "    </div>\n",
              "    <table border=\"1\" class=\"dataframe\">\n",
              "  <thead>\n",
              " <tr style=\"text-align: left;\">\n",
              "      <th>Step</th>\n",
              "      <th>Training Loss</th>\n",
              "    </tr>\n",
              "  </thead>\n",
              "  <tbody>\n",
              "    <tr>\n",
              "      <td>500</td>\n",
              "      <td>0.377500</td>\n",
              "    </tr>\n",
              "  </tbody>\n",
              "</table><p>"
            ]
          },
          "metadata": {}
        },
        {
          "output_type": "execute_result",
          "data": {
            "text/plain": [
              "TrainOutput(global_step=532, training_loss=0.371744121823992, metrics={'train_runtime': 29.9852, 'train_samples_per_second': 283.473, 'train_steps_per_second': 17.742, 'total_flos': 275847274883520.0, 'train_loss': 0.371744121823992, 'epoch': 1.0})"
            ]
          },
          "metadata": {},
          "execution_count": 7
        }
      ],
      "source": [
        "trainer.train()"
      ]
    },
    {
      "cell_type": "markdown",
      "metadata": {
        "id": "xkBUVlUYbUnn"
      },
      "source": [
        "모델을 평가합니다.\n",
        "eval_f1 으로 평가 (1에 가까울수록 정확도 높은거(성능 높은거))"
      ]
    },
    {
      "cell_type": "code",
      "execution_count": null,
      "metadata": {
        "id": "wCI9uYDObWU8",
        "colab": {
          "base_uri": "https://localhost:8080/",
          "height": 141
        },
        "outputId": "25d3a101-b25b-44d6-81fb-67e847710a47"
      },
      "outputs": [
        {
          "output_type": "display_data",
          "data": {
            "text/plain": [
              "<IPython.core.display.HTML object>"
            ],
            "text/html": [
              "\n",
              "    <div>\n",
              "      \n",
              "      <progress value='126' max='63' style='width:300px; height:20px; vertical-align: middle;'></progress>\n",
              "      [63/63 00:09]\n",
              "    </div>\n",
              "    "
            ]
          },
          "metadata": {}
        },
        {
          "output_type": "execute_result",
          "data": {
            "text/plain": [
              "{'eval_loss': 0.2849462330341339,\n",
              " 'eval_f1': 0.8830897703549061,\n",
              " 'eval_runtime': 1.4523,\n",
              " 'eval_samples_per_second': 688.545,\n",
              " 'eval_steps_per_second': 43.378,\n",
              " 'epoch': 1.0}"
            ]
          },
          "metadata": {},
          "execution_count": 9
        }
      ],
      "source": [
        "trainer.evaluate()\n",
        "# 0.883"
      ]
    },
    {
      "cell_type": "markdown",
      "metadata": {
        "id": "o5gefwxOBllA"
      },
      "source": [
        "### **Layer Freezing**"
      ]
    },
    {
      "cell_type": "code",
      "source": [
        "# 모델과 토크나이저를 로드합니다.\n",
        "model = AutoModelForSequenceClassification.from_pretrained(model_id, num_labels=2)\n",
        "tokenizer = AutoTokenizer.from_pretrained(model_id)"
      ],
      "metadata": {
        "colab": {
          "base_uri": "https://localhost:8080/"
        },
        "id": "2TPNmmvct0CQ",
        "outputId": "d64dbd31-f90e-42ea-c0e1-5da951453e48"
      },
      "execution_count": null,
      "outputs": [
        {
          "output_type": "stream",
          "name": "stderr",
          "text": [
            "Some weights of BertForSequenceClassification were not initialized from the model checkpoint at klue/bert-base and are newly initialized: ['classifier.bias', 'classifier.weight']\n",
            "You should probably TRAIN this model on a down-stream task to be able to use it for predictions and inference.\n"
          ]
        }
      ]
    },
    {
      "cell_type": "code",
      "execution_count": null,
      "metadata": {
        "id": "iI8vf_mnBniu",
        "collapsed": true,
        "colab": {
          "base_uri": "https://localhost:8080/"
        },
        "outputId": "6c6307ab-4e78-4191-bfc1-e16f657423d9"
      },
      "outputs": [
        {
          "output_type": "stream",
          "name": "stdout",
          "text": [
            "0: bert.embeddings.word_embeddings.weight\n",
            "1: bert.embeddings.position_embeddings.weight\n",
            "2: bert.embeddings.token_type_embeddings.weight\n",
            "3: bert.embeddings.LayerNorm.weight\n",
            "4: bert.embeddings.LayerNorm.bias\n",
            "5: bert.encoder.layer.0.attention.self.query.weight\n",
            "6: bert.encoder.layer.0.attention.self.query.bias\n",
            "7: bert.encoder.layer.0.attention.self.key.weight\n",
            "8: bert.encoder.layer.0.attention.self.key.bias\n",
            "9: bert.encoder.layer.0.attention.self.value.weight\n",
            "10: bert.encoder.layer.0.attention.self.value.bias\n",
            "11: bert.encoder.layer.0.attention.output.dense.weight\n",
            "12: bert.encoder.layer.0.attention.output.dense.bias\n",
            "13: bert.encoder.layer.0.attention.output.LayerNorm.weight\n",
            "14: bert.encoder.layer.0.attention.output.LayerNorm.bias\n",
            "15: bert.encoder.layer.0.intermediate.dense.weight\n",
            "16: bert.encoder.layer.0.intermediate.dense.bias\n",
            "17: bert.encoder.layer.0.output.dense.weight\n",
            "18: bert.encoder.layer.0.output.dense.bias\n",
            "19: bert.encoder.layer.0.output.LayerNorm.weight\n",
            "20: bert.encoder.layer.0.output.LayerNorm.bias\n",
            "21: bert.encoder.layer.1.attention.self.query.weight\n",
            "22: bert.encoder.layer.1.attention.self.query.bias\n",
            "23: bert.encoder.layer.1.attention.self.key.weight\n",
            "24: bert.encoder.layer.1.attention.self.key.bias\n",
            "25: bert.encoder.layer.1.attention.self.value.weight\n",
            "26: bert.encoder.layer.1.attention.self.value.bias\n",
            "27: bert.encoder.layer.1.attention.output.dense.weight\n",
            "28: bert.encoder.layer.1.attention.output.dense.bias\n",
            "29: bert.encoder.layer.1.attention.output.LayerNorm.weight\n",
            "30: bert.encoder.layer.1.attention.output.LayerNorm.bias\n",
            "31: bert.encoder.layer.1.intermediate.dense.weight\n",
            "32: bert.encoder.layer.1.intermediate.dense.bias\n",
            "33: bert.encoder.layer.1.output.dense.weight\n",
            "34: bert.encoder.layer.1.output.dense.bias\n",
            "35: bert.encoder.layer.1.output.LayerNorm.weight\n",
            "36: bert.encoder.layer.1.output.LayerNorm.bias\n",
            "37: bert.encoder.layer.2.attention.self.query.weight\n",
            "38: bert.encoder.layer.2.attention.self.query.bias\n",
            "39: bert.encoder.layer.2.attention.self.key.weight\n",
            "40: bert.encoder.layer.2.attention.self.key.bias\n",
            "41: bert.encoder.layer.2.attention.self.value.weight\n",
            "42: bert.encoder.layer.2.attention.self.value.bias\n",
            "43: bert.encoder.layer.2.attention.output.dense.weight\n",
            "44: bert.encoder.layer.2.attention.output.dense.bias\n",
            "45: bert.encoder.layer.2.attention.output.LayerNorm.weight\n",
            "46: bert.encoder.layer.2.attention.output.LayerNorm.bias\n",
            "47: bert.encoder.layer.2.intermediate.dense.weight\n",
            "48: bert.encoder.layer.2.intermediate.dense.bias\n",
            "49: bert.encoder.layer.2.output.dense.weight\n",
            "50: bert.encoder.layer.2.output.dense.bias\n",
            "51: bert.encoder.layer.2.output.LayerNorm.weight\n",
            "52: bert.encoder.layer.2.output.LayerNorm.bias\n",
            "53: bert.encoder.layer.3.attention.self.query.weight\n",
            "54: bert.encoder.layer.3.attention.self.query.bias\n",
            "55: bert.encoder.layer.3.attention.self.key.weight\n",
            "56: bert.encoder.layer.3.attention.self.key.bias\n",
            "57: bert.encoder.layer.3.attention.self.value.weight\n",
            "58: bert.encoder.layer.3.attention.self.value.bias\n",
            "59: bert.encoder.layer.3.attention.output.dense.weight\n",
            "60: bert.encoder.layer.3.attention.output.dense.bias\n",
            "61: bert.encoder.layer.3.attention.output.LayerNorm.weight\n",
            "62: bert.encoder.layer.3.attention.output.LayerNorm.bias\n",
            "63: bert.encoder.layer.3.intermediate.dense.weight\n",
            "64: bert.encoder.layer.3.intermediate.dense.bias\n",
            "65: bert.encoder.layer.3.output.dense.weight\n",
            "66: bert.encoder.layer.3.output.dense.bias\n",
            "67: bert.encoder.layer.3.output.LayerNorm.weight\n",
            "68: bert.encoder.layer.3.output.LayerNorm.bias\n",
            "69: bert.encoder.layer.4.attention.self.query.weight\n",
            "70: bert.encoder.layer.4.attention.self.query.bias\n",
            "71: bert.encoder.layer.4.attention.self.key.weight\n",
            "72: bert.encoder.layer.4.attention.self.key.bias\n",
            "73: bert.encoder.layer.4.attention.self.value.weight\n",
            "74: bert.encoder.layer.4.attention.self.value.bias\n",
            "75: bert.encoder.layer.4.attention.output.dense.weight\n",
            "76: bert.encoder.layer.4.attention.output.dense.bias\n",
            "77: bert.encoder.layer.4.attention.output.LayerNorm.weight\n",
            "78: bert.encoder.layer.4.attention.output.LayerNorm.bias\n",
            "79: bert.encoder.layer.4.intermediate.dense.weight\n",
            "80: bert.encoder.layer.4.intermediate.dense.bias\n",
            "81: bert.encoder.layer.4.output.dense.weight\n",
            "82: bert.encoder.layer.4.output.dense.bias\n",
            "83: bert.encoder.layer.4.output.LayerNorm.weight\n",
            "84: bert.encoder.layer.4.output.LayerNorm.bias\n",
            "85: bert.encoder.layer.5.attention.self.query.weight\n",
            "86: bert.encoder.layer.5.attention.self.query.bias\n",
            "87: bert.encoder.layer.5.attention.self.key.weight\n",
            "88: bert.encoder.layer.5.attention.self.key.bias\n",
            "89: bert.encoder.layer.5.attention.self.value.weight\n",
            "90: bert.encoder.layer.5.attention.self.value.bias\n",
            "91: bert.encoder.layer.5.attention.output.dense.weight\n",
            "92: bert.encoder.layer.5.attention.output.dense.bias\n",
            "93: bert.encoder.layer.5.attention.output.LayerNorm.weight\n",
            "94: bert.encoder.layer.5.attention.output.LayerNorm.bias\n",
            "95: bert.encoder.layer.5.intermediate.dense.weight\n",
            "96: bert.encoder.layer.5.intermediate.dense.bias\n",
            "97: bert.encoder.layer.5.output.dense.weight\n",
            "98: bert.encoder.layer.5.output.dense.bias\n",
            "99: bert.encoder.layer.5.output.LayerNorm.weight\n",
            "100: bert.encoder.layer.5.output.LayerNorm.bias\n",
            "101: bert.encoder.layer.6.attention.self.query.weight\n",
            "102: bert.encoder.layer.6.attention.self.query.bias\n",
            "103: bert.encoder.layer.6.attention.self.key.weight\n",
            "104: bert.encoder.layer.6.attention.self.key.bias\n",
            "105: bert.encoder.layer.6.attention.self.value.weight\n",
            "106: bert.encoder.layer.6.attention.self.value.bias\n",
            "107: bert.encoder.layer.6.attention.output.dense.weight\n",
            "108: bert.encoder.layer.6.attention.output.dense.bias\n",
            "109: bert.encoder.layer.6.attention.output.LayerNorm.weight\n",
            "110: bert.encoder.layer.6.attention.output.LayerNorm.bias\n",
            "111: bert.encoder.layer.6.intermediate.dense.weight\n",
            "112: bert.encoder.layer.6.intermediate.dense.bias\n",
            "113: bert.encoder.layer.6.output.dense.weight\n",
            "114: bert.encoder.layer.6.output.dense.bias\n",
            "115: bert.encoder.layer.6.output.LayerNorm.weight\n",
            "116: bert.encoder.layer.6.output.LayerNorm.bias\n",
            "117: bert.encoder.layer.7.attention.self.query.weight\n",
            "118: bert.encoder.layer.7.attention.self.query.bias\n",
            "119: bert.encoder.layer.7.attention.self.key.weight\n",
            "120: bert.encoder.layer.7.attention.self.key.bias\n",
            "121: bert.encoder.layer.7.attention.self.value.weight\n",
            "122: bert.encoder.layer.7.attention.self.value.bias\n",
            "123: bert.encoder.layer.7.attention.output.dense.weight\n",
            "124: bert.encoder.layer.7.attention.output.dense.bias\n",
            "125: bert.encoder.layer.7.attention.output.LayerNorm.weight\n",
            "126: bert.encoder.layer.7.attention.output.LayerNorm.bias\n",
            "127: bert.encoder.layer.7.intermediate.dense.weight\n",
            "128: bert.encoder.layer.7.intermediate.dense.bias\n",
            "129: bert.encoder.layer.7.output.dense.weight\n",
            "130: bert.encoder.layer.7.output.dense.bias\n",
            "131: bert.encoder.layer.7.output.LayerNorm.weight\n",
            "132: bert.encoder.layer.7.output.LayerNorm.bias\n",
            "133: bert.encoder.layer.8.attention.self.query.weight\n",
            "134: bert.encoder.layer.8.attention.self.query.bias\n",
            "135: bert.encoder.layer.8.attention.self.key.weight\n",
            "136: bert.encoder.layer.8.attention.self.key.bias\n",
            "137: bert.encoder.layer.8.attention.self.value.weight\n",
            "138: bert.encoder.layer.8.attention.self.value.bias\n",
            "139: bert.encoder.layer.8.attention.output.dense.weight\n",
            "140: bert.encoder.layer.8.attention.output.dense.bias\n",
            "141: bert.encoder.layer.8.attention.output.LayerNorm.weight\n",
            "142: bert.encoder.layer.8.attention.output.LayerNorm.bias\n",
            "143: bert.encoder.layer.8.intermediate.dense.weight\n",
            "144: bert.encoder.layer.8.intermediate.dense.bias\n",
            "145: bert.encoder.layer.8.output.dense.weight\n",
            "146: bert.encoder.layer.8.output.dense.bias\n",
            "147: bert.encoder.layer.8.output.LayerNorm.weight\n",
            "148: bert.encoder.layer.8.output.LayerNorm.bias\n",
            "149: bert.encoder.layer.9.attention.self.query.weight\n",
            "150: bert.encoder.layer.9.attention.self.query.bias\n",
            "151: bert.encoder.layer.9.attention.self.key.weight\n",
            "152: bert.encoder.layer.9.attention.self.key.bias\n",
            "153: bert.encoder.layer.9.attention.self.value.weight\n",
            "154: bert.encoder.layer.9.attention.self.value.bias\n",
            "155: bert.encoder.layer.9.attention.output.dense.weight\n",
            "156: bert.encoder.layer.9.attention.output.dense.bias\n",
            "157: bert.encoder.layer.9.attention.output.LayerNorm.weight\n",
            "158: bert.encoder.layer.9.attention.output.LayerNorm.bias\n",
            "159: bert.encoder.layer.9.intermediate.dense.weight\n",
            "160: bert.encoder.layer.9.intermediate.dense.bias\n",
            "161: bert.encoder.layer.9.output.dense.weight\n",
            "162: bert.encoder.layer.9.output.dense.bias\n",
            "163: bert.encoder.layer.9.output.LayerNorm.weight\n",
            "164: bert.encoder.layer.9.output.LayerNorm.bias\n",
            "165: bert.encoder.layer.10.attention.self.query.weight\n",
            "166: bert.encoder.layer.10.attention.self.query.bias\n",
            "167: bert.encoder.layer.10.attention.self.key.weight\n",
            "168: bert.encoder.layer.10.attention.self.key.bias\n",
            "169: bert.encoder.layer.10.attention.self.value.weight\n",
            "170: bert.encoder.layer.10.attention.self.value.bias\n",
            "171: bert.encoder.layer.10.attention.output.dense.weight\n",
            "172: bert.encoder.layer.10.attention.output.dense.bias\n",
            "173: bert.encoder.layer.10.attention.output.LayerNorm.weight\n",
            "174: bert.encoder.layer.10.attention.output.LayerNorm.bias\n",
            "175: bert.encoder.layer.10.intermediate.dense.weight\n",
            "176: bert.encoder.layer.10.intermediate.dense.bias\n",
            "177: bert.encoder.layer.10.output.dense.weight\n",
            "178: bert.encoder.layer.10.output.dense.bias\n",
            "179: bert.encoder.layer.10.output.LayerNorm.weight\n",
            "180: bert.encoder.layer.10.output.LayerNorm.bias\n",
            "181: bert.encoder.layer.11.attention.self.query.weight\n",
            "182: bert.encoder.layer.11.attention.self.query.bias\n",
            "183: bert.encoder.layer.11.attention.self.key.weight\n",
            "184: bert.encoder.layer.11.attention.self.key.bias\n",
            "185: bert.encoder.layer.11.attention.self.value.weight\n",
            "186: bert.encoder.layer.11.attention.self.value.bias\n",
            "187: bert.encoder.layer.11.attention.output.dense.weight\n",
            "188: bert.encoder.layer.11.attention.output.dense.bias\n",
            "189: bert.encoder.layer.11.attention.output.LayerNorm.weight\n",
            "190: bert.encoder.layer.11.attention.output.LayerNorm.bias\n",
            "191: bert.encoder.layer.11.intermediate.dense.weight\n",
            "192: bert.encoder.layer.11.intermediate.dense.bias\n",
            "193: bert.encoder.layer.11.output.dense.weight\n",
            "194: bert.encoder.layer.11.output.dense.bias\n",
            "195: bert.encoder.layer.11.output.LayerNorm.weight\n",
            "196: bert.encoder.layer.11.output.LayerNorm.bias\n",
            "197: bert.pooler.dense.weight\n",
            "198: bert.pooler.dense.bias\n",
            "199: classifier.weight\n",
            "200: classifier.bias\n"
          ]
        }
      ],
      "source": [
        "# 층 이름을 출력합니다.\n",
        "i = 0\n",
        "for name, params in model.named_parameters():\n",
        "    print(f'{i}:', name)\n",
        "    i += 1"
      ]
    },
    {
      "cell_type": "markdown",
      "source": [
        "classifier(분류 헤드) 를 제외한 모든 층 동결하기"
      ],
      "metadata": {
        "id": "ed27iVKKpmnL"
      }
    },
    {
      "cell_type": "code",
      "execution_count": null,
      "metadata": {
        "id": "FnpGOry_Bm36"
      },
      "outputs": [],
      "source": [
        "for name, param in model.named_parameters():\n",
        "\n",
        "     # 분류 헤드는 동결하지 않습니다.\n",
        "     if name.startswith(\"classifier\"):\n",
        "\n",
        "        # 역전파시 그래디언트(dloss/dweight) 계산 여부 결정\n",
        "        # 이 파라미터는 훈련 중에 업데이트되어야 한다는 의미\n",
        "        param.requires_grad = True\n",
        "\n",
        "\n",
        "     # 그외 모든 층을 동결합니다.\n",
        "     else:\n",
        "        param.requires_grad = False\n"
      ]
    },
    {
      "cell_type": "code",
      "execution_count": null,
      "metadata": {
        "id": "vf_wYzpMB4uX",
        "collapsed": true,
        "colab": {
          "base_uri": "https://localhost:8080/"
        },
        "outputId": "d34a8f02-6931-4072-dc78-7984d6d2b245"
      },
      "outputs": [
        {
          "output_type": "stream",
          "name": "stdout",
          "text": [
            "0: bert.embeddings.word_embeddings.weight ----- False --- torch.Size([32000, 768])\n",
            "1: bert.embeddings.position_embeddings.weight ----- False --- torch.Size([512, 768])\n",
            "2: bert.embeddings.token_type_embeddings.weight ----- False --- torch.Size([2, 768])\n",
            "3: bert.embeddings.LayerNorm.weight ----- False --- torch.Size([768])\n",
            "4: bert.embeddings.LayerNorm.bias ----- False --- torch.Size([768])\n",
            "5: bert.encoder.layer.0.attention.self.query.weight ----- False --- torch.Size([768, 768])\n",
            "6: bert.encoder.layer.0.attention.self.query.bias ----- False --- torch.Size([768])\n",
            "7: bert.encoder.layer.0.attention.self.key.weight ----- False --- torch.Size([768, 768])\n",
            "8: bert.encoder.layer.0.attention.self.key.bias ----- False --- torch.Size([768])\n",
            "9: bert.encoder.layer.0.attention.self.value.weight ----- False --- torch.Size([768, 768])\n",
            "10: bert.encoder.layer.0.attention.self.value.bias ----- False --- torch.Size([768])\n",
            "11: bert.encoder.layer.0.attention.output.dense.weight ----- False --- torch.Size([768, 768])\n",
            "12: bert.encoder.layer.0.attention.output.dense.bias ----- False --- torch.Size([768])\n",
            "13: bert.encoder.layer.0.attention.output.LayerNorm.weight ----- False --- torch.Size([768])\n",
            "14: bert.encoder.layer.0.attention.output.LayerNorm.bias ----- False --- torch.Size([768])\n",
            "15: bert.encoder.layer.0.intermediate.dense.weight ----- False --- torch.Size([3072, 768])\n",
            "16: bert.encoder.layer.0.intermediate.dense.bias ----- False --- torch.Size([3072])\n",
            "17: bert.encoder.layer.0.output.dense.weight ----- False --- torch.Size([768, 3072])\n",
            "18: bert.encoder.layer.0.output.dense.bias ----- False --- torch.Size([768])\n",
            "19: bert.encoder.layer.0.output.LayerNorm.weight ----- False --- torch.Size([768])\n",
            "20: bert.encoder.layer.0.output.LayerNorm.bias ----- False --- torch.Size([768])\n",
            "21: bert.encoder.layer.1.attention.self.query.weight ----- False --- torch.Size([768, 768])\n",
            "22: bert.encoder.layer.1.attention.self.query.bias ----- False --- torch.Size([768])\n",
            "23: bert.encoder.layer.1.attention.self.key.weight ----- False --- torch.Size([768, 768])\n",
            "24: bert.encoder.layer.1.attention.self.key.bias ----- False --- torch.Size([768])\n",
            "25: bert.encoder.layer.1.attention.self.value.weight ----- False --- torch.Size([768, 768])\n",
            "26: bert.encoder.layer.1.attention.self.value.bias ----- False --- torch.Size([768])\n",
            "27: bert.encoder.layer.1.attention.output.dense.weight ----- False --- torch.Size([768, 768])\n",
            "28: bert.encoder.layer.1.attention.output.dense.bias ----- False --- torch.Size([768])\n",
            "29: bert.encoder.layer.1.attention.output.LayerNorm.weight ----- False --- torch.Size([768])\n",
            "30: bert.encoder.layer.1.attention.output.LayerNorm.bias ----- False --- torch.Size([768])\n",
            "31: bert.encoder.layer.1.intermediate.dense.weight ----- False --- torch.Size([3072, 768])\n",
            "32: bert.encoder.layer.1.intermediate.dense.bias ----- False --- torch.Size([3072])\n",
            "33: bert.encoder.layer.1.output.dense.weight ----- False --- torch.Size([768, 3072])\n",
            "34: bert.encoder.layer.1.output.dense.bias ----- False --- torch.Size([768])\n",
            "35: bert.encoder.layer.1.output.LayerNorm.weight ----- False --- torch.Size([768])\n",
            "36: bert.encoder.layer.1.output.LayerNorm.bias ----- False --- torch.Size([768])\n",
            "37: bert.encoder.layer.2.attention.self.query.weight ----- False --- torch.Size([768, 768])\n",
            "38: bert.encoder.layer.2.attention.self.query.bias ----- False --- torch.Size([768])\n",
            "39: bert.encoder.layer.2.attention.self.key.weight ----- False --- torch.Size([768, 768])\n",
            "40: bert.encoder.layer.2.attention.self.key.bias ----- False --- torch.Size([768])\n",
            "41: bert.encoder.layer.2.attention.self.value.weight ----- False --- torch.Size([768, 768])\n",
            "42: bert.encoder.layer.2.attention.self.value.bias ----- False --- torch.Size([768])\n",
            "43: bert.encoder.layer.2.attention.output.dense.weight ----- False --- torch.Size([768, 768])\n",
            "44: bert.encoder.layer.2.attention.output.dense.bias ----- False --- torch.Size([768])\n",
            "45: bert.encoder.layer.2.attention.output.LayerNorm.weight ----- False --- torch.Size([768])\n",
            "46: bert.encoder.layer.2.attention.output.LayerNorm.bias ----- False --- torch.Size([768])\n",
            "47: bert.encoder.layer.2.intermediate.dense.weight ----- False --- torch.Size([3072, 768])\n",
            "48: bert.encoder.layer.2.intermediate.dense.bias ----- False --- torch.Size([3072])\n",
            "49: bert.encoder.layer.2.output.dense.weight ----- False --- torch.Size([768, 3072])\n",
            "50: bert.encoder.layer.2.output.dense.bias ----- False --- torch.Size([768])\n",
            "51: bert.encoder.layer.2.output.LayerNorm.weight ----- False --- torch.Size([768])\n",
            "52: bert.encoder.layer.2.output.LayerNorm.bias ----- False --- torch.Size([768])\n",
            "53: bert.encoder.layer.3.attention.self.query.weight ----- False --- torch.Size([768, 768])\n",
            "54: bert.encoder.layer.3.attention.self.query.bias ----- False --- torch.Size([768])\n",
            "55: bert.encoder.layer.3.attention.self.key.weight ----- False --- torch.Size([768, 768])\n",
            "56: bert.encoder.layer.3.attention.self.key.bias ----- False --- torch.Size([768])\n",
            "57: bert.encoder.layer.3.attention.self.value.weight ----- False --- torch.Size([768, 768])\n",
            "58: bert.encoder.layer.3.attention.self.value.bias ----- False --- torch.Size([768])\n",
            "59: bert.encoder.layer.3.attention.output.dense.weight ----- False --- torch.Size([768, 768])\n",
            "60: bert.encoder.layer.3.attention.output.dense.bias ----- False --- torch.Size([768])\n",
            "61: bert.encoder.layer.3.attention.output.LayerNorm.weight ----- False --- torch.Size([768])\n",
            "62: bert.encoder.layer.3.attention.output.LayerNorm.bias ----- False --- torch.Size([768])\n",
            "63: bert.encoder.layer.3.intermediate.dense.weight ----- False --- torch.Size([3072, 768])\n",
            "64: bert.encoder.layer.3.intermediate.dense.bias ----- False --- torch.Size([3072])\n",
            "65: bert.encoder.layer.3.output.dense.weight ----- False --- torch.Size([768, 3072])\n",
            "66: bert.encoder.layer.3.output.dense.bias ----- False --- torch.Size([768])\n",
            "67: bert.encoder.layer.3.output.LayerNorm.weight ----- False --- torch.Size([768])\n",
            "68: bert.encoder.layer.3.output.LayerNorm.bias ----- False --- torch.Size([768])\n",
            "69: bert.encoder.layer.4.attention.self.query.weight ----- False --- torch.Size([768, 768])\n",
            "70: bert.encoder.layer.4.attention.self.query.bias ----- False --- torch.Size([768])\n",
            "71: bert.encoder.layer.4.attention.self.key.weight ----- False --- torch.Size([768, 768])\n",
            "72: bert.encoder.layer.4.attention.self.key.bias ----- False --- torch.Size([768])\n",
            "73: bert.encoder.layer.4.attention.self.value.weight ----- False --- torch.Size([768, 768])\n",
            "74: bert.encoder.layer.4.attention.self.value.bias ----- False --- torch.Size([768])\n",
            "75: bert.encoder.layer.4.attention.output.dense.weight ----- False --- torch.Size([768, 768])\n",
            "76: bert.encoder.layer.4.attention.output.dense.bias ----- False --- torch.Size([768])\n",
            "77: bert.encoder.layer.4.attention.output.LayerNorm.weight ----- False --- torch.Size([768])\n",
            "78: bert.encoder.layer.4.attention.output.LayerNorm.bias ----- False --- torch.Size([768])\n",
            "79: bert.encoder.layer.4.intermediate.dense.weight ----- False --- torch.Size([3072, 768])\n",
            "80: bert.encoder.layer.4.intermediate.dense.bias ----- False --- torch.Size([3072])\n",
            "81: bert.encoder.layer.4.output.dense.weight ----- False --- torch.Size([768, 3072])\n",
            "82: bert.encoder.layer.4.output.dense.bias ----- False --- torch.Size([768])\n",
            "83: bert.encoder.layer.4.output.LayerNorm.weight ----- False --- torch.Size([768])\n",
            "84: bert.encoder.layer.4.output.LayerNorm.bias ----- False --- torch.Size([768])\n",
            "85: bert.encoder.layer.5.attention.self.query.weight ----- False --- torch.Size([768, 768])\n",
            "86: bert.encoder.layer.5.attention.self.query.bias ----- False --- torch.Size([768])\n",
            "87: bert.encoder.layer.5.attention.self.key.weight ----- False --- torch.Size([768, 768])\n",
            "88: bert.encoder.layer.5.attention.self.key.bias ----- False --- torch.Size([768])\n",
            "89: bert.encoder.layer.5.attention.self.value.weight ----- False --- torch.Size([768, 768])\n",
            "90: bert.encoder.layer.5.attention.self.value.bias ----- False --- torch.Size([768])\n",
            "91: bert.encoder.layer.5.attention.output.dense.weight ----- False --- torch.Size([768, 768])\n",
            "92: bert.encoder.layer.5.attention.output.dense.bias ----- False --- torch.Size([768])\n",
            "93: bert.encoder.layer.5.attention.output.LayerNorm.weight ----- False --- torch.Size([768])\n",
            "94: bert.encoder.layer.5.attention.output.LayerNorm.bias ----- False --- torch.Size([768])\n",
            "95: bert.encoder.layer.5.intermediate.dense.weight ----- False --- torch.Size([3072, 768])\n",
            "96: bert.encoder.layer.5.intermediate.dense.bias ----- False --- torch.Size([3072])\n",
            "97: bert.encoder.layer.5.output.dense.weight ----- False --- torch.Size([768, 3072])\n",
            "98: bert.encoder.layer.5.output.dense.bias ----- False --- torch.Size([768])\n",
            "99: bert.encoder.layer.5.output.LayerNorm.weight ----- False --- torch.Size([768])\n",
            "100: bert.encoder.layer.5.output.LayerNorm.bias ----- False --- torch.Size([768])\n",
            "101: bert.encoder.layer.6.attention.self.query.weight ----- False --- torch.Size([768, 768])\n",
            "102: bert.encoder.layer.6.attention.self.query.bias ----- False --- torch.Size([768])\n",
            "103: bert.encoder.layer.6.attention.self.key.weight ----- False --- torch.Size([768, 768])\n",
            "104: bert.encoder.layer.6.attention.self.key.bias ----- False --- torch.Size([768])\n",
            "105: bert.encoder.layer.6.attention.self.value.weight ----- False --- torch.Size([768, 768])\n",
            "106: bert.encoder.layer.6.attention.self.value.bias ----- False --- torch.Size([768])\n",
            "107: bert.encoder.layer.6.attention.output.dense.weight ----- False --- torch.Size([768, 768])\n",
            "108: bert.encoder.layer.6.attention.output.dense.bias ----- False --- torch.Size([768])\n",
            "109: bert.encoder.layer.6.attention.output.LayerNorm.weight ----- False --- torch.Size([768])\n",
            "110: bert.encoder.layer.6.attention.output.LayerNorm.bias ----- False --- torch.Size([768])\n",
            "111: bert.encoder.layer.6.intermediate.dense.weight ----- False --- torch.Size([3072, 768])\n",
            "112: bert.encoder.layer.6.intermediate.dense.bias ----- False --- torch.Size([3072])\n",
            "113: bert.encoder.layer.6.output.dense.weight ----- False --- torch.Size([768, 3072])\n",
            "114: bert.encoder.layer.6.output.dense.bias ----- False --- torch.Size([768])\n",
            "115: bert.encoder.layer.6.output.LayerNorm.weight ----- False --- torch.Size([768])\n",
            "116: bert.encoder.layer.6.output.LayerNorm.bias ----- False --- torch.Size([768])\n",
            "117: bert.encoder.layer.7.attention.self.query.weight ----- False --- torch.Size([768, 768])\n",
            "118: bert.encoder.layer.7.attention.self.query.bias ----- False --- torch.Size([768])\n",
            "119: bert.encoder.layer.7.attention.self.key.weight ----- False --- torch.Size([768, 768])\n",
            "120: bert.encoder.layer.7.attention.self.key.bias ----- False --- torch.Size([768])\n",
            "121: bert.encoder.layer.7.attention.self.value.weight ----- False --- torch.Size([768, 768])\n",
            "122: bert.encoder.layer.7.attention.self.value.bias ----- False --- torch.Size([768])\n",
            "123: bert.encoder.layer.7.attention.output.dense.weight ----- False --- torch.Size([768, 768])\n",
            "124: bert.encoder.layer.7.attention.output.dense.bias ----- False --- torch.Size([768])\n",
            "125: bert.encoder.layer.7.attention.output.LayerNorm.weight ----- False --- torch.Size([768])\n",
            "126: bert.encoder.layer.7.attention.output.LayerNorm.bias ----- False --- torch.Size([768])\n",
            "127: bert.encoder.layer.7.intermediate.dense.weight ----- False --- torch.Size([3072, 768])\n",
            "128: bert.encoder.layer.7.intermediate.dense.bias ----- False --- torch.Size([3072])\n",
            "129: bert.encoder.layer.7.output.dense.weight ----- False --- torch.Size([768, 3072])\n",
            "130: bert.encoder.layer.7.output.dense.bias ----- False --- torch.Size([768])\n",
            "131: bert.encoder.layer.7.output.LayerNorm.weight ----- False --- torch.Size([768])\n",
            "132: bert.encoder.layer.7.output.LayerNorm.bias ----- False --- torch.Size([768])\n",
            "133: bert.encoder.layer.8.attention.self.query.weight ----- False --- torch.Size([768, 768])\n",
            "134: bert.encoder.layer.8.attention.self.query.bias ----- False --- torch.Size([768])\n",
            "135: bert.encoder.layer.8.attention.self.key.weight ----- False --- torch.Size([768, 768])\n",
            "136: bert.encoder.layer.8.attention.self.key.bias ----- False --- torch.Size([768])\n",
            "137: bert.encoder.layer.8.attention.self.value.weight ----- False --- torch.Size([768, 768])\n",
            "138: bert.encoder.layer.8.attention.self.value.bias ----- False --- torch.Size([768])\n",
            "139: bert.encoder.layer.8.attention.output.dense.weight ----- False --- torch.Size([768, 768])\n",
            "140: bert.encoder.layer.8.attention.output.dense.bias ----- False --- torch.Size([768])\n",
            "141: bert.encoder.layer.8.attention.output.LayerNorm.weight ----- False --- torch.Size([768])\n",
            "142: bert.encoder.layer.8.attention.output.LayerNorm.bias ----- False --- torch.Size([768])\n",
            "143: bert.encoder.layer.8.intermediate.dense.weight ----- False --- torch.Size([3072, 768])\n",
            "144: bert.encoder.layer.8.intermediate.dense.bias ----- False --- torch.Size([3072])\n",
            "145: bert.encoder.layer.8.output.dense.weight ----- False --- torch.Size([768, 3072])\n",
            "146: bert.encoder.layer.8.output.dense.bias ----- False --- torch.Size([768])\n",
            "147: bert.encoder.layer.8.output.LayerNorm.weight ----- False --- torch.Size([768])\n",
            "148: bert.encoder.layer.8.output.LayerNorm.bias ----- False --- torch.Size([768])\n",
            "149: bert.encoder.layer.9.attention.self.query.weight ----- False --- torch.Size([768, 768])\n",
            "150: bert.encoder.layer.9.attention.self.query.bias ----- False --- torch.Size([768])\n",
            "151: bert.encoder.layer.9.attention.self.key.weight ----- False --- torch.Size([768, 768])\n",
            "152: bert.encoder.layer.9.attention.self.key.bias ----- False --- torch.Size([768])\n",
            "153: bert.encoder.layer.9.attention.self.value.weight ----- False --- torch.Size([768, 768])\n",
            "154: bert.encoder.layer.9.attention.self.value.bias ----- False --- torch.Size([768])\n",
            "155: bert.encoder.layer.9.attention.output.dense.weight ----- False --- torch.Size([768, 768])\n",
            "156: bert.encoder.layer.9.attention.output.dense.bias ----- False --- torch.Size([768])\n",
            "157: bert.encoder.layer.9.attention.output.LayerNorm.weight ----- False --- torch.Size([768])\n",
            "158: bert.encoder.layer.9.attention.output.LayerNorm.bias ----- False --- torch.Size([768])\n",
            "159: bert.encoder.layer.9.intermediate.dense.weight ----- False --- torch.Size([3072, 768])\n",
            "160: bert.encoder.layer.9.intermediate.dense.bias ----- False --- torch.Size([3072])\n",
            "161: bert.encoder.layer.9.output.dense.weight ----- False --- torch.Size([768, 3072])\n",
            "162: bert.encoder.layer.9.output.dense.bias ----- False --- torch.Size([768])\n",
            "163: bert.encoder.layer.9.output.LayerNorm.weight ----- False --- torch.Size([768])\n",
            "164: bert.encoder.layer.9.output.LayerNorm.bias ----- False --- torch.Size([768])\n",
            "165: bert.encoder.layer.10.attention.self.query.weight ----- False --- torch.Size([768, 768])\n",
            "166: bert.encoder.layer.10.attention.self.query.bias ----- False --- torch.Size([768])\n",
            "167: bert.encoder.layer.10.attention.self.key.weight ----- False --- torch.Size([768, 768])\n",
            "168: bert.encoder.layer.10.attention.self.key.bias ----- False --- torch.Size([768])\n",
            "169: bert.encoder.layer.10.attention.self.value.weight ----- False --- torch.Size([768, 768])\n",
            "170: bert.encoder.layer.10.attention.self.value.bias ----- False --- torch.Size([768])\n",
            "171: bert.encoder.layer.10.attention.output.dense.weight ----- False --- torch.Size([768, 768])\n",
            "172: bert.encoder.layer.10.attention.output.dense.bias ----- False --- torch.Size([768])\n",
            "173: bert.encoder.layer.10.attention.output.LayerNorm.weight ----- False --- torch.Size([768])\n",
            "174: bert.encoder.layer.10.attention.output.LayerNorm.bias ----- False --- torch.Size([768])\n",
            "175: bert.encoder.layer.10.intermediate.dense.weight ----- False --- torch.Size([3072, 768])\n",
            "176: bert.encoder.layer.10.intermediate.dense.bias ----- False --- torch.Size([3072])\n",
            "177: bert.encoder.layer.10.output.dense.weight ----- False --- torch.Size([768, 3072])\n",
            "178: bert.encoder.layer.10.output.dense.bias ----- False --- torch.Size([768])\n",
            "179: bert.encoder.layer.10.output.LayerNorm.weight ----- False --- torch.Size([768])\n",
            "180: bert.encoder.layer.10.output.LayerNorm.bias ----- False --- torch.Size([768])\n",
            "181: bert.encoder.layer.11.attention.self.query.weight ----- False --- torch.Size([768, 768])\n",
            "182: bert.encoder.layer.11.attention.self.query.bias ----- False --- torch.Size([768])\n",
            "183: bert.encoder.layer.11.attention.self.key.weight ----- False --- torch.Size([768, 768])\n",
            "184: bert.encoder.layer.11.attention.self.key.bias ----- False --- torch.Size([768])\n",
            "185: bert.encoder.layer.11.attention.self.value.weight ----- False --- torch.Size([768, 768])\n",
            "186: bert.encoder.layer.11.attention.self.value.bias ----- False --- torch.Size([768])\n",
            "187: bert.encoder.layer.11.attention.output.dense.weight ----- False --- torch.Size([768, 768])\n",
            "188: bert.encoder.layer.11.attention.output.dense.bias ----- False --- torch.Size([768])\n",
            "189: bert.encoder.layer.11.attention.output.LayerNorm.weight ----- False --- torch.Size([768])\n",
            "190: bert.encoder.layer.11.attention.output.LayerNorm.bias ----- False --- torch.Size([768])\n",
            "191: bert.encoder.layer.11.intermediate.dense.weight ----- False --- torch.Size([3072, 768])\n",
            "192: bert.encoder.layer.11.intermediate.dense.bias ----- False --- torch.Size([3072])\n",
            "193: bert.encoder.layer.11.output.dense.weight ----- False --- torch.Size([768, 3072])\n",
            "194: bert.encoder.layer.11.output.dense.bias ----- False --- torch.Size([768])\n",
            "195: bert.encoder.layer.11.output.LayerNorm.weight ----- False --- torch.Size([768])\n",
            "196: bert.encoder.layer.11.output.LayerNorm.bias ----- False --- torch.Size([768])\n",
            "197: bert.pooler.dense.weight ----- False --- torch.Size([768, 768])\n",
            "198: bert.pooler.dense.bias ----- False --- torch.Size([768])\n",
            "199: classifier.weight ----- True --- torch.Size([2, 768])\n",
            "200: classifier.bias ----- True --- torch.Size([2])\n"
          ]
        }
      ],
      "source": [
        "# 모델이 올바르게 업데이트되었는지 확인합니다.\n",
        "for index, (name, param) in enumerate(model.named_parameters()):\n",
        "\n",
        "  print(f\"{index}: {name} ----- {param.requires_grad} --- {param.shape}\")\n",
        "\n",
        "# 동결 안한 층(분류 헤드)\n",
        "#  - classifier.weight\n",
        "#  - classifier.bias"
      ]
    },
    {
      "cell_type": "code",
      "execution_count": null,
      "metadata": {
        "id": "rVi36FJSG4ue",
        "colab": {
          "base_uri": "https://localhost:8080/",
          "height": 159
        },
        "outputId": "a182f369-4a5b-4770-b4fd-6a7d3c788ed5"
      },
      "outputs": [
        {
          "output_type": "display_data",
          "data": {
            "text/plain": [
              "<IPython.core.display.HTML object>"
            ],
            "text/html": [
              "\n",
              "    <div>\n",
              "      \n",
              "      <progress value='532' max='532' style='width:300px; height:20px; vertical-align: middle;'></progress>\n",
              "      [532/532 00:12, Epoch 1/1]\n",
              "    </div>\n",
              "    <table border=\"1\" class=\"dataframe\">\n",
              "  <thead>\n",
              " <tr style=\"text-align: left;\">\n",
              "      <th>Step</th>\n",
              "      <th>Training Loss</th>\n",
              "    </tr>\n",
              "  </thead>\n",
              "  <tbody>\n",
              "    <tr>\n",
              "      <td>500</td>\n",
              "      <td>0.680400</td>\n",
              "    </tr>\n",
              "  </tbody>\n",
              "</table><p>"
            ]
          },
          "metadata": {}
        },
        {
          "output_type": "execute_result",
          "data": {
            "text/plain": [
              "TrainOutput(global_step=532, training_loss=0.6790811997607238, metrics={'train_runtime': 12.2025, 'train_samples_per_second': 696.576, 'train_steps_per_second': 43.597, 'total_flos': 275847274883520.0, 'train_loss': 0.6790811997607238, 'epoch': 1.0})"
            ]
          },
          "metadata": {},
          "execution_count": 19
        }
      ],
      "source": [
        "from transformers import TrainingArguments, Trainer\n",
        "\n",
        "# 훈련 과정을 실행할 Trainer 객체를 만듭니다.\n",
        "trainer = Trainer(\n",
        "   model=model,\n",
        "   args=training_args,\n",
        "   train_dataset=tokenized_train,\n",
        "   eval_dataset=tokenized_test,\n",
        "   processing_class=tokenizer,\n",
        "   data_collator=data_collator,\n",
        "   compute_metrics=compute_metrics,\n",
        ")\n",
        "trainer.train()"
      ]
    },
    {
      "cell_type": "code",
      "execution_count": null,
      "metadata": {
        "id": "eCPpixB1HCsI",
        "colab": {
          "base_uri": "https://localhost:8080/",
          "height": 141
        },
        "outputId": "1f5a61aa-bdf9-4e0d-89e8-310909ef9cdf"
      },
      "outputs": [
        {
          "output_type": "display_data",
          "data": {
            "text/plain": [
              "<IPython.core.display.HTML object>"
            ],
            "text/html": [
              "\n",
              "    <div>\n",
              "      \n",
              "      <progress value='63' max='63' style='width:300px; height:20px; vertical-align: middle;'></progress>\n",
              "      [63/63 00:01]\n",
              "    </div>\n",
              "    "
            ]
          },
          "metadata": {}
        },
        {
          "output_type": "execute_result",
          "data": {
            "text/plain": [
              "{'eval_loss': 0.6491261124610901,\n",
              " 'eval_f1': 0.646,\n",
              " 'eval_runtime': 1.4295,\n",
              " 'eval_samples_per_second': 699.526,\n",
              " 'eval_steps_per_second': 44.07,\n",
              " 'epoch': 1.0}"
            ]
          },
          "metadata": {},
          "execution_count": 20
        }
      ],
      "source": [
        "trainer.evaluate()\n",
        "# 0.646"
      ]
    },
    {
      "cell_type": "markdown",
      "metadata": {
        "id": "Uw729mLhIQL6"
      },
      "source": [
        "### **partial fine-tuning: 10개의 인코더 블록 동결하기**"
      ]
    },
    {
      "cell_type": "code",
      "source": [
        "# 모델과 토크나이저를 로드합니다.\n",
        "model = AutoModelForSequenceClassification.from_pretrained(model_id, num_labels=2)\n",
        "tokenizer = AutoTokenizer.from_pretrained(model_id)"
      ],
      "metadata": {
        "colab": {
          "base_uri": "https://localhost:8080/"
        },
        "id": "ohBH8crKuCrw",
        "outputId": "4d02ee25-075a-4801-860b-320f3caeeb51"
      },
      "execution_count": null,
      "outputs": [
        {
          "output_type": "stream",
          "name": "stderr",
          "text": [
            "Some weights of BertForSequenceClassification were not initialized from the model checkpoint at klue/bert-base and are newly initialized: ['classifier.bias', 'classifier.weight']\n",
            "You should probably TRAIN this model on a down-stream task to be able to use it for predictions and inference.\n"
          ]
        }
      ]
    },
    {
      "cell_type": "code",
      "execution_count": null,
      "metadata": {
        "id": "QyleqOHICBjj",
        "colab": {
          "base_uri": "https://localhost:8080/",
          "height": 231
        },
        "outputId": "2b416b69-aa81-4150-9fb5-882e74a4f909"
      },
      "outputs": [
        {
          "output_type": "display_data",
          "data": {
            "text/plain": [
              "<IPython.core.display.HTML object>"
            ],
            "text/html": [
              "\n",
              "    <div>\n",
              "      \n",
              "      <progress value='532' max='532' style='width:300px; height:20px; vertical-align: middle;'></progress>\n",
              "      [532/532 00:14, Epoch 1/1]\n",
              "    </div>\n",
              "    <table border=\"1\" class=\"dataframe\">\n",
              "  <thead>\n",
              " <tr style=\"text-align: left;\">\n",
              "      <th>Step</th>\n",
              "      <th>Training Loss</th>\n",
              "    </tr>\n",
              "  </thead>\n",
              "  <tbody>\n",
              "    <tr>\n",
              "      <td>500</td>\n",
              "      <td>0.439600</td>\n",
              "    </tr>\n",
              "  </tbody>\n",
              "</table><p>"
            ]
          },
          "metadata": {}
        },
        {
          "output_type": "display_data",
          "data": {
            "text/plain": [
              "<IPython.core.display.HTML object>"
            ],
            "text/html": [
              "\n",
              "    <div>\n",
              "      \n",
              "      <progress value='63' max='63' style='width:300px; height:20px; vertical-align: middle;'></progress>\n",
              "      [63/63 00:01]\n",
              "    </div>\n",
              "    "
            ]
          },
          "metadata": {}
        },
        {
          "output_type": "execute_result",
          "data": {
            "text/plain": [
              "{'eval_loss': 0.3499554395675659,\n",
              " 'eval_f1': 0.8497409326424871,\n",
              " 'eval_runtime': 1.3457,\n",
              " 'eval_samples_per_second': 743.11,\n",
              " 'eval_steps_per_second': 46.816,\n",
              " 'epoch': 1.0}"
            ]
          },
          "metadata": {},
          "execution_count": 22
        }
      ],
      "source": [
        "'''\n",
        "<하드코딩>\n",
        "11번째 인코더 블록은 인덱스 165에서 시작합니다.\n",
        "이 블록 이전의 모든 층을 동결합니다.\n",
        "for index, (name, param) in enumerate(model.named_parameters()):\n",
        "if index < 165:\n",
        "param.requires_grad = False\n",
        "'''\n",
        "\n",
        "# 항상 11층이 165행부터가 아닐 수도 있기 때문에, 하드코딩 말고 동결시킬 레이어 층을 명시적으로 이용\n",
        "\n",
        "# BERT 전체 동결\n",
        "for param in model.bert.parameters():\n",
        "    param.requires_grad = False\n",
        "\n",
        "# 몇 층까지 동결시킬지\n",
        "num_layers_to_freeze = 10\n",
        "\n",
        "# 11개 ~ 마지막 레이어층까진 그래디언트 계산 o\n",
        "for i in range(num_layers_to_freeze, 12):\n",
        "    for param in model.bert.encoder.layer[i].parameters():\n",
        "        param.requires_grad = True\n",
        "\n",
        "# Pooler 학습 (CLS 토큰 변환층)\n",
        "for param in model.bert.pooler.parameters():\n",
        "    param.requires_grad = True\n",
        "\n",
        "# 헤드(Classifier) 학습\n",
        "for param in model.classifier.parameters():\n",
        "    param.requires_grad = True  # ✏️\n",
        "\n",
        "# 훈련 과정을 실행할 Trainer 객체를 만듭니다.\n",
        "trainer = Trainer(\n",
        "   model=model,\n",
        "   args=training_args,\n",
        "   train_dataset=tokenized_train,\n",
        "   eval_dataset=tokenized_test,\n",
        "   processing_class=tokenizer,\n",
        "   data_collator=data_collator,\n",
        "   compute_metrics=compute_metrics,\n",
        ")\n",
        "trainer.train()\n",
        "trainer.evaluate()\n",
        "# 0.85"
      ]
    },
    {
      "cell_type": "markdown",
      "source": [
        "### partial fine-tuning 이유\n",
        "\n",
        "1. 학습 속도 향상\n",
        "  - 동결된 층은 그래디언트 계산을 하지 않음\n",
        "\n",
        "\n",
        "2. 메모리 절약\n",
        "  - 그래디언트 저장 안 함 -> GPU 메모리 절약\n",
        "  \n",
        "\n",
        "3. 학습 안정성 향상 -> 과적합 방지\n",
        "  - 데이터 적을 때 -> 학습 파라미터 down -> 과적합 위험 down\n",
        "4. 사전 학습 지식 보존\n",
        "  - 하위 층의 일반적 언어 지식 유지\n",
        "  - Catastrophic Forgetting 방지\n",
        "  - 상위 층만 새 태스크에 특화 (ex: 감정 분석에 필요한 부분만 조정)\n",
        "5. 전이학습, 다중 태스크 학습 용이\n"
      ],
      "metadata": {
        "id": "ojlzbPN8wOF_"
      }
    },
    {
      "cell_type": "markdown",
      "metadata": {
        "id": "HJRMWsLdA913"
      },
      "source": [
        "### **인코더 블록 동결의 효과**\n",
        "인코더 블록을 점차 훈련하면 모든 인코더 블록을 훈련했을 때의 성능과 거의 비슷한 수준에 도달합니다."
      ]
    },
    {
      "cell_type": "code",
      "execution_count": null,
      "metadata": {
        "id": "ADvKJjNaFAot",
        "colab": {
          "base_uri": "https://localhost:8080/",
          "height": 1000
        },
        "outputId": "8d090279-2bb9-4cfc-9e77-d206c405743d"
      },
      "outputs": [
        {
          "output_type": "stream",
          "name": "stderr",
          "text": [
            "Some weights of BertForSequenceClassification were not initialized from the model checkpoint at klue/bert-base and are newly initialized: ['classifier.bias', 'classifier.weight']\n",
            "You should probably TRAIN this model on a down-stream task to be able to use it for predictions and inference.\n"
          ]
        },
        {
          "output_type": "display_data",
          "data": {
            "text/plain": [
              "<IPython.core.display.HTML object>"
            ],
            "text/html": [
              "\n",
              "    <div>\n",
              "      \n",
              "      <progress value='532' max='532' style='width:300px; height:20px; vertical-align: middle;'></progress>\n",
              "      [532/532 00:27, Epoch 1/1]\n",
              "    </div>\n",
              "    <table border=\"1\" class=\"dataframe\">\n",
              "  <thead>\n",
              " <tr style=\"text-align: left;\">\n",
              "      <th>Step</th>\n",
              "      <th>Training Loss</th>\n",
              "    </tr>\n",
              "  </thead>\n",
              "  <tbody>\n",
              "    <tr>\n",
              "      <td>500</td>\n",
              "      <td>0.375100</td>\n",
              "    </tr>\n",
              "  </tbody>\n",
              "</table><p>"
            ]
          },
          "metadata": {}
        },
        {
          "output_type": "display_data",
          "data": {
            "text/plain": [
              "<IPython.core.display.HTML object>"
            ],
            "text/html": [
              "\n",
              "    <div>\n",
              "      \n",
              "      <progress value='63' max='63' style='width:300px; height:20px; vertical-align: middle;'></progress>\n",
              "      [63/63 00:01]\n",
              "    </div>\n",
              "    "
            ]
          },
          "metadata": {}
        },
        {
          "output_type": "stream",
          "name": "stderr",
          "text": [
            "Some weights of BertForSequenceClassification were not initialized from the model checkpoint at klue/bert-base and are newly initialized: ['classifier.bias', 'classifier.weight']\n",
            "You should probably TRAIN this model on a down-stream task to be able to use it for predictions and inference.\n"
          ]
        },
        {
          "output_type": "display_data",
          "data": {
            "text/plain": [
              "<IPython.core.display.HTML object>"
            ],
            "text/html": [
              "\n",
              "    <div>\n",
              "      \n",
              "      <progress value='532' max='532' style='width:300px; height:20px; vertical-align: middle;'></progress>\n",
              "      [532/532 00:27, Epoch 1/1]\n",
              "    </div>\n",
              "    <table border=\"1\" class=\"dataframe\">\n",
              "  <thead>\n",
              " <tr style=\"text-align: left;\">\n",
              "      <th>Step</th>\n",
              "      <th>Training Loss</th>\n",
              "    </tr>\n",
              "  </thead>\n",
              "  <tbody>\n",
              "    <tr>\n",
              "      <td>500</td>\n",
              "      <td>0.375800</td>\n",
              "    </tr>\n",
              "  </tbody>\n",
              "</table><p>"
            ]
          },
          "metadata": {}
        },
        {
          "output_type": "display_data",
          "data": {
            "text/plain": [
              "<IPython.core.display.HTML object>"
            ],
            "text/html": [
              "\n",
              "    <div>\n",
              "      \n",
              "      <progress value='63' max='63' style='width:300px; height:20px; vertical-align: middle;'></progress>\n",
              "      [63/63 00:01]\n",
              "    </div>\n",
              "    "
            ]
          },
          "metadata": {}
        },
        {
          "output_type": "stream",
          "name": "stderr",
          "text": [
            "Some weights of BertForSequenceClassification were not initialized from the model checkpoint at klue/bert-base and are newly initialized: ['classifier.bias', 'classifier.weight']\n",
            "You should probably TRAIN this model on a down-stream task to be able to use it for predictions and inference.\n"
          ]
        },
        {
          "output_type": "display_data",
          "data": {
            "text/plain": [
              "<IPython.core.display.HTML object>"
            ],
            "text/html": [
              "\n",
              "    <div>\n",
              "      \n",
              "      <progress value='532' max='532' style='width:300px; height:20px; vertical-align: middle;'></progress>\n",
              "      [532/532 00:26, Epoch 1/1]\n",
              "    </div>\n",
              "    <table border=\"1\" class=\"dataframe\">\n",
              "  <thead>\n",
              " <tr style=\"text-align: left;\">\n",
              "      <th>Step</th>\n",
              "      <th>Training Loss</th>\n",
              "    </tr>\n",
              "  </thead>\n",
              "  <tbody>\n",
              "    <tr>\n",
              "      <td>500</td>\n",
              "      <td>0.377000</td>\n",
              "    </tr>\n",
              "  </tbody>\n",
              "</table><p>"
            ]
          },
          "metadata": {}
        },
        {
          "output_type": "display_data",
          "data": {
            "text/plain": [
              "<IPython.core.display.HTML object>"
            ],
            "text/html": [
              "\n",
              "    <div>\n",
              "      \n",
              "      <progress value='63' max='63' style='width:300px; height:20px; vertical-align: middle;'></progress>\n",
              "      [63/63 00:01]\n",
              "    </div>\n",
              "    "
            ]
          },
          "metadata": {}
        },
        {
          "output_type": "stream",
          "name": "stderr",
          "text": [
            "Some weights of BertForSequenceClassification were not initialized from the model checkpoint at klue/bert-base and are newly initialized: ['classifier.bias', 'classifier.weight']\n",
            "You should probably TRAIN this model on a down-stream task to be able to use it for predictions and inference.\n"
          ]
        },
        {
          "output_type": "display_data",
          "data": {
            "text/plain": [
              "<IPython.core.display.HTML object>"
            ],
            "text/html": [
              "\n",
              "    <div>\n",
              "      \n",
              "      <progress value='532' max='532' style='width:300px; height:20px; vertical-align: middle;'></progress>\n",
              "      [532/532 00:25, Epoch 1/1]\n",
              "    </div>\n",
              "    <table border=\"1\" class=\"dataframe\">\n",
              "  <thead>\n",
              " <tr style=\"text-align: left;\">\n",
              "      <th>Step</th>\n",
              "      <th>Training Loss</th>\n",
              "    </tr>\n",
              "  </thead>\n",
              "  <tbody>\n",
              "    <tr>\n",
              "      <td>500</td>\n",
              "      <td>0.379100</td>\n",
              "    </tr>\n",
              "  </tbody>\n",
              "</table><p>"
            ]
          },
          "metadata": {}
        },
        {
          "output_type": "display_data",
          "data": {
            "text/plain": [
              "<IPython.core.display.HTML object>"
            ],
            "text/html": [
              "\n",
              "    <div>\n",
              "      \n",
              "      <progress value='63' max='63' style='width:300px; height:20px; vertical-align: middle;'></progress>\n",
              "      [63/63 00:01]\n",
              "    </div>\n",
              "    "
            ]
          },
          "metadata": {}
        },
        {
          "output_type": "stream",
          "name": "stderr",
          "text": [
            "Some weights of BertForSequenceClassification were not initialized from the model checkpoint at klue/bert-base and are newly initialized: ['classifier.bias', 'classifier.weight']\n",
            "You should probably TRAIN this model on a down-stream task to be able to use it for predictions and inference.\n"
          ]
        },
        {
          "output_type": "display_data",
          "data": {
            "text/plain": [
              "<IPython.core.display.HTML object>"
            ],
            "text/html": [
              "\n",
              "    <div>\n",
              "      \n",
              "      <progress value='532' max='532' style='width:300px; height:20px; vertical-align: middle;'></progress>\n",
              "      [532/532 00:25, Epoch 1/1]\n",
              "    </div>\n",
              "    <table border=\"1\" class=\"dataframe\">\n",
              "  <thead>\n",
              " <tr style=\"text-align: left;\">\n",
              "      <th>Step</th>\n",
              "      <th>Training Loss</th>\n",
              "    </tr>\n",
              "  </thead>\n",
              "  <tbody>\n",
              "    <tr>\n",
              "      <td>500</td>\n",
              "      <td>0.381800</td>\n",
              "    </tr>\n",
              "  </tbody>\n",
              "</table><p>"
            ]
          },
          "metadata": {}
        },
        {
          "output_type": "display_data",
          "data": {
            "text/plain": [
              "<IPython.core.display.HTML object>"
            ],
            "text/html": [
              "\n",
              "    <div>\n",
              "      \n",
              "      <progress value='63' max='63' style='width:300px; height:20px; vertical-align: middle;'></progress>\n",
              "      [63/63 00:01]\n",
              "    </div>\n",
              "    "
            ]
          },
          "metadata": {}
        },
        {
          "output_type": "stream",
          "name": "stderr",
          "text": [
            "Some weights of BertForSequenceClassification were not initialized from the model checkpoint at klue/bert-base and are newly initialized: ['classifier.bias', 'classifier.weight']\n",
            "You should probably TRAIN this model on a down-stream task to be able to use it for predictions and inference.\n"
          ]
        },
        {
          "output_type": "display_data",
          "data": {
            "text/plain": [
              "<IPython.core.display.HTML object>"
            ],
            "text/html": [
              "\n",
              "    <div>\n",
              "      \n",
              "      <progress value='532' max='532' style='width:300px; height:20px; vertical-align: middle;'></progress>\n",
              "      [532/532 00:24, Epoch 1/1]\n",
              "    </div>\n",
              "    <table border=\"1\" class=\"dataframe\">\n",
              "  <thead>\n",
              " <tr style=\"text-align: left;\">\n",
              "      <th>Step</th>\n",
              "      <th>Training Loss</th>\n",
              "    </tr>\n",
              "  </thead>\n",
              "  <tbody>\n",
              "    <tr>\n",
              "      <td>500</td>\n",
              "      <td>0.384900</td>\n",
              "    </tr>\n",
              "  </tbody>\n",
              "</table><p>"
            ]
          },
          "metadata": {}
        },
        {
          "output_type": "display_data",
          "data": {
            "text/plain": [
              "<IPython.core.display.HTML object>"
            ],
            "text/html": [
              "\n",
              "    <div>\n",
              "      \n",
              "      <progress value='63' max='63' style='width:300px; height:20px; vertical-align: middle;'></progress>\n",
              "      [63/63 00:01]\n",
              "    </div>\n",
              "    "
            ]
          },
          "metadata": {}
        },
        {
          "output_type": "stream",
          "name": "stderr",
          "text": [
            "Some weights of BertForSequenceClassification were not initialized from the model checkpoint at klue/bert-base and are newly initialized: ['classifier.bias', 'classifier.weight']\n",
            "You should probably TRAIN this model on a down-stream task to be able to use it for predictions and inference.\n"
          ]
        },
        {
          "output_type": "display_data",
          "data": {
            "text/plain": [
              "<IPython.core.display.HTML object>"
            ],
            "text/html": [
              "\n",
              "    <div>\n",
              "      \n",
              "      <progress value='532' max='532' style='width:300px; height:20px; vertical-align: middle;'></progress>\n",
              "      [532/532 00:23, Epoch 1/1]\n",
              "    </div>\n",
              "    <table border=\"1\" class=\"dataframe\">\n",
              "  <thead>\n",
              " <tr style=\"text-align: left;\">\n",
              "      <th>Step</th>\n",
              "      <th>Training Loss</th>\n",
              "    </tr>\n",
              "  </thead>\n",
              "  <tbody>\n",
              "    <tr>\n",
              "      <td>500</td>\n",
              "      <td>0.390300</td>\n",
              "    </tr>\n",
              "  </tbody>\n",
              "</table><p>"
            ]
          },
          "metadata": {}
        },
        {
          "output_type": "display_data",
          "data": {
            "text/plain": [
              "<IPython.core.display.HTML object>"
            ],
            "text/html": [
              "\n",
              "    <div>\n",
              "      \n",
              "      <progress value='63' max='63' style='width:300px; height:20px; vertical-align: middle;'></progress>\n",
              "      [63/63 00:01]\n",
              "    </div>\n",
              "    "
            ]
          },
          "metadata": {}
        },
        {
          "output_type": "stream",
          "name": "stderr",
          "text": [
            "Some weights of BertForSequenceClassification were not initialized from the model checkpoint at klue/bert-base and are newly initialized: ['classifier.bias', 'classifier.weight']\n",
            "You should probably TRAIN this model on a down-stream task to be able to use it for predictions and inference.\n"
          ]
        },
        {
          "output_type": "display_data",
          "data": {
            "text/plain": [
              "<IPython.core.display.HTML object>"
            ],
            "text/html": [
              "\n",
              "    <div>\n",
              "      \n",
              "      <progress value='532' max='532' style='width:300px; height:20px; vertical-align: middle;'></progress>\n",
              "      [532/532 00:22, Epoch 1/1]\n",
              "    </div>\n",
              "    <table border=\"1\" class=\"dataframe\">\n",
              "  <thead>\n",
              " <tr style=\"text-align: left;\">\n",
              "      <th>Step</th>\n",
              "      <th>Training Loss</th>\n",
              "    </tr>\n",
              "  </thead>\n",
              "  <tbody>\n",
              "    <tr>\n",
              "      <td>500</td>\n",
              "      <td>0.399300</td>\n",
              "    </tr>\n",
              "  </tbody>\n",
              "</table><p>"
            ]
          },
          "metadata": {}
        },
        {
          "output_type": "display_data",
          "data": {
            "text/plain": [
              "<IPython.core.display.HTML object>"
            ],
            "text/html": [
              "\n",
              "    <div>\n",
              "      \n",
              "      <progress value='63' max='63' style='width:300px; height:20px; vertical-align: middle;'></progress>\n",
              "      [63/63 00:01]\n",
              "    </div>\n",
              "    "
            ]
          },
          "metadata": {}
        },
        {
          "output_type": "stream",
          "name": "stderr",
          "text": [
            "Some weights of BertForSequenceClassification were not initialized from the model checkpoint at klue/bert-base and are newly initialized: ['classifier.bias', 'classifier.weight']\n",
            "You should probably TRAIN this model on a down-stream task to be able to use it for predictions and inference.\n"
          ]
        },
        {
          "output_type": "display_data",
          "data": {
            "text/plain": [
              "<IPython.core.display.HTML object>"
            ],
            "text/html": [
              "\n",
              "    <div>\n",
              "      \n",
              "      <progress value='532' max='532' style='width:300px; height:20px; vertical-align: middle;'></progress>\n",
              "      [532/532 00:22, Epoch 1/1]\n",
              "    </div>\n",
              "    <table border=\"1\" class=\"dataframe\">\n",
              "  <thead>\n",
              " <tr style=\"text-align: left;\">\n",
              "      <th>Step</th>\n",
              "      <th>Training Loss</th>\n",
              "    </tr>\n",
              "  </thead>\n",
              "  <tbody>\n",
              "    <tr>\n",
              "      <td>500</td>\n",
              "      <td>0.415700</td>\n",
              "    </tr>\n",
              "  </tbody>\n",
              "</table><p>"
            ]
          },
          "metadata": {}
        },
        {
          "output_type": "display_data",
          "data": {
            "text/plain": [
              "<IPython.core.display.HTML object>"
            ],
            "text/html": [
              "\n",
              "    <div>\n",
              "      \n",
              "      <progress value='63' max='63' style='width:300px; height:20px; vertical-align: middle;'></progress>\n",
              "      [63/63 00:01]\n",
              "    </div>\n",
              "    "
            ]
          },
          "metadata": {}
        },
        {
          "output_type": "stream",
          "name": "stderr",
          "text": [
            "Some weights of BertForSequenceClassification were not initialized from the model checkpoint at klue/bert-base and are newly initialized: ['classifier.bias', 'classifier.weight']\n",
            "You should probably TRAIN this model on a down-stream task to be able to use it for predictions and inference.\n"
          ]
        },
        {
          "output_type": "display_data",
          "data": {
            "text/plain": [
              "<IPython.core.display.HTML object>"
            ],
            "text/html": [
              "\n",
              "    <div>\n",
              "      \n",
              "      <progress value='532' max='532' style='width:300px; height:20px; vertical-align: middle;'></progress>\n",
              "      [532/532 00:21, Epoch 1/1]\n",
              "    </div>\n",
              "    <table border=\"1\" class=\"dataframe\">\n",
              "  <thead>\n",
              " <tr style=\"text-align: left;\">\n",
              "      <th>Step</th>\n",
              "      <th>Training Loss</th>\n",
              "    </tr>\n",
              "  </thead>\n",
              "  <tbody>\n",
              "    <tr>\n",
              "      <td>500</td>\n",
              "      <td>0.436400</td>\n",
              "    </tr>\n",
              "  </tbody>\n",
              "</table><p>"
            ]
          },
          "metadata": {}
        },
        {
          "output_type": "display_data",
          "data": {
            "text/plain": [
              "<IPython.core.display.HTML object>"
            ],
            "text/html": [
              "\n",
              "    <div>\n",
              "      \n",
              "      <progress value='63' max='63' style='width:300px; height:20px; vertical-align: middle;'></progress>\n",
              "      [63/63 00:01]\n",
              "    </div>\n",
              "    "
            ]
          },
          "metadata": {}
        },
        {
          "output_type": "stream",
          "name": "stderr",
          "text": [
            "Some weights of BertForSequenceClassification were not initialized from the model checkpoint at klue/bert-base and are newly initialized: ['classifier.bias', 'classifier.weight']\n",
            "You should probably TRAIN this model on a down-stream task to be able to use it for predictions and inference.\n"
          ]
        },
        {
          "output_type": "display_data",
          "data": {
            "text/plain": [
              "<IPython.core.display.HTML object>"
            ],
            "text/html": [
              "\n",
              "    <div>\n",
              "      \n",
              "      <progress value='532' max='532' style='width:300px; height:20px; vertical-align: middle;'></progress>\n",
              "      [532/532 00:21, Epoch 1/1]\n",
              "    </div>\n",
              "    <table border=\"1\" class=\"dataframe\">\n",
              "  <thead>\n",
              " <tr style=\"text-align: left;\">\n",
              "      <th>Step</th>\n",
              "      <th>Training Loss</th>\n",
              "    </tr>\n",
              "  </thead>\n",
              "  <tbody>\n",
              "    <tr>\n",
              "      <td>500</td>\n",
              "      <td>0.458000</td>\n",
              "    </tr>\n",
              "  </tbody>\n",
              "</table><p>"
            ]
          },
          "metadata": {}
        },
        {
          "output_type": "display_data",
          "data": {
            "text/plain": [
              "<IPython.core.display.HTML object>"
            ],
            "text/html": [
              "\n",
              "    <div>\n",
              "      \n",
              "      <progress value='63' max='63' style='width:300px; height:20px; vertical-align: middle;'></progress>\n",
              "      [63/63 00:01]\n",
              "    </div>\n",
              "    "
            ]
          },
          "metadata": {}
        },
        {
          "output_type": "stream",
          "name": "stderr",
          "text": [
            "Some weights of BertForSequenceClassification were not initialized from the model checkpoint at klue/bert-base and are newly initialized: ['classifier.bias', 'classifier.weight']\n",
            "You should probably TRAIN this model on a down-stream task to be able to use it for predictions and inference.\n"
          ]
        },
        {
          "output_type": "display_data",
          "data": {
            "text/plain": [
              "<IPython.core.display.HTML object>"
            ],
            "text/html": [
              "\n",
              "    <div>\n",
              "      \n",
              "      <progress value='532' max='532' style='width:300px; height:20px; vertical-align: middle;'></progress>\n",
              "      [532/532 00:19, Epoch 1/1]\n",
              "    </div>\n",
              "    <table border=\"1\" class=\"dataframe\">\n",
              "  <thead>\n",
              " <tr style=\"text-align: left;\">\n",
              "      <th>Step</th>\n",
              "      <th>Training Loss</th>\n",
              "    </tr>\n",
              "  </thead>\n",
              "  <tbody>\n",
              "    <tr>\n",
              "      <td>500</td>\n",
              "      <td>0.516600</td>\n",
              "    </tr>\n",
              "  </tbody>\n",
              "</table><p>"
            ]
          },
          "metadata": {}
        },
        {
          "output_type": "display_data",
          "data": {
            "text/plain": [
              "<IPython.core.display.HTML object>"
            ],
            "text/html": [
              "\n",
              "    <div>\n",
              "      \n",
              "      <progress value='63' max='63' style='width:300px; height:20px; vertical-align: middle;'></progress>\n",
              "      [63/63 00:01]\n",
              "    </div>\n",
              "    "
            ]
          },
          "metadata": {}
        }
      ],
      "source": [
        "# 시간이 오래 걸립니다!\n",
        "scores = []\n",
        "# 레이어를 하나씩 증가시키면서 어느 레이어까지 동결시켜야 (훈련시켜야) 성능이 좋은지 확인\n",
        "for index in range(12):\n",
        "    model = AutoModelForSequenceClassification.from_pretrained(model_id, num_labels=2)\n",
        "    tokenizer = AutoTokenizer.from_pretrained(model_id)\n",
        "\n",
        "    # 인코더 블록 0-index를 동결합니다.\n",
        "    for name, param in model.named_parameters():\n",
        "        if \"layer\" in name:\n",
        "            layer_nr = int(name.split(\"layer\")[1].split(\".\")[1])\n",
        "            if layer_nr <= index:\n",
        "                param.requires_grad = False\n",
        "        else:\n",
        "            param.requires_grad = True\n",
        "\n",
        "    # 모델 훈련\n",
        "    trainer = Trainer(\n",
        "      model=model,\n",
        "      args=training_args,\n",
        "      train_dataset=tokenized_train,\n",
        "      eval_dataset=tokenized_test,\n",
        "      processing_class=tokenizer,\n",
        "      data_collator=data_collator,\n",
        "      compute_metrics=compute_metrics,\n",
        "    )\n",
        "    trainer.train()\n",
        "\n",
        "    # 평가\n",
        "    score = trainer.evaluate()[\"eval_f1\"]\n",
        "    scores.append(score)"
      ]
    },
    {
      "cell_type": "code",
      "execution_count": null,
      "metadata": {
        "id": "dWYlHFNdLQtk",
        "colab": {
          "base_uri": "https://localhost:8080/"
        },
        "outputId": "b022c989-8a1a-4519-85e0-71b938e750b3"
      },
      "outputs": [
        {
          "output_type": "execute_result",
          "data": {
            "text/plain": [
              "[0.8840125391849529,\n",
              " 0.8840579710144928,\n",
              " 0.8840579710144928,\n",
              " 0.8778467908902692,\n",
              " 0.8775933609958506,\n",
              " 0.8746113989637305,\n",
              " 0.8731808731808732,\n",
              " 0.8652037617554859,\n",
              " 0.867570385818561,\n",
              " 0.8532778355879292,\n",
              " 0.8471074380165289,\n",
              " 0.8229166666666666]"
            ]
          },
          "metadata": {},
          "execution_count": 24
        }
      ],
      "source": [
        "scores"
      ]
    },
    {
      "cell_type": "code",
      "source": [
        "!pip install kneed"
      ],
      "metadata": {
        "colab": {
          "base_uri": "https://localhost:8080/"
        },
        "id": "TuaDGQH0SERO",
        "outputId": "d8a64c95-c7f7-4c70-84f8-cea6e6dcf399"
      },
      "execution_count": null,
      "outputs": [
        {
          "output_type": "stream",
          "name": "stdout",
          "text": [
            "Collecting kneed\n",
            "  Downloading kneed-0.8.5-py3-none-any.whl.metadata (5.5 kB)\n",
            "Requirement already satisfied: numpy>=1.14.2 in /usr/local/lib/python3.12/dist-packages (from kneed) (2.0.2)\n",
            "Requirement already satisfied: scipy>=1.0.0 in /usr/local/lib/python3.12/dist-packages (from kneed) (1.16.2)\n",
            "Downloading kneed-0.8.5-py3-none-any.whl (10 kB)\n",
            "Installing collected packages: kneed\n",
            "Successfully installed kneed-0.8.5\n"
          ]
        }
      ]
    },
    {
      "cell_type": "code",
      "execution_count": null,
      "metadata": {
        "id": "bf3PIvKhOBJ-",
        "colab": {
          "base_uri": "https://localhost:8080/",
          "height": 470
        },
        "outputId": "c84a110e-bda3-44e1-83c5-f2ceeacd7e99"
      },
      "outputs": [
        {
          "output_type": "stream",
          "name": "stdout",
          "text": [
            "- 자동 탐지된 최적 동결 지점: 0-3\n",
            "- 해당 F1-score: 0.8676\n",
            "- 전체 학습(All) 대비 성능: 98.1%\n",
            "- 학습 레이어 비율: 33.3%\n"
          ]
        },
        {
          "output_type": "display_data",
          "data": {
            "text/plain": [
              "<Figure size 800x400 with 1 Axes>"
            ],
            "image/png": "[encoded data removed]"
          },
          "metadata": {}
        }
      ],
      "source": [
        "import matplotlib.pyplot as plt\n",
        "import numpy as np\n",
        "from kneed import KneeLocator\n",
        "\n",
        "# figure 객체를 만듭니다.\n",
        "plt.figure(figsize=(8,4))\n",
        "\n",
        "# 데이터를 준비합니다.\n",
        "x = [f\"0-{index}\" for index in range(12)]\n",
        "x[0] = \"None\"\n",
        "x[-1] = \"All\"\n",
        "y = scores[::-1]\n",
        "\n",
        "# 숫자 x축 (KneeLocator용)\n",
        "x_values = list(range(len(y)))\n",
        "\n",
        "# KneeLocator로 자동으로 최적점 찾기\n",
        "kn = KneeLocator(\n",
        "    x_values,\n",
        "    y,\n",
        "    curve='concave',      # 위로 볼록한 곡선\n",
        "    direction='increasing' # 증가하는 방향\n",
        ")\n",
        "optimal_point = kn.elbow\n",
        "\n",
        "# 그래프 스타일 설정\n",
        "plt.grid(color='#ECEFF1')\n",
        "\n",
        "# 자동으로 찾은 최적점에 선 그리기\n",
        "plt.axvline(x=optimal_point, color=\"#EC407A\", linestyle=\"--\")\n",
        "\n",
        "plt.title(\"Effect of Frozen Encoder Blocks on Training Performance\")\n",
        "plt.ylabel(\"F1-score\")\n",
        "plt.xlabel(\"Trainable encoder blocks\")\n",
        "\n",
        "# 그래프를 그립니다.\n",
        "plt.plot(x_values, y, color=\"black\", marker='o', markersize=4)\n",
        "\n",
        "# 그래프 주석 추가 (자동으로 찾은 지점)\n",
        "plt.annotate(\n",
        "    f'Performance stabilizing\\n({x[optimal_point]}, F1={y[optimal_point]:.3f})',\n",
        "    xy=(optimal_point, y[optimal_point]),\n",
        "    xytext=(optimal_point+0.5, y[optimal_point]-.05),\n",
        "    arrowprops=dict(\n",
        "        arrowstyle=\"-|>\",\n",
        "        connectionstyle=\"arc3\",\n",
        "        color=\"#00ACC1\")\n",
        ")\n",
        "\n",
        "# x축 레이블 설정\n",
        "plt.xticks(x_values, x, rotation=45, ha='right')\n",
        "\n",
        "plt.tight_layout()\n",
        "plt.savefig(\"multiple_frozen_blocks.png\", dpi=300, bbox_inches='tight')\n",
        "\n",
        "# 결과 출력\n",
        "print(f\"- 자동 탐지된 최적 동결 지점: {x[optimal_point]}\")\n",
        "print(f\"- 해당 F1-score: {y[optimal_point]:.4f}\")\n",
        "print(f\"- 전체 학습(All) 대비 성능: {y[optimal_point]/y[-1]*100:.1f}%\")\n",
        "print(f\"- 학습 레이어 비율: {(optimal_point+1)/12*100:.1f}%\")"
      ]
    },
    {
      "cell_type": "markdown",
      "source": [
        "\n",
        "\n",
        "---\n",
        "\n"
      ],
      "metadata": {
        "id": "gp-0sBdu6JRO"
      }
    },
    {
      "cell_type": "markdown",
      "metadata": {
        "id": "sf785lzMjwiy"
      },
      "source": [
        "## **퓨-샷 분류**\n",
        "\n",
        "- **Few-Shot 분류** (Few-Shot Classification)\n",
        "    - 적은 수의 예제(few examples)만으로도 새로운 클래스를 분류할 수 있게 학습하는 방법\n",
        "        - 일반 학습: 클래스당 수천~수만 개\n",
        "        - Few-Shot 학습 : 클래스당 1~10개\n",
        "    - 사람이 동물 사진 1장만 보고 새로운 동물을 인식하는 것처럼,AI도 적은 예제로 새로운 것을 학습할 수 있게 만드는 기술\n",
        "    - 목표 = 빠른 적응력 (Quick Adaptation)\n",
        "    - 방법 = 메타 러닝 + 유사도 학습\n"
      ]
    },
    {
      "cell_type": "markdown",
      "source": [
        "### **Setfit**\n",
        "- https://huggingface.co/docs/setfit/index\n",
        "- 적은 양의 레이블 데이터만으로 문장 변환(**Sentence Transformer**) 모델을 효율적으로 파인튜닝하기 위한 프레임워크"
      ],
      "metadata": {
        "id": "hMHpuy1b6LUp"
      }
    },
    {
      "cell_type": "markdown",
      "source": [
        "- **SetFit 알고리즘 세 단계**\n",
        "    1. **훈련 데이터 샘플링**\n",
        "        - 레이블이 있는 데이터를 같은 클래스끼리 묶거나 다른 클래스끼리 묶어서 (비슷한) 양성 문장 쌍과 (비슷하지 않은) 음성 문장 쌍을 생성\n",
        "    2. **임베딩 미세 튜닝**\n",
        "        - 앞서 생성한 훈련 데이터를 기반으로 사전 훈련된 임베딩 모델을 미세 튜닝함\n",
        "    3. **분류기 훈련**\n",
        "        - 임베딩 모델 위에 분류 헤드를 놓고 앞서 생성한 훈련 데이터를 사용해 훈련함"
      ],
      "metadata": {
        "id": "PLvNUUK26Le-"
      }
    },
    {
      "cell_type": "markdown",
      "source": [
        "#### **일반 분류 vs SetFit 차이**\n",
        "---\n",
        "#### 일반 분류 방식 (Supervised Classification)\n",
        "- **학습 방식**: 각 문장과 정답 라벨을 직접 매칭하여 학습\n",
        "  * 예: \"영화 좋아요\" → 긍정(1), \"영화 별로\" → 부정(0)\n",
        "- **손실 함수**: CrossEntropy Loss\n",
        "  * 모델이 예측한 확률과 정답 라벨의 차이를 최소화\n",
        "- **필요 데이터**: 라벨당 수천~수만 개의 예시 필요\n",
        "  * 각 클래스별로 충분한 변형(variation)을 학습해야 함\n",
        "- **단점**: 적은 데이터에서는 과적합 발생 쉬움\n",
        "  * 10개 예시로는 패턴 학습 불가능, 암기만 함\n",
        "---\n",
        "#### SetFit 방식 (Contrastive Learning)\n",
        "- **학습 방식**: 문장 간 유사도 관계를 학습\n",
        "  * 같은 클래스 문장 쌍 → \"이 둘은 비슷해\" (양성 쌍)\n",
        "  * 다른 클래스 문장 쌍 → \"이 둘은 달라\" (음성 쌍)\n",
        "- **쌍 생성으로 데이터 증폭** (triplet ❌, pair 방식)\n",
        "  - 총 32문장 (2개 클래스, 클래스당 16개)\n",
        "  - 각 문장당 positive pair, negative pair (2개)\n",
        "  - pair 샘플링 생성 반복 횟수 = 20\n",
        "  - 32 * 2 * 20 = 1,280 개\n",
        "  - 32개 -> 1,280 개로 증폭\n",
        "- **손실 함수**: Contrastive Loss\n",
        "  * 같은 클래스: 벡터 간 거리를 가까이 (minimize)\n",
        "  * 다른 클래스: 벡터 간 거리를 멀게 (maximize)\n",
        "  * Loss = max(0, d(양성 쌍) - d(음성 쌍) + margin)\n",
        "- **벡터 공간 정리**:\n",
        "  * 같은 라벨 → 클러스터로 뭉침\n",
        "  * 다른 라벨 → 서로 멀어짐\n",
        "  * 결과: 명확하게 구분되는 공간 형성\n",
        "- **분류 단계**:\n",
        "  * 정리된 벡터 공간에 간단한 분류기(Logistic Regression) 추가\n",
        "  * 이미 공간이 잘 정리되어 있어 적은 데이터로도 충분\n",
        "- **장점**:\n",
        "  * 쌍 생성으로 학습 데이터 증폭\n",
        "  * 유사도 학습이 라벨 예측보다 쉬움\n",
        "  * 사전 학습된 Sentence Transformer 활용으로 빠른 수렴"
      ],
      "metadata": {
        "id": "TlTbTF0nxOF5"
      }
    },
    {
      "cell_type": "markdown",
      "source": [
        "### **SetFit: 소량의 샘플로 효율적인 미세 튜닝하기**"
      ],
      "metadata": {
        "id": "_KPwopm27PW4"
      }
    },
    {
      "cell_type": "code",
      "source": [
        "!pip install setfit"
      ],
      "metadata": {
        "colab": {
          "base_uri": "https://localhost:8080/"
        },
        "id": "ehutRkUFpB9W",
        "outputId": "7c6836d6-1cfd-4aac-935f-ebc46a26ac5e"
      },
      "execution_count": null,
      "outputs": [
        {
          "output_type": "stream",
          "name": "stdout",
          "text": [
            "Requirement already satisfied: setfit in /usr/local/lib/python3.12/dist-packages (1.1.3)\n",
            "Requirement already satisfied: datasets>=2.15.0 in /usr/local/lib/python3.12/dist-packages (from setfit) (4.0.0)\n",
            "Requirement already satisfied: sentence-transformers>=3 in /usr/local/lib/python3.12/dist-packages (from sentence-transformers[train]>=3->setfit) (5.1.1)\n",
            "Requirement already satisfied: transformers>=4.41.0 in /usr/local/lib/python3.12/dist-packages (from setfit) (4.57.1)\n",
            "Requirement already satisfied: evaluate>=0.3.0 in /usr/local/lib/python3.12/dist-packages (from setfit) (0.4.6)\n",
            "Requirement already satisfied: huggingface_hub>=0.24.0 in /usr/local/lib/python3.12/dist-packages (from setfit) (0.35.3)\n",
            "Requirement already satisfied: scikit-learn in /usr/local/lib/python3.12/dist-packages (from setfit) (1.6.1)\n",
            "Requirement already satisfied: packaging in /usr/local/lib/python3.12/dist-packages (from setfit) (25.0)\n",
            "Requirement already satisfied: filelock in /usr/local/lib/python3.12/dist-packages (from datasets>=2.15.0->setfit) (3.20.0)\n",
            "Requirement already satisfied: numpy>=1.17 in /usr/local/lib/python3.12/dist-packages (from datasets>=2.15.0->setfit) (2.0.2)\n",
            "Requirement already satisfied: pyarrow>=15.0.0 in /usr/local/lib/python3.12/dist-packages (from datasets>=2.15.0->setfit) (18.1.0)\n",
            "Requirement already satisfied: dill<0.3.9,>=0.3.0 in /usr/local/lib/python3.12/dist-packages (from datasets>=2.15.0->setfit) (0.3.8)\n",
            "Requirement already satisfied: pandas in /usr/local/lib/python3.12/dist-packages (from datasets>=2.15.0->setfit) (2.2.2)\n",
            "Requirement already satisfied: requests>=2.32.2 in /usr/local/lib/python3.12/dist-packages (from datasets>=2.15.0->setfit) (2.32.4)\n",
            "Requirement already satisfied: tqdm>=4.66.3 in /usr/local/lib/python3.12/dist-packages (from datasets>=2.15.0->setfit) (4.67.1)\n",
            "Requirement already satisfied: xxhash in /usr/local/lib/python3.12/dist-packages (from datasets>=2.15.0->setfit) (3.6.0)\n",
            "Requirement already satisfied: multiprocess<0.70.17 in /usr/local/lib/python3.12/dist-packages (from datasets>=2.15.0->setfit) (0.70.16)\n",
            "Requirement already satisfied: fsspec<=2025.3.0,>=2023.1.0 in /usr/local/lib/python3.12/dist-packages (from fsspec[http]<=2025.3.0,>=2023.1.0->datasets>=2.15.0->setfit) (2025.3.0)\n",
            "Requirement already satisfied: pyyaml>=5.1 in /usr/local/lib/python3.12/dist-packages (from datasets>=2.15.0->setfit) (6.0.3)\n",
            "Requirement already satisfied: typing-extensions>=3.7.4.3 in /usr/local/lib/python3.12/dist-packages (from huggingface_hub>=0.24.0->setfit) (4.15.0)\n",
            "Requirement already satisfied: hf-xet<2.0.0,>=1.1.3 in /usr/local/lib/python3.12/dist-packages (from huggingface_hub>=0.24.0->setfit) (1.1.10)\n",
            "Requirement already satisfied: torch>=1.11.0 in /usr/local/lib/python3.12/dist-packages (from sentence-transformers>=3->sentence-transformers[train]>=3->setfit) (2.8.0+cu126)\n",
            "Requirement already satisfied: scipy in /usr/local/lib/python3.12/dist-packages (from sentence-transformers>=3->sentence-transformers[train]>=3->setfit) (1.16.2)\n",
            "Requirement already satisfied: Pillow in /usr/local/lib/python3.12/dist-packages (from sentence-transformers>=3->sentence-transformers[train]>=3->setfit) (11.3.0)\n",
            "Requirement already satisfied: accelerate>=0.20.3 in /usr/local/lib/python3.12/dist-packages (from sentence-transformers[train]>=3->setfit) (1.10.1)\n",
            "Requirement already satisfied: regex!=2019.12.17 in /usr/local/lib/python3.12/dist-packages (from transformers>=4.41.0->setfit) (2024.11.6)\n",
            "Requirement already satisfied: tokenizers<=0.23.0,>=0.22.0 in /usr/local/lib/python3.12/dist-packages (from transformers>=4.41.0->setfit) (0.22.1)\n",
            "Requirement already satisfied: safetensors>=0.4.3 in /usr/local/lib/python3.12/dist-packages (from transformers>=4.41.0->setfit) (0.6.2)\n",
            "Requirement already satisfied: joblib>=1.2.0 in /usr/local/lib/python3.12/dist-packages (from scikit-learn->setfit) (1.5.2)\n",
            "Requirement already satisfied: threadpoolctl>=3.1.0 in /usr/local/lib/python3.12/dist-packages (from scikit-learn->setfit) (3.6.0)\n",
            "Requirement already satisfied: psutil in /usr/local/lib/python3.12/dist-packages (from accelerate>=0.20.3->sentence-transformers[train]>=3->setfit) (5.9.5)\n",
            "Requirement already satisfied: aiohttp!=4.0.0a0,!=4.0.0a1 in /usr/local/lib/python3.12/dist-packages (from fsspec[http]<=2025.3.0,>=2023.1.0->datasets>=2.15.0->setfit) (3.13.0)\n",
            "Requirement already satisfied: charset_normalizer<4,>=2 in /usr/local/lib/python3.12/dist-packages (from requests>=2.32.2->datasets>=2.15.0->setfit) (3.4.4)\n",
            "Requirement already satisfied: idna<4,>=2.5 in /usr/local/lib/python3.12/dist-packages (from requests>=2.32.2->datasets>=2.15.0->setfit) (3.11)\n",
            "Requirement already satisfied: urllib3<3,>=1.21.1 in /usr/local/lib/python3.12/dist-packages (from requests>=2.32.2->datasets>=2.15.0->setfit) (2.5.0)\n",
            "Requirement already satisfied: certifi>=2017.4.17 in /usr/local/lib/python3.12/dist-packages (from requests>=2.32.2->datasets>=2.15.0->setfit) (2025.10.5)\n",
            "Requirement already satisfied: setuptools in /usr/local/lib/python3.12/dist-packages (from torch>=1.11.0->sentence-transformers>=3->sentence-transformers[train]>=3->setfit) (75.2.0)\n",
            "Requirement already satisfied: sympy>=1.13.3 in /usr/local/lib/python3.12/dist-packages (from torch>=1.11.0->sentence-transformers>=3->sentence-transformers[train]>=3->setfit) (1.13.3)\n",
            "Requirement already satisfied: networkx in /usr/local/lib/python3.12/dist-packages (from torch>=1.11.0->sentence-transformers>=3->sentence-transformers[train]>=3->setfit) (3.5)\n",
            "Requirement already satisfied: jinja2 in /usr/local/lib/python3.12/dist-packages (from torch>=1.11.0->sentence-transformers>=3->sentence-transformers[train]>=3->setfit) (3.1.6)\n",
            "Requirement already satisfied: nvidia-cuda-nvrtc-cu12==12.6.77 in /usr/local/lib/python3.12/dist-packages (from torch>=1.11.0->sentence-transformers>=3->sentence-transformers[train]>=3->setfit) (12.6.77)\n",
            "Requirement already satisfied: nvidia-cuda-runtime-cu12==12.6.77 in /usr/local/lib/python3.12/dist-packages (from torch>=1.11.0->sentence-transformers>=3->sentence-transformers[train]>=3->setfit) (12.6.77)\n",
            "Requirement already satisfied: nvidia-cuda-cupti-cu12==12.6.80 in /usr/local/lib/python3.12/dist-packages (from torch>=1.11.0->sentence-transformers>=3->sentence-transformers[train]>=3->setfit) (12.6.80)\n",
            "Requirement already satisfied: nvidia-cudnn-cu12==9.10.2.21 in /usr/local/lib/python3.12/dist-packages (from torch>=1.11.0->sentence-transformers>=3->sentence-transformers[train]>=3->setfit) (9.10.2.21)\n",
            "Requirement already satisfied: nvidia-cublas-cu12==12.6.4.1 in /usr/local/lib/python3.12/dist-packages (from torch>=1.11.0->sentence-transformers>=3->sentence-transformers[train]>=3->setfit) (12.6.4.1)\n",
            "Requirement already satisfied: nvidia-cufft-cu12==11.3.0.4 in /usr/local/lib/python3.12/dist-packages (from torch>=1.11.0->sentence-transformers>=3->sentence-transformers[train]>=3->setfit) (11.3.0.4)\n",
            "Requirement already satisfied: nvidia-curand-cu12==10.3.7.77 in /usr/local/lib/python3.12/dist-packages (from torch>=1.11.0->sentence-transformers>=3->sentence-transformers[train]>=3->setfit) (10.3.7.77)\n",
            "Requirement already satisfied: nvidia-cusolver-cu12==11.7.1.2 in /usr/local/lib/python3.12/dist-packages (from torch>=1.11.0->sentence-transformers>=3->sentence-transformers[train]>=3->setfit) (11.7.1.2)\n",
            "Requirement already satisfied: nvidia-cusparse-cu12==12.5.4.2 in /usr/local/lib/python3.12/dist-packages (from torch>=1.11.0->sentence-transformers>=3->sentence-transformers[train]>=3->setfit) (12.5.4.2)\n",
            "Requirement already satisfied: nvidia-cusparselt-cu12==0.7.1 in /usr/local/lib/python3.12/dist-packages (from torch>=1.11.0->sentence-transformers>=3->sentence-transformers[train]>=3->setfit) (0.7.1)\n",
            "Requirement already satisfied: nvidia-nccl-cu12==2.27.3 in /usr/local/lib/python3.12/dist-packages (from torch>=1.11.0->sentence-transformers>=3->sentence-transformers[train]>=3->setfit) (2.27.3)\n",
            "Requirement already satisfied: nvidia-nvtx-cu12==12.6.77 in /usr/local/lib/python3.12/dist-packages (from torch>=1.11.0->sentence-transformers>=3->sentence-transformers[train]>=3->setfit) (12.6.77)\n",
            "Requirement already satisfied: nvidia-nvjitlink-cu12==12.6.85 in /usr/local/lib/python3.12/dist-packages (from torch>=1.11.0->sentence-transformers>=3->sentence-transformers[train]>=3->setfit) (12.6.85)\n",
            "Requirement already satisfied: nvidia-cufile-cu12==1.11.1.6 in /usr/local/lib/python3.12/dist-packages (from torch>=1.11.0->sentence-transformers>=3->sentence-transformers[train]>=3->setfit) (1.11.1.6)\n",
            "Requirement already satisfied: triton==3.4.0 in /usr/local/lib/python3.12/dist-packages (from torch>=1.11.0->sentence-transformers>=3->sentence-transformers[train]>=3->setfit) (3.4.0)\n",
            "Requirement already satisfied: python-dateutil>=2.8.2 in /usr/local/lib/python3.12/dist-packages (from pandas->datasets>=2.15.0->setfit) (2.9.0.post0)\n",
            "Requirement already satisfied: pytz>=2020.1 in /usr/local/lib/python3.12/dist-packages (from pandas->datasets>=2.15.0->setfit) (2025.2)\n",
            "Requirement already satisfied: tzdata>=2022.7 in /usr/local/lib/python3.12/dist-packages (from pandas->datasets>=2.15.0->setfit) (2025.2)\n",
            "Requirement already satisfied: aiohappyeyeballs>=2.5.0 in /usr/local/lib/python3.12/dist-packages (from aiohttp!=4.0.0a0,!=4.0.0a1->fsspec[http]<=2025.3.0,>=2023.1.0->datasets>=2.15.0->setfit) (2.6.1)\n",
            "Requirement already satisfied: aiosignal>=1.4.0 in /usr/local/lib/python3.12/dist-packages (from aiohttp!=4.0.0a0,!=4.0.0a1->fsspec[http]<=2025.3.0,>=2023.1.0->datasets>=2.15.0->setfit) (1.4.0)\n",
            "Requirement already satisfied: attrs>=17.3.0 in /usr/local/lib/python3.12/dist-packages (from aiohttp!=4.0.0a0,!=4.0.0a1->fsspec[http]<=2025.3.0,>=2023.1.0->datasets>=2.15.0->setfit) (25.4.0)\n",
            "Requirement already satisfied: frozenlist>=1.1.1 in /usr/local/lib/python3.12/dist-packages (from aiohttp!=4.0.0a0,!=4.0.0a1->fsspec[http]<=2025.3.0,>=2023.1.0->datasets>=2.15.0->setfit) (1.8.0)\n",
            "Requirement already satisfied: multidict<7.0,>=4.5 in /usr/local/lib/python3.12/dist-packages (from aiohttp!=4.0.0a0,!=4.0.0a1->fsspec[http]<=2025.3.0,>=2023.1.0->datasets>=2.15.0->setfit) (6.7.0)\n",
            "Requirement already satisfied: propcache>=0.2.0 in /usr/local/lib/python3.12/dist-packages (from aiohttp!=4.0.0a0,!=4.0.0a1->fsspec[http]<=2025.3.0,>=2023.1.0->datasets>=2.15.0->setfit) (0.4.1)\n",
            "Requirement already satisfied: yarl<2.0,>=1.17.0 in /usr/local/lib/python3.12/dist-packages (from aiohttp!=4.0.0a0,!=4.0.0a1->fsspec[http]<=2025.3.0,>=2023.1.0->datasets>=2.15.0->setfit) (1.22.0)\n",
            "Requirement already satisfied: six>=1.5 in /usr/local/lib/python3.12/dist-packages (from python-dateutil>=2.8.2->pandas->datasets>=2.15.0->setfit) (1.17.0)\n",
            "Requirement already satisfied: mpmath<1.4,>=1.1.0 in /usr/local/lib/python3.12/dist-packages (from sympy>=1.13.3->torch>=1.11.0->sentence-transformers>=3->sentence-transformers[train]>=3->setfit) (1.3.0)\n",
            "Requirement already satisfied: MarkupSafe>=2.0 in /usr/local/lib/python3.12/dist-packages (from jinja2->torch>=1.11.0->sentence-transformers>=3->sentence-transformers[train]>=3->setfit) (3.0.3)\n"
          ]
        }
      ]
    },
    {
      "cell_type": "code",
      "execution_count": null,
      "metadata": {
        "id": "8ybeQ3j6kOk4",
        "colab": {
          "base_uri": "https://localhost:8080/"
        },
        "outputId": "21526f95-fc79-4e99-d8ad-7b0d249a11cb"
      },
      "outputs": [
        {
          "output_type": "execute_result",
          "data": {
            "text/plain": [
              "Dataset({\n",
              "    features: ['Unnamed: 0', 'id', 'document', 'label'],\n",
              "    num_rows: 32\n",
              "})"
            ]
          },
          "metadata": {},
          "execution_count": 44
        }
      ],
      "source": [
        "from setfit import sample_dataset\n",
        "\n",
        "# 퓨-샷 설정을 흉내내기 위해 클래스마다 16개의 샘플을 선택합니다. (총 32개)\n",
        "sampled_train_data = sample_dataset(train_data, num_samples=16, seed = 42)\n",
        "sampled_train_data"
      ]
    },
    {
      "cell_type": "markdown",
      "source": [
        "- jhgan/ko-sroberta-multitask :\n",
        "  - Sentence-RoBERTa (임베딩 특화)\n",
        "  - KorNLI, KorSTS 등 다중 태스크 학습\n",
        "  - Contrastive Learning 기반\n",
        "  - 한국어 문장 유사도 최고 성능"
      ],
      "metadata": {
        "id": "JLt9uFEy77mb"
      }
    },
    {
      "cell_type": "markdown",
      "source": [
        "#### 왜 모델이 다를까?\n",
        "\n",
        "### Layer Freezing: klue/bert-base\n",
        "```\n",
        "데이터: 8,500개 (충분)\n",
        "학습: 직접 분류 (라벨 예측)\n",
        "목적: 범용 → 특화\n",
        "\n",
        "→ 범용 BERT로 충분히 학습 가능\n",
        "```\n",
        "\n",
        "### Few-shot: jhgan/ko-sroberta-multitask\n",
        "```\n",
        "데이터: 32개 (매우 적음!)\n",
        "학습: 유사도 기반 (Contrastive)\n",
        "목적: 임베딩 품질이 핵심\n",
        "\n",
        "→ 이미 좋은 임베딩 필수!\n",
        "```\n",
        "\n",
        "---\n",
        "\n",
        "## 핵심 차이\n",
        "\n",
        "| | Layer Freezing | Few-shot |\n",
        "|---|---|---|\n",
        "| 데이터 | 많음 (8.5K) | 적음 (32) |\n",
        "| 모델 의존도 | 낮음 | **매우 높음** |\n",
        "| 필요 능력 | 분류 | **임베딩** |\n",
        "\n",
        "**적은 데이터 = 더 좋은 출발점 필요!**\n",
        "\n",
        "jhgan/ko-sroberta-multitask는:\n",
        "- ✅ Sentence Transformer (임베딩 특화)\n",
        "- ✅ Contrastive Learning (Few-shot과 동일)\n",
        "- ✅ 다중 태스크 학습 (범용성)\n",
        "\n",
        "→ 32개로도 높은 성능"
      ],
      "metadata": {
        "id": "lLP91hsyz3z7"
      }
    },
    {
      "cell_type": "code",
      "execution_count": null,
      "metadata": {
        "id": "1Y55TDrmSqHm",
        "colab": {
          "base_uri": "https://localhost:8080/"
        },
        "outputId": "7e10e2f9-f78d-4737-cb96-7886e2ee76cb"
      },
      "outputs": [
        {
          "output_type": "stream",
          "name": "stderr",
          "text": [
            "model_head.pkl not found on HuggingFace Hub, initialising classification head with random weights. You should TRAIN this model on a downstream task to use it for predictions and inference.\n"
          ]
        }
      ],
      "source": [
        "from setfit import SetFitModel\n",
        "\n",
        "# 사전 훈련된 SentenceTransformer 모델을 로드합니다.\n",
        "# 분류 헤드(분류기)를 직접 지정하지 않으면, default LogisticRegression 사용함\n",
        "model = SetFitModel.from_pretrained(\"jhgan/ko-sroberta-multitask\")\n"
      ]
    },
    {
      "cell_type": "code",
      "source": [
        "# 모델 구조 확인\n",
        "print(\"=\" * 70)\n",
        "print(\"SetFit 모델 전체 구조\")\n",
        "print(\"=\" * 70)\n",
        "\n",
        "# 1. model_body (Sentence Transformer) 파라미터\n",
        "print(\"\\n[Part 1] model_body (Sentence Transformer) 파라미터:\")\n",
        "print(\"-\" * 70)\n",
        "\n",
        "i = 0\n",
        "for name, param in model.model_body.named_parameters():\n",
        "    print(f'{i}: {name} ----- {param.requires_grad} --- {param.shape}')\n",
        "    i += 1\n",
        "\n",
        "print(f\"\\n총 {i}개 파라미터\")\n",
        "\n",
        "# 2. model_head (Classifier) - sklearn이라 named_parameters 없음\n",
        "print(\"\\n\" + \"=\" * 70)\n",
        "print(\"[Part 2] model_head (Classifier):\")\n",
        "print(\"-\" * 70)\n",
        "\n",
        "if model.model_head is not None:\n",
        "    print(f\"타입: {type(model.model_head)}\")\n",
        "\n",
        "    # sklearn 모델이 학습되었다면\n",
        "    if hasattr(model.model_head, 'coef_'):\n",
        "        print(f\"가중치 (coef_): {model.model_head.coef_.shape}\")\n",
        "        print(f\"편향 (intercept_): {model.model_head.intercept_.shape}\")\n",
        "        print(f\"클래스: {model.model_head.classes_}\")\n",
        "    else:\n",
        "        print(\"아직 학습되지 않음 (coef_ 속성 없음)\")\n",
        "else:\n",
        "    print(\"None (아직 초기화 안 됨)\")\n",
        "\n",
        "# 3. 전체 속성 확인\n",
        "print(\"\\n\" + \"=\" * 70)\n",
        "print(\"[Part 3] SetFit 모델의 모든 속성:\")\n",
        "print(\"-\" * 70)\n",
        "\n",
        "for attr_name, attr_value in vars(model).items():\n",
        "    print(f\"{attr_name}: {type(attr_value).__name__}\")\n"
      ],
      "metadata": {
        "colab": {
          "base_uri": "https://localhost:8080/"
        },
        "id": "97_kaFA64AgC",
        "outputId": "cbb80252-a542-470d-fec5-b5e1f5370045"
      },
      "execution_count": null,
      "outputs": [
        {
          "output_type": "stream",
          "name": "stdout",
          "text": [
            "======================================================================\n",
            "SetFit 모델 전체 구조\n",
            "======================================================================\n",
            "\n",
            "[Part 1] model_body (Sentence Transformer) 파라미터:\n",
            "----------------------------------------------------------------------\n",
            "0: 0.auto_model.embeddings.word_embeddings.weight ----- True --- torch.Size([32000, 768])\n",
            "1: 0.auto_model.embeddings.position_embeddings.weight ----- True --- torch.Size([514, 768])\n",
            "2: 0.auto_model.embeddings.token_type_embeddings.weight ----- True --- torch.Size([1, 768])\n",
            "3: 0.auto_model.embeddings.LayerNorm.weight ----- True --- torch.Size([768])\n",
            "4: 0.auto_model.embeddings.LayerNorm.bias ----- True --- torch.Size([768])\n",
            "5: 0.auto_model.encoder.layer.0.attention.self.query.weight ----- True --- torch.Size([768, 768])\n",
            "6: 0.auto_model.encoder.layer.0.attention.self.query.bias ----- True --- torch.Size([768])\n",
            "7: 0.auto_model.encoder.layer.0.attention.self.key.weight ----- True --- torch.Size([768, 768])\n",
            "8: 0.auto_model.encoder.layer.0.attention.self.key.bias ----- True --- torch.Size([768])\n",
            "9: 0.auto_model.encoder.layer.0.attention.self.value.weight ----- True --- torch.Size([768, 768])\n",
            "10: 0.auto_model.encoder.layer.0.attention.self.value.bias ----- True --- torch.Size([768])\n",
            "11: 0.auto_model.encoder.layer.0.attention.output.dense.weight ----- True --- torch.Size([768, 768])\n",
            "12: 0.auto_model.encoder.layer.0.attention.output.dense.bias ----- True --- torch.Size([768])\n",
            "13: 0.auto_model.encoder.layer.0.attention.output.LayerNorm.weight ----- True --- torch.Size([768])\n",
            "14: 0.auto_model.encoder.layer.0.attention.output.LayerNorm.bias ----- True --- torch.Size([768])\n",
            "15: 0.auto_model.encoder.layer.0.intermediate.dense.weight ----- True --- torch.Size([3072, 768])\n",
            "16: 0.auto_model.encoder.layer.0.intermediate.dense.bias ----- True --- torch.Size([3072])\n",
            "17: 0.auto_model.encoder.layer.0.output.dense.weight ----- True --- torch.Size([768, 3072])\n",
            "18: 0.auto_model.encoder.layer.0.output.dense.bias ----- True --- torch.Size([768])\n",
            "19: 0.auto_model.encoder.layer.0.output.LayerNorm.weight ----- True --- torch.Size([768])\n",
            "20: 0.auto_model.encoder.layer.0.output.LayerNorm.bias ----- True --- torch.Size([768])\n",
            "21: 0.auto_model.encoder.layer.1.attention.self.query.weight ----- True --- torch.Size([768, 768])\n",
            "22: 0.auto_model.encoder.layer.1.attention.self.query.bias ----- True --- torch.Size([768])\n",
            "23: 0.auto_model.encoder.layer.1.attention.self.key.weight ----- True --- torch.Size([768, 768])\n",
            "24: 0.auto_model.encoder.layer.1.attention.self.key.bias ----- True --- torch.Size([768])\n",
            "25: 0.auto_model.encoder.layer.1.attention.self.value.weight ----- True --- torch.Size([768, 768])\n",
            "26: 0.auto_model.encoder.layer.1.attention.self.value.bias ----- True --- torch.Size([768])\n",
            "27: 0.auto_model.encoder.layer.1.attention.output.dense.weight ----- True --- torch.Size([768, 768])\n",
            "28: 0.auto_model.encoder.layer.1.attention.output.dense.bias ----- True --- torch.Size([768])\n",
            "29: 0.auto_model.encoder.layer.1.attention.output.LayerNorm.weight ----- True --- torch.Size([768])\n",
            "30: 0.auto_model.encoder.layer.1.attention.output.LayerNorm.bias ----- True --- torch.Size([768])\n",
            "31: 0.auto_model.encoder.layer.1.intermediate.dense.weight ----- True --- torch.Size([3072, 768])\n",
            "32: 0.auto_model.encoder.layer.1.intermediate.dense.bias ----- True --- torch.Size([3072])\n",
            "33: 0.auto_model.encoder.layer.1.output.dense.weight ----- True --- torch.Size([768, 3072])\n",
            "34: 0.auto_model.encoder.layer.1.output.dense.bias ----- True --- torch.Size([768])\n",
            "35: 0.auto_model.encoder.layer.1.output.LayerNorm.weight ----- True --- torch.Size([768])\n",
            "36: 0.auto_model.encoder.layer.1.output.LayerNorm.bias ----- True --- torch.Size([768])\n",
            "37: 0.auto_model.encoder.layer.2.attention.self.query.weight ----- True --- torch.Size([768, 768])\n",
            "38: 0.auto_model.encoder.layer.2.attention.self.query.bias ----- True --- torch.Size([768])\n",
            "39: 0.auto_model.encoder.layer.2.attention.self.key.weight ----- True --- torch.Size([768, 768])\n",
            "40: 0.auto_model.encoder.layer.2.attention.self.key.bias ----- True --- torch.Size([768])\n",
            "41: 0.auto_model.encoder.layer.2.attention.self.value.weight ----- True --- torch.Size([768, 768])\n",
            "42: 0.auto_model.encoder.layer.2.attention.self.value.bias ----- True --- torch.Size([768])\n",
            "43: 0.auto_model.encoder.layer.2.attention.output.dense.weight ----- True --- torch.Size([768, 768])\n",
            "44: 0.auto_model.encoder.layer.2.attention.output.dense.bias ----- True --- torch.Size([768])\n",
            "45: 0.auto_model.encoder.layer.2.attention.output.LayerNorm.weight ----- True --- torch.Size([768])\n",
            "46: 0.auto_model.encoder.layer.2.attention.output.LayerNorm.bias ----- True --- torch.Size([768])\n",
            "47: 0.auto_model.encoder.layer.2.intermediate.dense.weight ----- True --- torch.Size([3072, 768])\n",
            "48: 0.auto_model.encoder.layer.2.intermediate.dense.bias ----- True --- torch.Size([3072])\n",
            "49: 0.auto_model.encoder.layer.2.output.dense.weight ----- True --- torch.Size([768, 3072])\n",
            "50: 0.auto_model.encoder.layer.2.output.dense.bias ----- True --- torch.Size([768])\n",
            "51: 0.auto_model.encoder.layer.2.output.LayerNorm.weight ----- True --- torch.Size([768])\n",
            "52: 0.auto_model.encoder.layer.2.output.LayerNorm.bias ----- True --- torch.Size([768])\n",
            "53: 0.auto_model.encoder.layer.3.attention.self.query.weight ----- True --- torch.Size([768, 768])\n",
            "54: 0.auto_model.encoder.layer.3.attention.self.query.bias ----- True --- torch.Size([768])\n",
            "55: 0.auto_model.encoder.layer.3.attention.self.key.weight ----- True --- torch.Size([768, 768])\n",
            "56: 0.auto_model.encoder.layer.3.attention.self.key.bias ----- True --- torch.Size([768])\n",
            "57: 0.auto_model.encoder.layer.3.attention.self.value.weight ----- True --- torch.Size([768, 768])\n",
            "58: 0.auto_model.encoder.layer.3.attention.self.value.bias ----- True --- torch.Size([768])\n",
            "59: 0.auto_model.encoder.layer.3.attention.output.dense.weight ----- True --- torch.Size([768, 768])\n",
            "60: 0.auto_model.encoder.layer.3.attention.output.dense.bias ----- True --- torch.Size([768])\n",
            "61: 0.auto_model.encoder.layer.3.attention.output.LayerNorm.weight ----- True --- torch.Size([768])\n",
            "62: 0.auto_model.encoder.layer.3.attention.output.LayerNorm.bias ----- True --- torch.Size([768])\n",
            "63: 0.auto_model.encoder.layer.3.intermediate.dense.weight ----- True --- torch.Size([3072, 768])\n",
            "64: 0.auto_model.encoder.layer.3.intermediate.dense.bias ----- True --- torch.Size([3072])\n",
            "65: 0.auto_model.encoder.layer.3.output.dense.weight ----- True --- torch.Size([768, 3072])\n",
            "66: 0.auto_model.encoder.layer.3.output.dense.bias ----- True --- torch.Size([768])\n",
            "67: 0.auto_model.encoder.layer.3.output.LayerNorm.weight ----- True --- torch.Size([768])\n",
            "68: 0.auto_model.encoder.layer.3.output.LayerNorm.bias ----- True --- torch.Size([768])\n",
            "69: 0.auto_model.encoder.layer.4.attention.self.query.weight ----- True --- torch.Size([768, 768])\n",
            "70: 0.auto_model.encoder.layer.4.attention.self.query.bias ----- True --- torch.Size([768])\n",
            "71: 0.auto_model.encoder.layer.4.attention.self.key.weight ----- True --- torch.Size([768, 768])\n",
            "72: 0.auto_model.encoder.layer.4.attention.self.key.bias ----- True --- torch.Size([768])\n",
            "73: 0.auto_model.encoder.layer.4.attention.self.value.weight ----- True --- torch.Size([768, 768])\n",
            "74: 0.auto_model.encoder.layer.4.attention.self.value.bias ----- True --- torch.Size([768])\n",
            "75: 0.auto_model.encoder.layer.4.attention.output.dense.weight ----- True --- torch.Size([768, 768])\n",
            "76: 0.auto_model.encoder.layer.4.attention.output.dense.bias ----- True --- torch.Size([768])\n",
            "77: 0.auto_model.encoder.layer.4.attention.output.LayerNorm.weight ----- True --- torch.Size([768])\n",
            "78: 0.auto_model.encoder.layer.4.attention.output.LayerNorm.bias ----- True --- torch.Size([768])\n",
            "79: 0.auto_model.encoder.layer.4.intermediate.dense.weight ----- True --- torch.Size([3072, 768])\n",
            "80: 0.auto_model.encoder.layer.4.intermediate.dense.bias ----- True --- torch.Size([3072])\n",
            "81: 0.auto_model.encoder.layer.4.output.dense.weight ----- True --- torch.Size([768, 3072])\n",
            "82: 0.auto_model.encoder.layer.4.output.dense.bias ----- True --- torch.Size([768])\n",
            "83: 0.auto_model.encoder.layer.4.output.LayerNorm.weight ----- True --- torch.Size([768])\n",
            "84: 0.auto_model.encoder.layer.4.output.LayerNorm.bias ----- True --- torch.Size([768])\n",
            "85: 0.auto_model.encoder.layer.5.attention.self.query.weight ----- True --- torch.Size([768, 768])\n",
            "86: 0.auto_model.encoder.layer.5.attention.self.query.bias ----- True --- torch.Size([768])\n",
            "87: 0.auto_model.encoder.layer.5.attention.self.key.weight ----- True --- torch.Size([768, 768])\n",
            "88: 0.auto_model.encoder.layer.5.attention.self.key.bias ----- True --- torch.Size([768])\n",
            "89: 0.auto_model.encoder.layer.5.attention.self.value.weight ----- True --- torch.Size([768, 768])\n",
            "90: 0.auto_model.encoder.layer.5.attention.self.value.bias ----- True --- torch.Size([768])\n",
            "91: 0.auto_model.encoder.layer.5.attention.output.dense.weight ----- True --- torch.Size([768, 768])\n",
            "92: 0.auto_model.encoder.layer.5.attention.output.dense.bias ----- True --- torch.Size([768])\n",
            "93: 0.auto_model.encoder.layer.5.attention.output.LayerNorm.weight ----- True --- torch.Size([768])\n",
            "94: 0.auto_model.encoder.layer.5.attention.output.LayerNorm.bias ----- True --- torch.Size([768])\n",
            "95: 0.auto_model.encoder.layer.5.intermediate.dense.weight ----- True --- torch.Size([3072, 768])\n",
            "96: 0.auto_model.encoder.layer.5.intermediate.dense.bias ----- True --- torch.Size([3072])\n",
            "97: 0.auto_model.encoder.layer.5.output.dense.weight ----- True --- torch.Size([768, 3072])\n",
            "98: 0.auto_model.encoder.layer.5.output.dense.bias ----- True --- torch.Size([768])\n",
            "99: 0.auto_model.encoder.layer.5.output.LayerNorm.weight ----- True --- torch.Size([768])\n",
            "100: 0.auto_model.encoder.layer.5.output.LayerNorm.bias ----- True --- torch.Size([768])\n",
            "101: 0.auto_model.encoder.layer.6.attention.self.query.weight ----- True --- torch.Size([768, 768])\n",
            "102: 0.auto_model.encoder.layer.6.attention.self.query.bias ----- True --- torch.Size([768])\n",
            "103: 0.auto_model.encoder.layer.6.attention.self.key.weight ----- True --- torch.Size([768, 768])\n",
            "104: 0.auto_model.encoder.layer.6.attention.self.key.bias ----- True --- torch.Size([768])\n",
            "105: 0.auto_model.encoder.layer.6.attention.self.value.weight ----- True --- torch.Size([768, 768])\n",
            "106: 0.auto_model.encoder.layer.6.attention.self.value.bias ----- True --- torch.Size([768])\n",
            "107: 0.auto_model.encoder.layer.6.attention.output.dense.weight ----- True --- torch.Size([768, 768])\n",
            "108: 0.auto_model.encoder.layer.6.attention.output.dense.bias ----- True --- torch.Size([768])\n",
            "109: 0.auto_model.encoder.layer.6.attention.output.LayerNorm.weight ----- True --- torch.Size([768])\n",
            "110: 0.auto_model.encoder.layer.6.attention.output.LayerNorm.bias ----- True --- torch.Size([768])\n",
            "111: 0.auto_model.encoder.layer.6.intermediate.dense.weight ----- True --- torch.Size([3072, 768])\n",
            "112: 0.auto_model.encoder.layer.6.intermediate.dense.bias ----- True --- torch.Size([3072])\n",
            "113: 0.auto_model.encoder.layer.6.output.dense.weight ----- True --- torch.Size([768, 3072])\n",
            "114: 0.auto_model.encoder.layer.6.output.dense.bias ----- True --- torch.Size([768])\n",
            "115: 0.auto_model.encoder.layer.6.output.LayerNorm.weight ----- True --- torch.Size([768])\n",
            "116: 0.auto_model.encoder.layer.6.output.LayerNorm.bias ----- True --- torch.Size([768])\n",
            "117: 0.auto_model.encoder.layer.7.attention.self.query.weight ----- True --- torch.Size([768, 768])\n",
            "118: 0.auto_model.encoder.layer.7.attention.self.query.bias ----- True --- torch.Size([768])\n",
            "119: 0.auto_model.encoder.layer.7.attention.self.key.weight ----- True --- torch.Size([768, 768])\n",
            "120: 0.auto_model.encoder.layer.7.attention.self.key.bias ----- True --- torch.Size([768])\n",
            "121: 0.auto_model.encoder.layer.7.attention.self.value.weight ----- True --- torch.Size([768, 768])\n",
            "122: 0.auto_model.encoder.layer.7.attention.self.value.bias ----- True --- torch.Size([768])\n",
            "123: 0.auto_model.encoder.layer.7.attention.output.dense.weight ----- True --- torch.Size([768, 768])\n",
            "124: 0.auto_model.encoder.layer.7.attention.output.dense.bias ----- True --- torch.Size([768])\n",
            "125: 0.auto_model.encoder.layer.7.attention.output.LayerNorm.weight ----- True --- torch.Size([768])\n",
            "126: 0.auto_model.encoder.layer.7.attention.output.LayerNorm.bias ----- True --- torch.Size([768])\n",
            "127: 0.auto_model.encoder.layer.7.intermediate.dense.weight ----- True --- torch.Size([3072, 768])\n",
            "128: 0.auto_model.encoder.layer.7.intermediate.dense.bias ----- True --- torch.Size([3072])\n",
            "129: 0.auto_model.encoder.layer.7.output.dense.weight ----- True --- torch.Size([768, 3072])\n",
            "130: 0.auto_model.encoder.layer.7.output.dense.bias ----- True --- torch.Size([768])\n",
            "131: 0.auto_model.encoder.layer.7.output.LayerNorm.weight ----- True --- torch.Size([768])\n",
            "132: 0.auto_model.encoder.layer.7.output.LayerNorm.bias ----- True --- torch.Size([768])\n",
            "133: 0.auto_model.encoder.layer.8.attention.self.query.weight ----- True --- torch.Size([768, 768])\n",
            "134: 0.auto_model.encoder.layer.8.attention.self.query.bias ----- True --- torch.Size([768])\n",
            "135: 0.auto_model.encoder.layer.8.attention.self.key.weight ----- True --- torch.Size([768, 768])\n",
            "136: 0.auto_model.encoder.layer.8.attention.self.key.bias ----- True --- torch.Size([768])\n",
            "137: 0.auto_model.encoder.layer.8.attention.self.value.weight ----- True --- torch.Size([768, 768])\n",
            "138: 0.auto_model.encoder.layer.8.attention.self.value.bias ----- True --- torch.Size([768])\n",
            "139: 0.auto_model.encoder.layer.8.attention.output.dense.weight ----- True --- torch.Size([768, 768])\n",
            "140: 0.auto_model.encoder.layer.8.attention.output.dense.bias ----- True --- torch.Size([768])\n",
            "141: 0.auto_model.encoder.layer.8.attention.output.LayerNorm.weight ----- True --- torch.Size([768])\n",
            "142: 0.auto_model.encoder.layer.8.attention.output.LayerNorm.bias ----- True --- torch.Size([768])\n",
            "143: 0.auto_model.encoder.layer.8.intermediate.dense.weight ----- True --- torch.Size([3072, 768])\n",
            "144: 0.auto_model.encoder.layer.8.intermediate.dense.bias ----- True --- torch.Size([3072])\n",
            "145: 0.auto_model.encoder.layer.8.output.dense.weight ----- True --- torch.Size([768, 3072])\n",
            "146: 0.auto_model.encoder.layer.8.output.dense.bias ----- True --- torch.Size([768])\n",
            "147: 0.auto_model.encoder.layer.8.output.LayerNorm.weight ----- True --- torch.Size([768])\n",
            "148: 0.auto_model.encoder.layer.8.output.LayerNorm.bias ----- True --- torch.Size([768])\n",
            "149: 0.auto_model.encoder.layer.9.attention.self.query.weight ----- True --- torch.Size([768, 768])\n",
            "150: 0.auto_model.encoder.layer.9.attention.self.query.bias ----- True --- torch.Size([768])\n",
            "151: 0.auto_model.encoder.layer.9.attention.self.key.weight ----- True --- torch.Size([768, 768])\n",
            "152: 0.auto_model.encoder.layer.9.attention.self.key.bias ----- True --- torch.Size([768])\n",
            "153: 0.auto_model.encoder.layer.9.attention.self.value.weight ----- True --- torch.Size([768, 768])\n",
            "154: 0.auto_model.encoder.layer.9.attention.self.value.bias ----- True --- torch.Size([768])\n",
            "155: 0.auto_model.encoder.layer.9.attention.output.dense.weight ----- True --- torch.Size([768, 768])\n",
            "156: 0.auto_model.encoder.layer.9.attention.output.dense.bias ----- True --- torch.Size([768])\n",
            "157: 0.auto_model.encoder.layer.9.attention.output.LayerNorm.weight ----- True --- torch.Size([768])\n",
            "158: 0.auto_model.encoder.layer.9.attention.output.LayerNorm.bias ----- True --- torch.Size([768])\n",
            "159: 0.auto_model.encoder.layer.9.intermediate.dense.weight ----- True --- torch.Size([3072, 768])\n",
            "160: 0.auto_model.encoder.layer.9.intermediate.dense.bias ----- True --- torch.Size([3072])\n",
            "161: 0.auto_model.encoder.layer.9.output.dense.weight ----- True --- torch.Size([768, 3072])\n",
            "162: 0.auto_model.encoder.layer.9.output.dense.bias ----- True --- torch.Size([768])\n",
            "163: 0.auto_model.encoder.layer.9.output.LayerNorm.weight ----- True --- torch.Size([768])\n",
            "164: 0.auto_model.encoder.layer.9.output.LayerNorm.bias ----- True --- torch.Size([768])\n",
            "165: 0.auto_model.encoder.layer.10.attention.self.query.weight ----- True --- torch.Size([768, 768])\n",
            "166: 0.auto_model.encoder.layer.10.attention.self.query.bias ----- True --- torch.Size([768])\n",
            "167: 0.auto_model.encoder.layer.10.attention.self.key.weight ----- True --- torch.Size([768, 768])\n",
            "168: 0.auto_model.encoder.layer.10.attention.self.key.bias ----- True --- torch.Size([768])\n",
            "169: 0.auto_model.encoder.layer.10.attention.self.value.weight ----- True --- torch.Size([768, 768])\n",
            "170: 0.auto_model.encoder.layer.10.attention.self.value.bias ----- True --- torch.Size([768])\n",
            "171: 0.auto_model.encoder.layer.10.attention.output.dense.weight ----- True --- torch.Size([768, 768])\n",
            "172: 0.auto_model.encoder.layer.10.attention.output.dense.bias ----- True --- torch.Size([768])\n",
            "173: 0.auto_model.encoder.layer.10.attention.output.LayerNorm.weight ----- True --- torch.Size([768])\n",
            "174: 0.auto_model.encoder.layer.10.attention.output.LayerNorm.bias ----- True --- torch.Size([768])\n",
            "175: 0.auto_model.encoder.layer.10.intermediate.dense.weight ----- True --- torch.Size([3072, 768])\n",
            "176: 0.auto_model.encoder.layer.10.intermediate.dense.bias ----- True --- torch.Size([3072])\n",
            "177: 0.auto_model.encoder.layer.10.output.dense.weight ----- True --- torch.Size([768, 3072])\n",
            "178: 0.auto_model.encoder.layer.10.output.dense.bias ----- True --- torch.Size([768])\n",
            "179: 0.auto_model.encoder.layer.10.output.LayerNorm.weight ----- True --- torch.Size([768])\n",
            "180: 0.auto_model.encoder.layer.10.output.LayerNorm.bias ----- True --- torch.Size([768])\n",
            "181: 0.auto_model.encoder.layer.11.attention.self.query.weight ----- True --- torch.Size([768, 768])\n",
            "182: 0.auto_model.encoder.layer.11.attention.self.query.bias ----- True --- torch.Size([768])\n",
            "183: 0.auto_model.encoder.layer.11.attention.self.key.weight ----- True --- torch.Size([768, 768])\n",
            "184: 0.auto_model.encoder.layer.11.attention.self.key.bias ----- True --- torch.Size([768])\n",
            "185: 0.auto_model.encoder.layer.11.attention.self.value.weight ----- True --- torch.Size([768, 768])\n",
            "186: 0.auto_model.encoder.layer.11.attention.self.value.bias ----- True --- torch.Size([768])\n",
            "187: 0.auto_model.encoder.layer.11.attention.output.dense.weight ----- True --- torch.Size([768, 768])\n",
            "188: 0.auto_model.encoder.layer.11.attention.output.dense.bias ----- True --- torch.Size([768])\n",
            "189: 0.auto_model.encoder.layer.11.attention.output.LayerNorm.weight ----- True --- torch.Size([768])\n",
            "190: 0.auto_model.encoder.layer.11.attention.output.LayerNorm.bias ----- True --- torch.Size([768])\n",
            "191: 0.auto_model.encoder.layer.11.intermediate.dense.weight ----- True --- torch.Size([3072, 768])\n",
            "192: 0.auto_model.encoder.layer.11.intermediate.dense.bias ----- True --- torch.Size([3072])\n",
            "193: 0.auto_model.encoder.layer.11.output.dense.weight ----- True --- torch.Size([768, 3072])\n",
            "194: 0.auto_model.encoder.layer.11.output.dense.bias ----- True --- torch.Size([768])\n",
            "195: 0.auto_model.encoder.layer.11.output.LayerNorm.weight ----- True --- torch.Size([768])\n",
            "196: 0.auto_model.encoder.layer.11.output.LayerNorm.bias ----- True --- torch.Size([768])\n",
            "197: 0.auto_model.pooler.dense.weight ----- True --- torch.Size([768, 768])\n",
            "198: 0.auto_model.pooler.dense.bias ----- True --- torch.Size([768])\n",
            "\n",
            "총 199개 파라미터\n",
            "\n",
            "======================================================================\n",
            "[Part 2] model_head (Classifier):\n",
            "----------------------------------------------------------------------\n",
            "타입: <class 'sklearn.linear_model._logistic.LogisticRegression'>\n",
            "아직 학습되지 않음 (coef_ 속성 없음)\n",
            "\n",
            "======================================================================\n",
            "[Part 3] SetFit 모델의 모든 속성:\n",
            "----------------------------------------------------------------------\n",
            "_hub_mixin_config: dict\n",
            "model_body: SentenceTransformer\n",
            "model_head: LogisticRegression\n",
            "multi_target_strategy: NoneType\n",
            "normalize_embeddings: bool\n",
            "labels: NoneType\n",
            "model_card_data: SetFitModelCardData\n",
            "sentence_transformers_kwargs: dict\n",
            "attributes_to_save: set\n"
          ]
        }
      ]
    },
    {
      "cell_type": "markdown",
      "source": [
        "#### **AutoModelForSequenceClassification vs SetFitModel 구조 차이**\n",
        "\n",
        "#### AutoModelForSequenceClassification\n",
        "```\n",
        "embeddings.word_embeddings.weight\n",
        "embeddings.position_embeddings.weight\n",
        "embeddings.token_type_embeddings.weight\n",
        "embeddings.LayerNorm.weight\n",
        "embeddings.LayerNorm.bias\n",
        "encoder.layer.0.attention.self.query.weight\n",
        "encoder.layer.0.attention.self.key.weight\n",
        "...\n",
        "encoder.layer.11.output.dense.weight\n",
        "encoder.layer.11.output.LayerNorm.bias\n",
        "pooler.dense.weight\n",
        "pooler.dense.bias\n",
        "classifier.weight  ← PyTorch Linear 레이어\n",
        "classifier.bias\n",
        "```\n",
        "- **단일 PyTorch 모델**: 임베딩부터 분류까지 모두 PyTorch\n",
        "- **전체 110M+ 파라미터**가 하나의 모델에 포함\n",
        "- `named_parameters()`로 모든 레이어 확인 가능\n",
        "- **분류 헤드**: PyTorch Linear 레이어 (학습 가능)\n",
        "\n",
        "---\n",
        "\n",
        "### SetFitModel\n",
        "```\n",
        "model_body (Sentence Transformer):\n",
        "  0.auto_model.embeddings.word_embeddings.weight\n",
        "  0.auto_model.embeddings.position_embeddings.weight\n",
        "  ...\n",
        "  0.auto_model.encoder.layer.11.output.LayerNorm.weight\n",
        "  0.auto_model.encoder.layer.11.output.LayerNorm.bias\n",
        "  0.auto_model.encoder.relative_attention_bias.weight\n",
        "  0.auto_model.pooler.dense.weight  ← Pooler (여기서 끝)\n",
        "  0.auto_model.pooler.dense.bias\n",
        "  (Pooling 레이어는 파라미터 없음 - mean pooling)\n",
        "\n",
        "model_head (Classifier):\n",
        "  sklearn.LogisticRegression\n",
        "  - coef_: ndarray shape (num_classes, 768)\n",
        "  - intercept_: ndarray shape (num_classes,)\n",
        "```\n",
        "- **2단계 분리 구조**:\n",
        "  - `model_body`: Sentence Transformer (PyTorch, Pooler까지 포함)\n",
        "  - `model_head`: LogisticRegression (sklearn, NumPy)\n",
        "- **Pooler까지만** PyTorch 파라미터\n",
        "- **분류 헤드**: sklearn 모델 (NumPy 배열, `named_parameters()` 불가)\n",
        "- Pooling 레이어는 파라미터 없는 연산만 수행 (mean pooling)\n",
        "\n",
        "---\n",
        "\n",
        "### 핵심 차이\n",
        "\n",
        "| 구분 | AutoModel | SetFit |\n",
        "|------|-----------|--------|\n",
        "| 구조 | 단일 PyTorch | PyTorch + sklearn |\n",
        "| 마지막 학습 가능 레이어 | classifier | pooler |\n",
        "| 분류기 | Linear (torch.nn) | LogisticRegression (sklearn) |\n",
        "| 파라미터 확인 | `named_parameters()` 전체 | `model_body.named_parameters()` 만 |\n",
        "| 학습 방식 | 엔드-투-엔드 | 2단계 (Contrastive → 분류) |"
      ],
      "metadata": {
        "id": "-D_mxmUc7T91"
      }
    },
    {
      "cell_type": "markdown",
      "source": [
        "#### Few-Shot fine-tuning 하기 전"
      ],
      "metadata": {
        "id": "d-CONWdk3xd6"
      }
    },
    {
      "cell_type": "code",
      "source": [
        "# 1. 사전학습 모델 그대로 (baseline)\n",
        "model_base = AutoModelForSequenceClassification.from_pretrained(\n",
        "    \"jhgan/ko-sroberta-multitask\",\n",
        "    num_labels=2\n",
        ")\n",
        "tokenizer = AutoTokenizer.from_pretrained(\"jhgan/ko-sroberta-multitask\")\n",
        "\n",
        "tokenized_train = sampled_train_data.map(preprocess_function, batched=True)\n",
        "tokenized_test = test_data.map(preprocess_function, batched=True)"
      ],
      "metadata": {
        "colab": {
          "base_uri": "https://localhost:8080/",
          "height": 104,
          "referenced_widgets": [
            "714d876d8fa94829a06f0615b20f8ebe",
            "4564d44396f046589680cb099cd913f0",
            "9b628043ffe943ce959975639030dd0c",
            "c7faed702c84440392ea315f3f14f1ee",
            "c8fb0ff755d14ea493bf83ec5328e487",
            "5169a3e56b434cebbaa0111ce6dfd621",
            "efe32cff83844de9af7a5cd40e02e4bf",
            "9cbed5ebe93345408c558e0e9babcd74",
            "2ea974ae02b04b07a11593249ab8fb2b",
            "e68761eb68e74af2a4c559bc47f0581e",
            "91f64f35c65145dcb46e6c10182deecf"
          ]
        },
        "id": "xCxeLlIQ2Tc7",
        "outputId": "b2b25759-2653-475f-f7de-4a73093d1d26"
      },
      "execution_count": null,
      "outputs": [
        {
          "output_type": "stream",
          "name": "stderr",
          "text": [
            "Some weights of RobertaForSequenceClassification were not initialized from the model checkpoint at jhgan/ko-sroberta-multitask and are newly initialized: ['classifier.dense.bias', 'classifier.dense.weight', 'classifier.out_proj.bias', 'classifier.out_proj.weight']\n",
            "You should probably TRAIN this model on a down-stream task to be able to use it for predictions and inference.\n"
          ]
        },
        {
          "output_type": "display_data",
          "data": {
            "text/plain": [
              "Map:   0%|          | 0/32 [00:00<?, ? examples/s]"
            ],
            "application/vnd.jupyter.widget-view+json": {
              "version_major": 2,
              "version_minor": 0,
              "model_id": "714d876d8fa94829a06f0615b20f8ebe"
            }
          },
          "metadata": {}
        }
      ]
    },
    {
      "cell_type": "code",
      "source": [
        "data_collator = DataCollatorWithPadding(tokenizer=tokenizer)"
      ],
      "metadata": {
        "id": "yTc7kpPa3mcs"
      },
      "execution_count": null,
      "outputs": []
    },
    {
      "cell_type": "code",
      "source": [
        "# 일반 파인튜닝\n",
        "trainer_base = Trainer(\n",
        "    model=model_base,\n",
        "    args=training_args,\n",
        "    train_dataset=tokenized_train,\n",
        "    eval_dataset=tokenized_test,\n",
        "    compute_metrics=compute_metrics,\n",
        "    data_collator=data_collator,\n",
        ")\n",
        "trainer_base.train()\n",
        "metrics_base = trainer_base.evaluate()"
      ],
      "metadata": {
        "colab": {
          "base_uri": "https://localhost:8080/",
          "height": 254
        },
        "id": "HpnAKQ-M3Poz",
        "outputId": "62d58882-ebe3-451c-f807-360b9f80ab5a"
      },
      "execution_count": null,
      "outputs": [
        {
          "output_type": "display_data",
          "data": {
            "text/plain": [
              "<IPython.core.display.HTML object>"
            ],
            "text/html": [
              "\n",
              "    <div>\n",
              "      \n",
              "      <progress value='2' max='2' style='width:300px; height:20px; vertical-align: middle;'></progress>\n",
              "      [2/2 00:01, Epoch 1/1]\n",
              "    </div>\n",
              "    <table border=\"1\" class=\"dataframe\">\n",
              "  <thead>\n",
              " <tr style=\"text-align: left;\">\n",
              "      <th>Step</th>\n",
              "      <th>Training Loss</th>\n",
              "    </tr>\n",
              "  </thead>\n",
              "  <tbody>\n",
              "  </tbody>\n",
              "</table><p>"
            ]
          },
          "metadata": {}
        },
        {
          "output_type": "stream",
          "name": "stderr",
          "text": [
            "/usr/local/lib/python3.12/dist-packages/jupyter_client/session.py:203: DeprecationWarning: datetime.datetime.utcnow() is deprecated and scheduled for removal in a future version. Use timezone-aware objects to represent datetimes in UTC: datetime.datetime.now(datetime.UTC).\n",
            "  return datetime.utcnow().replace(tzinfo=utc)\n",
            "/usr/local/lib/python3.12/dist-packages/google/protobuf/internal/well_known_types.py:178: DeprecationWarning: datetime.datetime.utcnow() is deprecated and scheduled for removal in a future version. Use timezone-aware objects to represent datetimes in UTC: datetime.datetime.now(datetime.UTC).\n",
            "  self.FromDatetime(datetime.datetime.utcnow())\n"
          ]
        },
        {
          "output_type": "display_data",
          "data": {
            "text/plain": [
              "<IPython.core.display.HTML object>"
            ],
            "text/html": [
              "\n",
              "    <div>\n",
              "      \n",
              "      <progress value='63' max='63' style='width:300px; height:20px; vertical-align: middle;'></progress>\n",
              "      [63/63 00:01]\n",
              "    </div>\n",
              "    "
            ]
          },
          "metadata": {}
        },
        {
          "output_type": "stream",
          "name": "stderr",
          "text": [
            "/usr/local/lib/python3.12/dist-packages/jupyter_client/session.py:203: DeprecationWarning: datetime.datetime.utcnow() is deprecated and scheduled for removal in a future version. Use timezone-aware objects to represent datetimes in UTC: datetime.datetime.now(datetime.UTC).\n",
            "  return datetime.utcnow().replace(tzinfo=utc)\n",
            "/usr/local/lib/python3.12/dist-packages/google/protobuf/internal/well_known_types.py:178: DeprecationWarning: datetime.datetime.utcnow() is deprecated and scheduled for removal in a future version. Use timezone-aware objects to represent datetimes in UTC: datetime.datetime.now(datetime.UTC).\n",
            "  self.FromDatetime(datetime.datetime.utcnow())\n"
          ]
        }
      ]
    },
    {
      "cell_type": "code",
      "source": [
        "trainer_base.evaluate()\n",
        "# 0.88 (8500개 훈련 데이터로)\n",
        "# 0.654 (few-shot 훈련용 샘플 데이터로)"
      ],
      "metadata": {
        "colab": {
          "base_uri": "https://localhost:8080/",
          "height": 231
        },
        "id": "kp3GXDvP36Qs",
        "outputId": "e5e1f31d-1f18-41a4-f8cb-44ea983c4cfc"
      },
      "execution_count": null,
      "outputs": [
        {
          "output_type": "display_data",
          "data": {
            "text/plain": [
              "<IPython.core.display.HTML object>"
            ],
            "text/html": [
              "\n",
              "    <div>\n",
              "      \n",
              "      <progress value='126' max='63' style='width:300px; height:20px; vertical-align: middle;'></progress>\n",
              "      [63/63 00:06]\n",
              "    </div>\n",
              "    "
            ]
          },
          "metadata": {}
        },
        {
          "output_type": "stream",
          "name": "stderr",
          "text": [
            "/usr/local/lib/python3.12/dist-packages/jupyter_client/session.py:203: DeprecationWarning: datetime.datetime.utcnow() is deprecated and scheduled for removal in a future version. Use timezone-aware objects to represent datetimes in UTC: datetime.datetime.now(datetime.UTC).\n",
            "  return datetime.utcnow().replace(tzinfo=utc)\n",
            "/usr/local/lib/python3.12/dist-packages/google/protobuf/internal/well_known_types.py:178: DeprecationWarning: datetime.datetime.utcnow() is deprecated and scheduled for removal in a future version. Use timezone-aware objects to represent datetimes in UTC: datetime.datetime.now(datetime.UTC).\n",
            "  self.FromDatetime(datetime.datetime.utcnow())\n"
          ]
        },
        {
          "output_type": "execute_result",
          "data": {
            "text/plain": [
              "{'eval_loss': 0.6849080324172974,\n",
              " 'eval_f1': 0.6543385490753911,\n",
              " 'eval_runtime': 1.4966,\n",
              " 'eval_samples_per_second': 668.194,\n",
              " 'eval_steps_per_second': 42.096,\n",
              " 'epoch': 1.0}"
            ]
          },
          "metadata": {},
          "execution_count": 52
        }
      ]
    },
    {
      "cell_type": "code",
      "source": [
        "# model head 확인하기\n",
        "model.model_head\n",
        "\n",
        "# 모델이 학습되지 않아서 주황색으로 나타남\n",
        "# 학습한 상태는 하늘색"
      ],
      "metadata": {
        "id": "oyQzGrULBGja",
        "colab": {
          "base_uri": "https://localhost:8080/",
          "height": 80
        },
        "outputId": "aca43abd-c927-4038-c08c-39dd1e7ed55a"
      },
      "execution_count": null,
      "outputs": [
        {
          "output_type": "execute_result",
          "data": {
            "text/plain": [
              "LogisticRegression()"
            ],
            "text/html": [
              "<style>#sk-container-id-2 {\n",
              "  /* Definition of color scheme common for light and dark mode */\n",
              "  --sklearn-color-text: #000;\n",
              "  --sklearn-color-text-muted: #666;\n",
              "  --sklearn-color-line: gray;\n",
              "  /* Definition of color scheme for unfitted estimators */\n",
              "  --sklearn-color-unfitted-level-0: #fff5e6;\n",
              "  --sklearn-color-unfitted-level-1: #f6e4d2;\n",
              "  --sklearn-color-unfitted-level-2: #ffe0b3;\n",
              "  --sklearn-color-unfitted-level-3: chocolate;\n",
              "  /* Definition of color scheme for fitted estimators */\n",
              "  --sklearn-color-fitted-level-0: #f0f8ff;\n",
              "  --sklearn-color-fitted-level-1: #d4ebff;\n",
              "  --sklearn-color-fitted-level-2: #b3dbfd;\n",
              "  --sklearn-color-fitted-level-3: cornflowerblue;\n",
              "\n",
              "  /* Specific color for light theme */\n",
              "  --sklearn-color-text-on-default-background: var(--sg-text-color, var(--theme-code-foreground, var(--jp-content-font-color1, black)));\n",
              "  --sklearn-color-background: var(--sg-background-color, var(--theme-background, var(--jp-layout-color0, white)));\n",
              "  --sklearn-color-border-box: var(--sg-text-color, var(--theme-code-foreground, var(--jp-content-font-color1, black)));\n",
              "  --sklearn-color-icon: #696969;\n",
              "\n",
              "  @media (prefers-color-scheme: dark) {\n",
              "    /* Redefinition of color scheme for dark theme */\n",
              "    --sklearn-color-text-on-default-background: var(--sg-text-color, var(--theme-code-foreground, var(--jp-content-font-color1, white)));\n",
              "    --sklearn-color-background: var(--sg-background-color, var(--theme-background, var(--jp-layout-color0, #111)));\n",
              "    --sklearn-color-border-box: var(--sg-text-color, var(--theme-code-foreground, var(--jp-content-font-color1, white)));\n",
              "    --sklearn-color-icon: #878787;\n",
              "  }\n",
              "}\n",
              "\n",
              "#sk-container-id-2 {\n",
              "  color: var(--sklearn-color-text);\n",
              "}\n",
              "\n",
              "#sk-container-id-2 pre {\n",
              "  padding: 0;\n",
              "}\n",
              "\n",
              "#sk-container-id-2 input.sk-hidden--visually {\n",
              "  border: 0;\n",
              "  clip: rect(1px 1px 1px 1px);\n",
              "  clip: rect(1px, 1px, 1px, 1px);\n",
              "  height: 1px;\n",
              "  margin: -1px;\n",
              "  overflow: hidden;\n",
              "  padding: 0;\n",
              "  position: absolute;\n",
              "  width: 1px;\n",
              "}\n",
              "\n",
              "#sk-container-id-2 div.sk-dashed-wrapped {\n",
              "  border: 1px dashed var(--sklearn-color-line);\n",
              "  margin: 0 0.4em 0.5em 0.4em;\n",
              "  box-sizing: border-box;\n",
              "  padding-bottom: 0.4em;\n",
              "  background-color: var(--sklearn-color-background);\n",
              "}\n",
              "\n",
              "#sk-container-id-2 div.sk-container {\n",
              "  /* jupyter's `normalize.less` sets `[hidden] { display: none; }`\n",
              "     but bootstrap.min.css set `[hidden] { display: none !important; }`\n",
              "     so we also need the `!important` here to be able to override the\n",
              "     default hidden behavior on the sphinx rendered scikit-learn.org.\n",
              "     See: https://github.com/scikit-learn/scikit-learn/issues/21755 */\n",
              "  display: inline-block !important;\n",
              "  position: relative;\n",
              "}\n",
              "\n",
              "#sk-container-id-2 div.sk-text-repr-fallback {\n",
              "  display: none;\n",
              "}\n",
              "\n",
              "div.sk-parallel-item,\n",
              "div.sk-serial,\n",
              "div.sk-item {\n",
              "  /* draw centered vertical line to link estimators */\n",
              "  background-image: linear-gradient(var(--sklearn-color-text-on-default-background), var(--sklearn-color-text-on-default-background));\n",
              "  background-size: 2px 100%;\n",
              "  background-repeat: no-repeat;\n",
              "  background-position: center center;\n",
              "}\n",
              "\n",
              "/* Parallel-specific style estimator block */\n",
              "\n",
              "#sk-container-id-2 div.sk-parallel-item::after {\n",
              "  content: \"\";\n",
              "  width: 100%;\n",
              "  border-bottom: 2px solid var(--sklearn-color-text-on-default-background);\n",
              "  flex-grow: 1;\n",
              "}\n",
              "\n",
              "#sk-container-id-2 div.sk-parallel {\n",
              "  display: flex;\n",
              "  align-items: stretch;\n",
              "  justify-content: center;\n",
              "  background-color: var(--sklearn-color-background);\n",
              "  position: relative;\n",
              "}\n",
              "\n",
              "#sk-container-id-2 div.sk-parallel-item {\n",
              "  display: flex;\n",
              "  flex-direction: column;\n",
              "}\n",
              "\n",
              "#sk-container-id-2 div.sk-parallel-item:first-child::after {\n",
              "  align-self: flex-end;\n",
              "  width: 50%;\n",
              "}\n",
              "\n",
              "#sk-container-id-2 div.sk-parallel-item:last-child::after {\n",
              "  align-self: flex-start;\n",
              "  width: 50%;\n",
              "}\n",
              "\n",
              "#sk-container-id-2 div.sk-parallel-item:only-child::after {\n",
              "  width: 0;\n",
              "}\n",
              "\n",
              "/* Serial-specific style estimator block */\n",
              "\n",
              "#sk-container-id-2 div.sk-serial {\n",
              "  display: flex;\n",
              "  flex-direction: column;\n",
              "  align-items: center;\n",
              "  background-color: var(--sklearn-color-background);\n",
              "  padding-right: 1em;\n",
              "  padding-left: 1em;\n",
              "}\n",
              "\n",
              "\n",
              "/* Toggleable style: style used for estimator/Pipeline/ColumnTransformer box that is\n",
              "clickable and can be expanded/collapsed.\n",
              "- Pipeline and ColumnTransformer use this feature and define the default style\n",
              "- Estimators will overwrite some part of the style using the `sk-estimator` class\n",
              "*/\n",
              "\n",
              "/* Pipeline and ColumnTransformer style (default) */\n",
              "\n",
              "#sk-container-id-2 div.sk-toggleable {\n",
              "  /* Default theme specific background. It is overwritten whether we have a\n",
              "  specific estimator or a Pipeline/ColumnTransformer */\n",
              "  background-color: var(--sklearn-color-background);\n",
              "}\n",
              "\n",
              "/* Toggleable label */\n",
              "#sk-container-id-2 label.sk-toggleable__label {\n",
              "  cursor: pointer;\n",
              "  display: flex;\n",
              "  width: 100%;\n",
              "  margin-bottom: 0;\n",
              "  padding: 0.5em;\n",
              "  box-sizing: border-box;\n",
              "  text-align: center;\n",
              "  align-items: start;\n",
              "  justify-content: space-between;\n",
              "  gap: 0.5em;\n",
              "}\n",
              "\n",
              "#sk-container-id-2 label.sk-toggleable__label .caption {\n",
              "  font-size: 0.6rem;\n",
              "  font-weight: lighter;\n",
              "  color: var(--sklearn-color-text-muted);\n",
              "}\n",
              "\n",
              "#sk-container-id-2 label.sk-toggleable__label-arrow:before {\n",
              "  /* Arrow on the left of the label */\n",
              "  content: \"▸\";\n",
              "  float: left;\n",
              "  margin-right: 0.25em;\n",
              "  color: var(--sklearn-color-icon);\n",
              "}\n",
              "\n",
              "#sk-container-id-2 label.sk-toggleable__label-arrow:hover:before {\n",
              "  color: var(--sklearn-color-text);\n",
              "}\n",
              "\n",
              "/* Toggleable content - dropdown */\n",
              "\n",
              "#sk-container-id-2 div.sk-toggleable__content {\n",
              "  max-height: 0;\n",
              "  max-width: 0;\n",
              "  overflow: hidden;\n",
              "  text-align: left;\n",
              "  /* unfitted */\n",
              "  background-color: var(--sklearn-color-unfitted-level-0);\n",
              "}\n",
              "\n",
              "#sk-container-id-2 div.sk-toggleable__content.fitted {\n",
              "  /* fitted */\n",
              "  background-color: var(--sklearn-color-fitted-level-0);\n",
              "}\n",
              "\n",
              "#sk-container-id-2 div.sk-toggleable__content pre {\n",
              "  margin: 0.2em;\n",
              "  border-radius: 0.25em;\n",
              "  color: var(--sklearn-color-text);\n",
              "  /* unfitted */\n",
              "  background-color: var(--sklearn-color-unfitted-level-0);\n",
              "}\n",
              "\n",
              "#sk-container-id-2 div.sk-toggleable__content.fitted pre {\n",
              "  /* unfitted */\n",
              "  background-color: var(--sklearn-color-fitted-level-0);\n",
              "}\n",
              "\n",
              "#sk-container-id-2 input.sk-toggleable__control:checked~div.sk-toggleable__content {\n",
              "  /* Expand drop-down */\n",
              "  max-height: 200px;\n",
              "  max-width: 100%;\n",
              "  overflow: auto;\n",
              "}\n",
              "\n",
              "#sk-container-id-2 input.sk-toggleable__control:checked~label.sk-toggleable__label-arrow:before {\n",
              "  content: \"▾\";\n",
              "}\n",
              "\n",
              "/* Pipeline/ColumnTransformer-specific style */\n",
              "\n",
              "#sk-container-id-2 div.sk-label input.sk-toggleable__control:checked~label.sk-toggleable__label {\n",
              "  color: var(--sklearn-color-text);\n",
              "  background-color: var(--sklearn-color-unfitted-level-2);\n",
              "}\n",
              "\n",
              "#sk-container-id-2 div.sk-label.fitted input.sk-toggleable__control:checked~label.sk-toggleable__label {\n",
              "  background-color: var(--sklearn-color-fitted-level-2);\n",
              "}\n",
              "\n",
              "/* Estimator-specific style */\n",
              "\n",
              "/* Colorize estimator box */\n",
              "#sk-container-id-2 div.sk-estimator input.sk-toggleable__control:checked~label.sk-toggleable__label {\n",
              "  /* unfitted */\n",
              "  background-color: var(--sklearn-color-unfitted-level-2);\n",
              "}\n",
              "\n",
              "#sk-container-id-2 div.sk-estimator.fitted input.sk-toggleable__control:checked~label.sk-toggleable__label {\n",
              "  /* fitted */\n",
              "  background-color: var(--sklearn-color-fitted-level-2);\n",
              "}\n",
              "\n",
              "#sk-container-id-2 div.sk-label label.sk-toggleable__label,\n",
              "#sk-container-id-2 div.sk-label label {\n",
              "  /* The background is the default theme color */\n",
              "  color: var(--sklearn-color-text-on-default-background);\n",
              "}\n",
              "\n",
              "/* On hover, darken the color of the background */\n",
              "#sk-container-id-2 div.sk-label:hover label.sk-toggleable__label {\n",
              "  color: var(--sklearn-color-text);\n",
              "  background-color: var(--sklearn-color-unfitted-level-2);\n",
              "}\n",
              "\n",
              "/* Label box, darken color on hover, fitted */\n",
              "#sk-container-id-2 div.sk-label.fitted:hover label.sk-toggleable__label.fitted {\n",
              "  color: var(--sklearn-color-text);\n",
              "  background-color: var(--sklearn-color-fitted-level-2);\n",
              "}\n",
              "\n",
              "/* Estimator label */\n",
              "\n",
              "#sk-container-id-2 div.sk-label label {\n",
              "  font-family: monospace;\n",
              "  font-weight: bold;\n",
              "  display: inline-block;\n",
              "  line-height: 1.2em;\n",
              "}\n",
              "\n",
              "#sk-container-id-2 div.sk-label-container {\n",
              "  text-align: center;\n",
              "}\n",
              "\n",
              "/* Estimator-specific */\n",
              "#sk-container-id-2 div.sk-estimator {\n",
              "  font-family: monospace;\n",
              "  border: 1px dotted var(--sklearn-color-border-box);\n",
              "  border-radius: 0.25em;\n",
              "  box-sizing: border-box;\n",
              "  margin-bottom: 0.5em;\n",
              "  /* unfitted */\n",
              "  background-color: var(--sklearn-color-unfitted-level-0);\n",
              "}\n",
              "\n",
              "#sk-container-id-2 div.sk-estimator.fitted {\n",
              "  /* fitted */\n",
              "  background-color: var(--sklearn-color-fitted-level-0);\n",
              "}\n",
              "\n",
              "/* on hover */\n",
              "#sk-container-id-2 div.sk-estimator:hover {\n",
              "  /* unfitted */\n",
              "  background-color: var(--sklearn-color-unfitted-level-2);\n",
              "}\n",
              "\n",
              "#sk-container-id-2 div.sk-estimator.fitted:hover {\n",
              "  /* fitted */\n",
              "  background-color: var(--sklearn-color-fitted-level-2);\n",
              "}\n",
              "\n",
              "/* Specification for estimator info (e.g. \"i\" and \"?\") */\n",
              "\n",
              "/* Common style for \"i\" and \"?\" */\n",
              "\n",
              ".sk-estimator-doc-link,\n",
              "a:link.sk-estimator-doc-link,\n",
              "a:visited.sk-estimator-doc-link {\n",
              "  float: right;\n",
              "  font-size: smaller;\n",
              "  line-height: 1em;\n",
              "  font-family: monospace;\n",
              "  background-color: var(--sklearn-color-background);\n",
              "  border-radius: 1em;\n",
              "  height: 1em;\n",
              "  width: 1em;\n",
              "  text-decoration: none !important;\n",
              "  margin-left: 0.5em;\n",
              "  text-align: center;\n",
              "  /* unfitted */\n",
              "  border: var(--sklearn-color-unfitted-level-1) 1pt solid;\n",
              "  color: var(--sklearn-color-unfitted-level-1);\n",
              "}\n",
              "\n",
              ".sk-estimator-doc-link.fitted,\n",
              "a:link.sk-estimator-doc-link.fitted,\n",
              "a:visited.sk-estimator-doc-link.fitted {\n",
              "  /* fitted */\n",
              "  border: var(--sklearn-color-fitted-level-1) 1pt solid;\n",
              "  color: var(--sklearn-color-fitted-level-1);\n",
              "}\n",
              "\n",
              "/* On hover */\n",
              "div.sk-estimator:hover .sk-estimator-doc-link:hover,\n",
              ".sk-estimator-doc-link:hover,\n",
              "div.sk-label-container:hover .sk-estimator-doc-link:hover,\n",
              ".sk-estimator-doc-link:hover {\n",
              "  /* unfitted */\n",
              "  background-color: var(--sklearn-color-unfitted-level-3);\n",
              "  color: var(--sklearn-color-background);\n",
              "  text-decoration: none;\n",
              "}\n",
              "\n",
              "div.sk-estimator.fitted:hover .sk-estimator-doc-link.fitted:hover,\n",
              ".sk-estimator-doc-link.fitted:hover,\n",
              "div.sk-label-container:hover .sk-estimator-doc-link.fitted:hover,\n",
              ".sk-estimator-doc-link.fitted:hover {\n",
              "  /* fitted */\n",
              "  background-color: var(--sklearn-color-fitted-level-3);\n",
              "  color: var(--sklearn-color-background);\n",
              "  text-decoration: none;\n",
              "}\n",
              "\n",
              "/* Span, style for the box shown on hovering the info icon */\n",
              ".sk-estimator-doc-link span {\n",
              "  display: none;\n",
              "  z-index: 9999;\n",
              "  position: relative;\n",
              "  font-weight: normal;\n",
              "  right: .2ex;\n",
              "  padding: .5ex;\n",
              "  margin: .5ex;\n",
              "  width: min-content;\n",
              "  min-width: 20ex;\n",
              "  max-width: 50ex;\n",
              "  color: var(--sklearn-color-text);\n",
              "  box-shadow: 2pt 2pt 4pt #999;\n",
              "  /* unfitted */\n",
              "  background: var(--sklearn-color-unfitted-level-0);\n",
              "  border: .5pt solid var(--sklearn-color-unfitted-level-3);\n",
              "}\n",
              "\n",
              ".sk-estimator-doc-link.fitted span {\n",
              "  /* fitted */\n",
              "  background: var(--sklearn-color-fitted-level-0);\n",
              "  border: var(--sklearn-color-fitted-level-3);\n",
              "}\n",
              "\n",
              ".sk-estimator-doc-link:hover span {\n",
              "  display: block;\n",
              "}\n",
              "\n",
              "/* \"?\"-specific style due to the `<a>` HTML tag */\n",
              "\n",
              "#sk-container-id-2 a.estimator_doc_link {\n",
              "  float: right;\n",
              "  font-size: 1rem;\n",
              "  line-height: 1em;\n",
              "  font-family: monospace;\n",
              "  background-color: var(--sklearn-color-background);\n",
              "  border-radius: 1rem;\n",
              "  height: 1rem;\n",
              "  width: 1rem;\n",
              "  text-decoration: none;\n",
              "  /* unfitted */\n",
              "  color: var(--sklearn-color-unfitted-level-1);\n",
              "  border: var(--sklearn-color-unfitted-level-1) 1pt solid;\n",
              "}\n",
              "\n",
              "#sk-container-id-2 a.estimator_doc_link.fitted {\n",
              "  /* fitted */\n",
              "  border: var(--sklearn-color-fitted-level-1) 1pt solid;\n",
              "  color: var(--sklearn-color-fitted-level-1);\n",
              "}\n",
              "\n",
              "/* On hover */\n",
              "#sk-container-id-2 a.estimator_doc_link:hover {\n",
              "  /* unfitted */\n",
              "  background-color: var(--sklearn-color-unfitted-level-3);\n",
              "  color: var(--sklearn-color-background);\n",
              "  text-decoration: none;\n",
              "}\n",
              "\n",
              "#sk-container-id-2 a.estimator_doc_link.fitted:hover {\n",
              "  /* fitted */\n",
              "  background-color: var(--sklearn-color-fitted-level-3);\n",
              "}\n",
              "</style><div id=\"sk-container-id-2\" class=\"sk-top-container\"><div class=\"sk-text-repr-fallback\"><pre>LogisticRegression()</pre><b>In a Jupyter environment, please rerun this cell to show the HTML representation or trust the notebook. <br />On GitHub, the HTML representation is unable to render, please try loading this page with nbviewer.org.</b></div><div class=\"sk-container\" hidden><div class=\"sk-item\"><div class=\"sk-estimator  sk-toggleable\"><input class=\"sk-toggleable__control sk-hidden--visually\" id=\"sk-estimator-id-2\" type=\"checkbox\" checked><label for=\"sk-estimator-id-2\" class=\"sk-toggleable__label  sk-toggleable__label-arrow\"><div><div>LogisticRegression</div></div><div><a class=\"sk-estimator-doc-link \" rel=\"noreferrer\" target=\"_blank\" href=\"https://scikit-learn.org/1.6/modules/generated/sklearn.linear_model.LogisticRegression.html\">?<span>Documentation for LogisticRegression</span></a><span class=\"sk-estimator-doc-link \">i<span>Not fitted</span></span></div></label><div class=\"sk-toggleable__content \"><pre>LogisticRegression()</pre></div> </div></div></div></div>"
            ]
          },
          "metadata": {},
          "execution_count": 43
        }
      ]
    },
    {
      "cell_type": "markdown",
      "source": [
        "#### Few-shot fine-tuning 한 후"
      ],
      "metadata": {
        "id": "4BH7f3xj4GJW"
      }
    },
    {
      "cell_type": "code",
      "execution_count": null,
      "metadata": {
        "id": "zZ10SpAXdNvC",
        "colab": {
          "base_uri": "https://localhost:8080/",
          "height": 173,
          "referenced_widgets": [
            "b0c3226e9a94447abe1d994fa7218cf9",
            "c029e34148ce47028a27ef2a43016d40",
            "63b02d95024f4a9ca18738cefb05dc5a",
            "c8cceeb57293412bbd72f5298c2174ce",
            "2c868108496445bc8f70d818d05918f5",
            "4635edaee95e4b21ade488a502e6004a",
            "cd5f13301a6648be8747c54d16494b09",
            "fea6edc3da904c4dac183ebcba6e2279",
            "c35999d8f2e442f78c1fa4d1c28e5d07",
            "0a6f86284d3345ca9415a5106a811c8f",
            "88aa14b25af745a4ae7a7167f36f08a4"
          ]
        },
        "outputId": "e9f672c2-d52a-4e0b-c9cd-05435e81ed6c"
      },
      "outputs": [
        {
          "output_type": "stream",
          "name": "stderr",
          "text": [
            "Applying column mapping to the training dataset\n",
            "Applying column mapping to the evaluation dataset\n",
            "/usr/local/lib/python3.12/dist-packages/jupyter_client/session.py:203: DeprecationWarning: datetime.datetime.utcnow() is deprecated and scheduled for removal in a future version. Use timezone-aware objects to represent datetimes in UTC: datetime.datetime.now(datetime.UTC).\n",
            "  return datetime.utcnow().replace(tzinfo=utc)\n",
            "/usr/local/lib/python3.12/dist-packages/google/protobuf/internal/well_known_types.py:178: DeprecationWarning: datetime.datetime.utcnow() is deprecated and scheduled for removal in a future version. Use timezone-aware objects to represent datetimes in UTC: datetime.datetime.now(datetime.UTC).\n",
            "  self.FromDatetime(datetime.datetime.utcnow())\n"
          ]
        },
        {
          "output_type": "display_data",
          "data": {
            "text/plain": [
              "Map:   0%|          | 0/32 [00:00<?, ? examples/s]"
            ],
            "application/vnd.jupyter.widget-view+json": {
              "version_major": 2,
              "version_minor": 0,
              "model_id": "b0c3226e9a94447abe1d994fa7218cf9"
            }
          },
          "metadata": {}
        }
      ],
      "source": [
        "from setfit import TrainingArguments as SetFitTrainingArguments\n",
        "from setfit import Trainer as SetFitTrainer\n",
        "\n",
        "# 훈련 매개변수를 정의합니다.\n",
        "args = SetFitTrainingArguments(\n",
        "    num_epochs=3,      # 대조 학습을 수행할 에포크 횟수\n",
        "    num_iterations=30,  # 한 에포크당 pair 샘플링 생성 반복 횟수 (32 * 2 * num_iterations)\n",
        "    # batch_size = 16 (default)\n",
        ")\n",
        "args.eval_strategy = args.evaluation_strategy\n",
        "\n",
        "# Trainer 객체를 만듭니다.\n",
        "trainer = SetFitTrainer(\n",
        "    model=model,\n",
        "    args=args,\n",
        "    train_dataset=sampled_train_data,\n",
        "    eval_dataset=test_data,\n",
        "    metric=\"f1\",\n",
        "    column_mapping={\"document\": \"text\"}  # default required columns = ['text', 'label']\n",
        ")\n"
      ]
    },
    {
      "cell_type": "code",
      "execution_count": null,
      "metadata": {
        "id": "WoVvXBiV6Lmu",
        "colab": {
          "base_uri": "https://localhost:8080/",
          "height": 338
        },
        "outputId": "b490bb47-4b38-4e28-9863-24bbb287cb80"
      },
      "outputs": [
        {
          "output_type": "stream",
          "name": "stderr",
          "text": [
            "***** Running training *****\n",
            "  Num unique pairs = 1920\n",
            "  Batch size = 16\n",
            "  Num epochs = 3\n"
          ]
        },
        {
          "output_type": "display_data",
          "data": {
            "text/plain": [
              "<IPython.core.display.HTML object>"
            ],
            "text/html": [
              "\n",
              "    <div>\n",
              "      \n",
              "      <progress value='360' max='360' style='width:300px; height:20px; vertical-align: middle;'></progress>\n",
              "      [360/360 00:36, Epoch 3/3]\n",
              "    </div>\n",
              "    <table border=\"1\" class=\"dataframe\">\n",
              "  <thead>\n",
              " <tr style=\"text-align: left;\">\n",
              "      <th>Step</th>\n",
              "      <th>Training Loss</th>\n",
              "      <th>Validation Loss</th>\n",
              "    </tr>\n",
              "  </thead>\n",
              "  <tbody>\n",
              "  </tbody>\n",
              "</table><p>"
            ]
          },
          "metadata": {}
        },
        {
          "output_type": "stream",
          "name": "stderr",
          "text": [
            "/usr/local/lib/python3.12/dist-packages/jupyter_client/session.py:203: DeprecationWarning: datetime.datetime.utcnow() is deprecated and scheduled for removal in a future version. Use timezone-aware objects to represent datetimes in UTC: datetime.datetime.now(datetime.UTC).\n",
            "  return datetime.utcnow().replace(tzinfo=utc)\n",
            "/usr/local/lib/python3.12/dist-packages/google/protobuf/internal/well_known_types.py:178: DeprecationWarning: datetime.datetime.utcnow() is deprecated and scheduled for removal in a future version. Use timezone-aware objects to represent datetimes in UTC: datetime.datetime.now(datetime.UTC).\n",
            "  self.FromDatetime(datetime.datetime.utcnow())\n",
            "/usr/local/lib/python3.12/dist-packages/sklearn/linear_model/_logistic.py:451: DeprecationWarning: scipy.optimize: The `disp` and `iprint` options of the L-BFGS-B solver are deprecated and will be removed in SciPy 1.18.0.\n",
            "  opt_res = optimize.minimize(\n",
            "/usr/local/lib/python3.12/dist-packages/google/protobuf/internal/well_known_types.py:178: DeprecationWarning: datetime.datetime.utcnow() is deprecated and scheduled for removal in a future version. Use timezone-aware objects to represent datetimes in UTC: datetime.datetime.now(datetime.UTC).\n",
            "  self.FromDatetime(datetime.datetime.utcnow())\n",
            "/usr/local/lib/python3.12/dist-packages/jupyter_client/session.py:203: DeprecationWarning: datetime.datetime.utcnow() is deprecated and scheduled for removal in a future version. Use timezone-aware objects to represent datetimes in UTC: datetime.datetime.now(datetime.UTC).\n",
            "  return datetime.utcnow().replace(tzinfo=utc)\n"
          ]
        }
      ],
      "source": [
        "# 훈련 루프\n",
        "trainer.train()\n",
        "\n",
        "# wandb(Weights & Biases):\n",
        "# 머신러닝 모델의 훈련 과정(손실, 정확도 등)과 결과물을 자동으로 기록하고 시각화하여\n",
        "# 실험을 체계적으로 관리하고 다른 실험과 비교할 수 있게 도와주는 MLOps(기계 학습 운영) 도구"
      ]
    },
    {
      "cell_type": "code",
      "execution_count": null,
      "metadata": {
        "id": "PyRxiY32R3Jd",
        "colab": {
          "base_uri": "https://localhost:8080/"
        },
        "outputId": "e1f6e1b9-eaf2-4037-fa7a-bbec94cb5b17"
      },
      "outputs": [
        {
          "output_type": "stream",
          "name": "stderr",
          "text": [
            "***** Running evaluation *****\n",
            "/usr/local/lib/python3.12/dist-packages/jupyter_client/session.py:203: DeprecationWarning: datetime.datetime.utcnow() is deprecated and scheduled for removal in a future version. Use timezone-aware objects to represent datetimes in UTC: datetime.datetime.now(datetime.UTC).\n",
            "  return datetime.utcnow().replace(tzinfo=utc)\n",
            "/usr/local/lib/python3.12/dist-packages/google/protobuf/internal/well_known_types.py:178: DeprecationWarning: datetime.datetime.utcnow() is deprecated and scheduled for removal in a future version. Use timezone-aware objects to represent datetimes in UTC: datetime.datetime.now(datetime.UTC).\n",
            "  self.FromDatetime(datetime.datetime.utcnow())\n"
          ]
        },
        {
          "output_type": "execute_result",
          "data": {
            "text/plain": [
              "{'f1': 0.7577777777777778}"
            ]
          },
          "metadata": {},
          "execution_count": 55
        }
      ],
      "source": [
        "# 테스트 데이터에서 모델을 평가합니다.\n",
        "trainer.evaluate()\n",
        "# 0.78 - 샘플링 생성 횟수가 20개일때\n",
        "# 0.75 - 샘플링 생성 횟수가 30개일때"
      ]
    },
    {
      "cell_type": "code",
      "source": [
        "import matplotlib.pyplot as plt\n",
        "\n",
        "# 실험할 num_iterations 범위\n",
        "iterations_range = [5, 10, 15, 20, 25, 30, 35, 40]\n",
        "f1_scores = []\n",
        "\n",
        "print(\"=\" * 50)\n",
        "print(\"num_iterations별 성능 측정 중...\")\n",
        "print(\"=\" * 50)\n",
        "\n",
        "for n_iter in iterations_range:\n",
        "    # 모델 초기화\n",
        "    model = SetFitModel.from_pretrained(\"jhgan/ko-sroberta-multitask\")\n",
        "\n",
        "    # 학습 설정\n",
        "    args = SetFitTrainingArguments(\n",
        "        num_epochs=3,\n",
        "        num_iterations=n_iter,\n",
        "        batch_size=16\n",
        "    )\n",
        "\n",
        "    # Trainer\n",
        "    trainer = SetFitTrainer(\n",
        "        model=model,\n",
        "        args=args,\n",
        "        train_dataset=sampled_train_data,\n",
        "        eval_dataset=test_data,\n",
        "        metric=\"f1\",\n",
        "        column_mapping={\"document\": \"text\"}\n",
        "    )\n",
        "\n",
        "    # 학습 및 평가\n",
        "    trainer.train()\n",
        "    metrics = trainer.evaluate()\n",
        "    f1 = metrics['f1']\n",
        "    f1_scores.append(f1)\n",
        "\n",
        "    print(f\"num_iterations={n_iter:2d}: F1={f1:.4f}\")\n",
        "\n",
        "# 최적값 찾기\n",
        "best_idx = f1_scores.index(max(f1_scores))\n",
        "best_iter = iterations_range[best_idx]\n",
        "best_f1 = f1_scores[best_idx]\n",
        "\n",
        "print(\"\\n\" + \"=\" * 50)\n",
        "print(f\"최적 num_iterations: {best_iter}\")\n",
        "print(f\"최고 F1 Score: {best_f1:.4f}\")\n",
        "print(\"=\" * 50)\n",
        "\n",
        "# 그래프 그리기\n",
        "plt.figure(figsize=(10, 6))\n",
        "plt.plot(iterations_range, f1_scores, marker='o', linewidth=2, markersize=8)\n",
        "plt.axvline(x=best_iter, color='r', linestyle='--', label=f'최적값: {best_iter}')\n",
        "plt.axhline(y=best_f1, color='r', linestyle='--', alpha=0.3)\n",
        "\n",
        "# 최적점 강조\n",
        "plt.scatter([best_iter], [best_f1], color='red', s=200, zorder=5,\n",
        "            label=f'Best: {best_f1:.4f}')\n",
        "\n",
        "# 과적합 영역 표시\n",
        "if best_idx < len(iterations_range) - 1:\n",
        "    plt.axvspan(iterations_range[best_idx], iterations_range[-1],\n",
        "                alpha=0.2, color='red', label='과적합 영역')\n",
        "\n",
        "plt.xlabel('num_iterations', fontsize=12)\n",
        "plt.ylabel('F1 Score', fontsize=12)\n",
        "plt.title('num_iterations에 따른 Few-shot 성능 변화', fontsize=14)\n",
        "plt.grid(True, alpha=0.3)\n",
        "plt.legend()\n",
        "plt.tight_layout()\n",
        "plt.savefig('fewshot_iterations_analysis.png', dpi=300, bbox_inches='tight')\n",
        "plt.show()\n",
        "\n",
        "print(\"\\n그래프 저장 완료: fewshot_iterations_analysis.png\")"
      ],
      "metadata": {
        "colab": {
          "base_uri": "https://localhost:8080/",
          "height": 1000,
          "referenced_widgets": [
            "8f325c3dd1a64045b47c09cc64337f48",
            "72488c7542eb4088846266b4d404e3fc",
            "f3d49f7900bb42e3bff1e0d9e157c7ee",
            "f3ac07a453c54fc0b2af92acf2eaf913",
            "3fee2f179e1041c1925074abd951d5e5",
            "7ebdab09351c46f090dd4f307f62d9e2",
            "fb10fe0148724e9db04461d87d79a2b1",
            "79dd66e0d29e4e8fb3eff8e7d9d79f52",
            "0d140501dd094867b9a964518a7eb4a0",
            "f222c4672fbe4f64b30e00c7b79dc794",
            "c384e17eef8046efbf5ae2390ff2241c",
            "bcfe617293d5413ba82c573816697dfc",
            "f1f4ee3baf1645b1a12407cbc14b8c94",
            "5cb3b53f39b04109a8a3632443597ad8",
            "c237ae77e3a24ec4b89aba536dab43bd",
            "6d55b90a4574472e8e7ce432d76f0c6f",
            "b4ff2d28906343e5836501a594794122",
            "3beb8d269f824b7ba006a5d2d04f8d09",
            "e03aacf5d9604072b7f657a2b1401a06",
            "5512c6ae3a88433d929dda1023dda1e5",
            "9883b8e0e3504611b8671a00034d8cf9",
            "512aae7094f844d09444923cc9919f19",
            "e7f73d4cb2144219a66f3914a46f0e07",
            "67e420d3890c4649908fc130872bd031",
            "633f45d89a7546e585b0d7d58ab812be",
            "13947736784541159d08977c47c0d264",
            "44ebc5982ccf48f5a5931ff0678302a7",
            "13ba8b8723f94790ac14ee2030ee8ea1",
            "73154ae078ae487a8d8be06c3355e39f",
            "a5f045cc2c0c432c855bb45bc5b8c456",
            "5f9d8f5050a1412d9dc61b6bfc860714",
            "ecfaf47727fa46fc856a02d07cfd2d1e",
            "eb37e37ec47846249fccd1aef82bb827",
            "d48b4570b2e04c39974887f680026e33",
            "cff5158217f844dca5f0798b8399feed",
            "9ae688ae431340e8b1e228fb33aec19c",
            "aacae62c957a4bfea276166f6c755f21",
            "11cb758508dd4a2eb97c9f34a7ea566d",
            "9ba22a7f708b4d22b6917d0b8f6791e3",
            "8fd091858e54419b843c30aee8868a3b",
            "550e314c89f344aba9290f32cd1b52cd",
            "2b7a76e2ea454928bdc7f97989495800",
            "220a995baf544ab5ac7917429f1ea4a3",
            "5f7ddf751bb042e9a2505133f8478dfe",
            "974c74b295394ea09ec2a84b06bc8655",
            "295cbd30496d4a56bbb13927e0e4d26c",
            "c04fa8a00d4646b2b0321e2e0c895497",
            "cf4e8006290f4d62a3b1c8ee6871932f",
            "55c663607b074bb291af160f422a3ae5",
            "eb8e7762be7a46f5aac9c0270b17ce48",
            "937b55de5177483b8f9e972e51f93e6e",
            "466f714583b04b868be2908ebf486fac",
            "764b7c693f8545e3b52f16a13aee1150",
            "efaf8e84a9524985b68f297eef4a805f",
            "7d54cae9c2d14d1e8592aa20aef1c9c1",
            "f46edb28212e4544a1a223ed85b0c901",
            "47cfee82c4e64b6bae40e67454b0267d",
            "70b904c810e4418fb98bf6fe1b4c4f62",
            "0025c3b513044804a53a1d0f3325ce4e",
            "18296b3ad9744ecabf632ff9e1111131",
            "470f9c1a561d41539925822dfd924855",
            "48e50b47417444409bce7f337124a446",
            "de7a5a941c3f416f8ccad83e1ed13a27",
            "7b3948dbf4634bf3ae7bba1f6fad96b1",
            "c205534bd3c541e28f548ff9d995a7a9",
            "7cecf6e07f1a421b82ec357d502f3377",
            "76cb7d675c2648f4a5e397fa1a533bb6",
            "c55219f35b0240df936e3df2bd930774",
            "59fec431982c4e04b2b81a0950a08005",
            "56153d5fa9094506b90f4f66241445f2",
            "0c334190043e447c9daf35ada290f4a7",
            "ed8b6bb0adad4e468a7a77510752c1e6",
            "a560b06021b54b078c7ea22e9bdc1581",
            "c152f731d72e4c7ea9fa71bc7259feed",
            "926b9007ca1b45e688e97950b4a29d35",
            "9a8e32ecce904fa18172fef2e3e0c7c5",
            "d12ed6fdb4fd45af91a0aff10ea3ea85",
            "963c57d8e8cf45bb80c4bd5b737b34d4",
            "d9de07f0f4bb4f3995ae76b80c2da81a",
            "3256712795e942e1bb014d930eab1605",
            "14d159a9d30b4a6a9c3095b66d156c0e",
            "cc8a98d3383f46498259ca403468ada2",
            "05d2143025a64c498c86ed57ca56be4c",
            "fcc9d6b6854b440ca3b206419d555e57",
            "36a68ad69fc544bb887336a111313b8c",
            "766349baf9a74e89bcf598bac0eed086",
            "887a37c40902474ba3feb987d2eebc2f",
            "a4521c1705b04fce98bba5f91426c8a7"
          ]
        },
        "id": "Y68GPzlg7ws4",
        "outputId": "ff71df40-a920-46fd-847d-0270e9bf1b94"
      },
      "execution_count": null,
      "outputs": [
        {
          "output_type": "stream",
          "name": "stdout",
          "text": [
            "==================================================\n",
            "num_iterations별 성능 측정 중...\n",
            "==================================================\n"
          ]
        },
        {
          "output_type": "stream",
          "name": "stderr",
          "text": [
            "model_head.pkl not found on HuggingFace Hub, initialising classification head with random weights. You should TRAIN this model on a downstream task to use it for predictions and inference.\n",
            "Applying column mapping to the training dataset\n",
            "Applying column mapping to the evaluation dataset\n",
            "/usr/local/lib/python3.12/dist-packages/jupyter_client/session.py:203: DeprecationWarning: datetime.datetime.utcnow() is deprecated and scheduled for removal in a future version. Use timezone-aware objects to represent datetimes in UTC: datetime.datetime.now(datetime.UTC).\n",
            "  return datetime.utcnow().replace(tzinfo=utc)\n",
            "/usr/local/lib/python3.12/dist-packages/google/protobuf/internal/well_known_types.py:178: DeprecationWarning: datetime.datetime.utcnow() is deprecated and scheduled for removal in a future version. Use timezone-aware objects to represent datetimes in UTC: datetime.datetime.now(datetime.UTC).\n",
            "  self.FromDatetime(datetime.datetime.utcnow())\n"
          ]
        },
        {
          "output_type": "display_data",
          "data": {
            "text/plain": [
              "Map:   0%|          | 0/32 [00:00<?, ? examples/s]"
            ],
            "application/vnd.jupyter.widget-view+json": {
              "version_major": 2,
              "version_minor": 0,
              "model_id": "8f325c3dd1a64045b47c09cc64337f48"
            }
          },
          "metadata": {}
        },
        {
          "output_type": "stream",
          "name": "stderr",
          "text": [
            "***** Running training *****\n",
            "  Num unique pairs = 320\n",
            "  Batch size = 16\n",
            "  Num epochs = 3\n"
          ]
        },
        {
          "output_type": "display_data",
          "data": {
            "text/plain": [
              "<IPython.core.display.HTML object>"
            ],
            "text/html": [
              "\n",
              "    <div>\n",
              "      \n",
              "      <progress value='60' max='60' style='width:300px; height:20px; vertical-align: middle;'></progress>\n",
              "      [60/60 00:07, Epoch 3/3]\n",
              "    </div>\n",
              "    <table border=\"1\" class=\"dataframe\">\n",
              "  <thead>\n",
              " <tr style=\"text-align: left;\">\n",
              "      <th>Step</th>\n",
              "      <th>Training Loss</th>\n",
              "    </tr>\n",
              "  </thead>\n",
              "  <tbody>\n",
              "    <tr>\n",
              "      <td>1</td>\n",
              "      <td>0.344300</td>\n",
              "    </tr>\n",
              "    <tr>\n",
              "      <td>50</td>\n",
              "      <td>0.067800</td>\n",
              "    </tr>\n",
              "  </tbody>\n",
              "</table><p>"
            ]
          },
          "metadata": {}
        },
        {
          "output_type": "stream",
          "name": "stderr",
          "text": [
            "/usr/local/lib/python3.12/dist-packages/jupyter_client/session.py:203: DeprecationWarning: datetime.datetime.utcnow() is deprecated and scheduled for removal in a future version. Use timezone-aware objects to represent datetimes in UTC: datetime.datetime.now(datetime.UTC).\n",
            "  return datetime.utcnow().replace(tzinfo=utc)\n",
            "/usr/local/lib/python3.12/dist-packages/google/protobuf/internal/well_known_types.py:178: DeprecationWarning: datetime.datetime.utcnow() is deprecated and scheduled for removal in a future version. Use timezone-aware objects to represent datetimes in UTC: datetime.datetime.now(datetime.UTC).\n",
            "  self.FromDatetime(datetime.datetime.utcnow())\n",
            "/usr/local/lib/python3.12/dist-packages/sklearn/linear_model/_logistic.py:451: DeprecationWarning: scipy.optimize: The `disp` and `iprint` options of the L-BFGS-B solver are deprecated and will be removed in SciPy 1.18.0.\n",
            "  opt_res = optimize.minimize(\n",
            "/usr/local/lib/python3.12/dist-packages/google/protobuf/internal/well_known_types.py:178: DeprecationWarning: datetime.datetime.utcnow() is deprecated and scheduled for removal in a future version. Use timezone-aware objects to represent datetimes in UTC: datetime.datetime.now(datetime.UTC).\n",
            "  self.FromDatetime(datetime.datetime.utcnow())\n",
            "***** Running evaluation *****\n",
            "/usr/local/lib/python3.12/dist-packages/jupyter_client/session.py:203: DeprecationWarning: datetime.datetime.utcnow() is deprecated and scheduled for removal in a future version. Use timezone-aware objects to represent datetimes in UTC: datetime.datetime.now(datetime.UTC).\n",
            "  return datetime.utcnow().replace(tzinfo=utc)\n"
          ]
        },
        {
          "output_type": "stream",
          "name": "stdout",
          "text": [
            "num_iterations= 5: F1=0.7769\n"
          ]
        },
        {
          "output_type": "stream",
          "name": "stderr",
          "text": [
            "/usr/local/lib/python3.12/dist-packages/google/protobuf/internal/well_known_types.py:178: DeprecationWarning: datetime.datetime.utcnow() is deprecated and scheduled for removal in a future version. Use timezone-aware objects to represent datetimes in UTC: datetime.datetime.now(datetime.UTC).\n",
            "  self.FromDatetime(datetime.datetime.utcnow())\n",
            "/usr/local/lib/python3.12/dist-packages/jupyter_client/session.py:203: DeprecationWarning: datetime.datetime.utcnow() is deprecated and scheduled for removal in a future version. Use timezone-aware objects to represent datetimes in UTC: datetime.datetime.now(datetime.UTC).\n",
            "  return datetime.utcnow().replace(tzinfo=utc)\n",
            "model_head.pkl not found on HuggingFace Hub, initialising classification head with random weights. You should TRAIN this model on a downstream task to use it for predictions and inference.\n",
            "Applying column mapping to the training dataset\n",
            "Applying column mapping to the evaluation dataset\n",
            "/usr/local/lib/python3.12/dist-packages/jupyter_client/session.py:203: DeprecationWarning: datetime.datetime.utcnow() is deprecated and scheduled for removal in a future version. Use timezone-aware objects to represent datetimes in UTC: datetime.datetime.now(datetime.UTC).\n",
            "  return datetime.utcnow().replace(tzinfo=utc)\n",
            "/usr/local/lib/python3.12/dist-packages/google/protobuf/internal/well_known_types.py:178: DeprecationWarning: datetime.datetime.utcnow() is deprecated and scheduled for removal in a future version. Use timezone-aware objects to represent datetimes in UTC: datetime.datetime.now(datetime.UTC).\n",
            "  self.FromDatetime(datetime.datetime.utcnow())\n"
          ]
        },
        {
          "output_type": "display_data",
          "data": {
            "text/plain": [
              "Map:   0%|          | 0/32 [00:00<?, ? examples/s]"
            ],
            "application/vnd.jupyter.widget-view+json": {
              "version_major": 2,
              "version_minor": 0,
              "model_id": "bcfe617293d5413ba82c573816697dfc"
            }
          },
          "metadata": {}
        },
        {
          "output_type": "stream",
          "name": "stderr",
          "text": [
            "***** Running training *****\n",
            "  Num unique pairs = 640\n",
            "  Batch size = 16\n",
            "  Num epochs = 3\n"
          ]
        },
        {
          "output_type": "display_data",
          "data": {
            "text/plain": [
              "<IPython.core.display.HTML object>"
            ],
            "text/html": [
              "\n",
              "    <div>\n",
              "      \n",
              "      <progress value='120' max='120' style='width:300px; height:20px; vertical-align: middle;'></progress>\n",
              "      [120/120 00:13, Epoch 3/3]\n",
              "    </div>\n",
              "    <table border=\"1\" class=\"dataframe\">\n",
              "  <thead>\n",
              " <tr style=\"text-align: left;\">\n",
              "      <th>Step</th>\n",
              "      <th>Training Loss</th>\n",
              "    </tr>\n",
              "  </thead>\n",
              "  <tbody>\n",
              "    <tr>\n",
              "      <td>1</td>\n",
              "      <td>0.313700</td>\n",
              "    </tr>\n",
              "    <tr>\n",
              "      <td>50</td>\n",
              "      <td>0.088900</td>\n",
              "    </tr>\n",
              "    <tr>\n",
              "      <td>100</td>\n",
              "      <td>0.000400</td>\n",
              "    </tr>\n",
              "  </tbody>\n",
              "</table><p>"
            ]
          },
          "metadata": {}
        },
        {
          "output_type": "stream",
          "name": "stderr",
          "text": [
            "/usr/local/lib/python3.12/dist-packages/jupyter_client/session.py:203: DeprecationWarning: datetime.datetime.utcnow() is deprecated and scheduled for removal in a future version. Use timezone-aware objects to represent datetimes in UTC: datetime.datetime.now(datetime.UTC).\n",
            "  return datetime.utcnow().replace(tzinfo=utc)\n",
            "/usr/local/lib/python3.12/dist-packages/google/protobuf/internal/well_known_types.py:178: DeprecationWarning: datetime.datetime.utcnow() is deprecated and scheduled for removal in a future version. Use timezone-aware objects to represent datetimes in UTC: datetime.datetime.now(datetime.UTC).\n",
            "  self.FromDatetime(datetime.datetime.utcnow())\n",
            "/usr/local/lib/python3.12/dist-packages/sklearn/linear_model/_logistic.py:451: DeprecationWarning: scipy.optimize: The `disp` and `iprint` options of the L-BFGS-B solver are deprecated and will be removed in SciPy 1.18.0.\n",
            "  opt_res = optimize.minimize(\n",
            "/usr/local/lib/python3.12/dist-packages/google/protobuf/internal/well_known_types.py:178: DeprecationWarning: datetime.datetime.utcnow() is deprecated and scheduled for removal in a future version. Use timezone-aware objects to represent datetimes in UTC: datetime.datetime.now(datetime.UTC).\n",
            "  self.FromDatetime(datetime.datetime.utcnow())\n",
            "***** Running evaluation *****\n",
            "/usr/local/lib/python3.12/dist-packages/jupyter_client/session.py:203: DeprecationWarning: datetime.datetime.utcnow() is deprecated and scheduled for removal in a future version. Use timezone-aware objects to represent datetimes in UTC: datetime.datetime.now(datetime.UTC).\n",
            "  return datetime.utcnow().replace(tzinfo=utc)\n"
          ]
        },
        {
          "output_type": "stream",
          "name": "stdout",
          "text": [
            "num_iterations=10: F1=0.7743\n"
          ]
        },
        {
          "output_type": "stream",
          "name": "stderr",
          "text": [
            "/usr/local/lib/python3.12/dist-packages/google/protobuf/internal/well_known_types.py:178: DeprecationWarning: datetime.datetime.utcnow() is deprecated and scheduled for removal in a future version. Use timezone-aware objects to represent datetimes in UTC: datetime.datetime.now(datetime.UTC).\n",
            "  self.FromDatetime(datetime.datetime.utcnow())\n",
            "/usr/local/lib/python3.12/dist-packages/jupyter_client/session.py:203: DeprecationWarning: datetime.datetime.utcnow() is deprecated and scheduled for removal in a future version. Use timezone-aware objects to represent datetimes in UTC: datetime.datetime.now(datetime.UTC).\n",
            "  return datetime.utcnow().replace(tzinfo=utc)\n",
            "model_head.pkl not found on HuggingFace Hub, initialising classification head with random weights. You should TRAIN this model on a downstream task to use it for predictions and inference.\n",
            "Applying column mapping to the training dataset\n",
            "Applying column mapping to the evaluation dataset\n",
            "/usr/local/lib/python3.12/dist-packages/jupyter_client/session.py:203: DeprecationWarning: datetime.datetime.utcnow() is deprecated and scheduled for removal in a future version. Use timezone-aware objects to represent datetimes in UTC: datetime.datetime.now(datetime.UTC).\n",
            "  return datetime.utcnow().replace(tzinfo=utc)\n",
            "/usr/local/lib/python3.12/dist-packages/google/protobuf/internal/well_known_types.py:178: DeprecationWarning: datetime.datetime.utcnow() is deprecated and scheduled for removal in a future version. Use timezone-aware objects to represent datetimes in UTC: datetime.datetime.now(datetime.UTC).\n",
            "  self.FromDatetime(datetime.datetime.utcnow())\n"
          ]
        },
        {
          "output_type": "display_data",
          "data": {
            "text/plain": [
              "Map:   0%|          | 0/32 [00:00<?, ? examples/s]"
            ],
            "application/vnd.jupyter.widget-view+json": {
              "version_major": 2,
              "version_minor": 0,
              "model_id": "e7f73d4cb2144219a66f3914a46f0e07"
            }
          },
          "metadata": {}
        },
        {
          "output_type": "stream",
          "name": "stderr",
          "text": [
            "***** Running training *****\n",
            "  Num unique pairs = 960\n",
            "  Batch size = 16\n",
            "  Num epochs = 3\n"
          ]
        },
        {
          "output_type": "display_data",
          "data": {
            "text/plain": [
              "<IPython.core.display.HTML object>"
            ],
            "text/html": [
              "\n",
              "    <div>\n",
              "      \n",
              "      <progress value='180' max='180' style='width:300px; height:20px; vertical-align: middle;'></progress>\n",
              "      [180/180 00:18, Epoch 3/3]\n",
              "    </div>\n",
              "    <table border=\"1\" class=\"dataframe\">\n",
              "  <thead>\n",
              " <tr style=\"text-align: left;\">\n",
              "      <th>Step</th>\n",
              "      <th>Training Loss</th>\n",
              "    </tr>\n",
              "  </thead>\n",
              "  <tbody>\n",
              "    <tr>\n",
              "      <td>1</td>\n",
              "      <td>0.307300</td>\n",
              "    </tr>\n",
              "    <tr>\n",
              "      <td>50</td>\n",
              "      <td>0.098800</td>\n",
              "    </tr>\n",
              "    <tr>\n",
              "      <td>100</td>\n",
              "      <td>0.000400</td>\n",
              "    </tr>\n",
              "    <tr>\n",
              "      <td>150</td>\n",
              "      <td>0.000200</td>\n",
              "    </tr>\n",
              "  </tbody>\n",
              "</table><p>"
            ]
          },
          "metadata": {}
        },
        {
          "output_type": "stream",
          "name": "stderr",
          "text": [
            "/usr/local/lib/python3.12/dist-packages/jupyter_client/session.py:203: DeprecationWarning: datetime.datetime.utcnow() is deprecated and scheduled for removal in a future version. Use timezone-aware objects to represent datetimes in UTC: datetime.datetime.now(datetime.UTC).\n",
            "  return datetime.utcnow().replace(tzinfo=utc)\n",
            "/usr/local/lib/python3.12/dist-packages/google/protobuf/internal/well_known_types.py:178: DeprecationWarning: datetime.datetime.utcnow() is deprecated and scheduled for removal in a future version. Use timezone-aware objects to represent datetimes in UTC: datetime.datetime.now(datetime.UTC).\n",
            "  self.FromDatetime(datetime.datetime.utcnow())\n",
            "/usr/local/lib/python3.12/dist-packages/sklearn/linear_model/_logistic.py:451: DeprecationWarning: scipy.optimize: The `disp` and `iprint` options of the L-BFGS-B solver are deprecated and will be removed in SciPy 1.18.0.\n",
            "  opt_res = optimize.minimize(\n",
            "/usr/local/lib/python3.12/dist-packages/google/protobuf/internal/well_known_types.py:178: DeprecationWarning: datetime.datetime.utcnow() is deprecated and scheduled for removal in a future version. Use timezone-aware objects to represent datetimes in UTC: datetime.datetime.now(datetime.UTC).\n",
            "  self.FromDatetime(datetime.datetime.utcnow())\n",
            "***** Running evaluation *****\n",
            "/usr/local/lib/python3.12/dist-packages/jupyter_client/session.py:203: DeprecationWarning: datetime.datetime.utcnow() is deprecated and scheduled for removal in a future version. Use timezone-aware objects to represent datetimes in UTC: datetime.datetime.now(datetime.UTC).\n",
            "  return datetime.utcnow().replace(tzinfo=utc)\n"
          ]
        },
        {
          "output_type": "stream",
          "name": "stdout",
          "text": [
            "num_iterations=15: F1=0.7658\n"
          ]
        },
        {
          "output_type": "stream",
          "name": "stderr",
          "text": [
            "/usr/local/lib/python3.12/dist-packages/google/protobuf/internal/well_known_types.py:178: DeprecationWarning: datetime.datetime.utcnow() is deprecated and scheduled for removal in a future version. Use timezone-aware objects to represent datetimes in UTC: datetime.datetime.now(datetime.UTC).\n",
            "  self.FromDatetime(datetime.datetime.utcnow())\n",
            "/usr/local/lib/python3.12/dist-packages/jupyter_client/session.py:203: DeprecationWarning: datetime.datetime.utcnow() is deprecated and scheduled for removal in a future version. Use timezone-aware objects to represent datetimes in UTC: datetime.datetime.now(datetime.UTC).\n",
            "  return datetime.utcnow().replace(tzinfo=utc)\n",
            "model_head.pkl not found on HuggingFace Hub, initialising classification head with random weights. You should TRAIN this model on a downstream task to use it for predictions and inference.\n",
            "Applying column mapping to the training dataset\n",
            "Applying column mapping to the evaluation dataset\n",
            "/usr/local/lib/python3.12/dist-packages/jupyter_client/session.py:203: DeprecationWarning: datetime.datetime.utcnow() is deprecated and scheduled for removal in a future version. Use timezone-aware objects to represent datetimes in UTC: datetime.datetime.now(datetime.UTC).\n",
            "  return datetime.utcnow().replace(tzinfo=utc)\n",
            "/usr/local/lib/python3.12/dist-packages/google/protobuf/internal/well_known_types.py:178: DeprecationWarning: datetime.datetime.utcnow() is deprecated and scheduled for removal in a future version. Use timezone-aware objects to represent datetimes in UTC: datetime.datetime.now(datetime.UTC).\n",
            "  self.FromDatetime(datetime.datetime.utcnow())\n"
          ]
        },
        {
          "output_type": "display_data",
          "data": {
            "text/plain": [
              "Map:   0%|          | 0/32 [00:00<?, ? examples/s]"
            ],
            "application/vnd.jupyter.widget-view+json": {
              "version_major": 2,
              "version_minor": 0,
              "model_id": "d48b4570b2e04c39974887f680026e33"
            }
          },
          "metadata": {}
        },
        {
          "output_type": "stream",
          "name": "stderr",
          "text": [
            "***** Running training *****\n",
            "  Num unique pairs = 1280\n",
            "  Batch size = 16\n",
            "  Num epochs = 3\n"
          ]
        },
        {
          "output_type": "display_data",
          "data": {
            "text/plain": [
              "<IPython.core.display.HTML object>"
            ],
            "text/html": [
              "\n",
              "    <div>\n",
              "      \n",
              "      <progress value='240' max='240' style='width:300px; height:20px; vertical-align: middle;'></progress>\n",
              "      [240/240 00:24, Epoch 3/3]\n",
              "    </div>\n",
              "    <table border=\"1\" class=\"dataframe\">\n",
              "  <thead>\n",
              " <tr style=\"text-align: left;\">\n",
              "      <th>Step</th>\n",
              "      <th>Training Loss</th>\n",
              "    </tr>\n",
              "  </thead>\n",
              "  <tbody>\n",
              "    <tr>\n",
              "      <td>1</td>\n",
              "      <td>0.299700</td>\n",
              "    </tr>\n",
              "    <tr>\n",
              "      <td>50</td>\n",
              "      <td>0.111000</td>\n",
              "    </tr>\n",
              "    <tr>\n",
              "      <td>100</td>\n",
              "      <td>0.001500</td>\n",
              "    </tr>\n",
              "    <tr>\n",
              "      <td>150</td>\n",
              "      <td>0.000200</td>\n",
              "    </tr>\n",
              "    <tr>\n",
              "      <td>200</td>\n",
              "      <td>0.000200</td>\n",
              "    </tr>\n",
              "  </tbody>\n",
              "</table><p>"
            ]
          },
          "metadata": {}
        },
        {
          "output_type": "stream",
          "name": "stderr",
          "text": [
            "/usr/local/lib/python3.12/dist-packages/jupyter_client/session.py:203: DeprecationWarning: datetime.datetime.utcnow() is deprecated and scheduled for removal in a future version. Use timezone-aware objects to represent datetimes in UTC: datetime.datetime.now(datetime.UTC).\n",
            "  return datetime.utcnow().replace(tzinfo=utc)\n",
            "/usr/local/lib/python3.12/dist-packages/google/protobuf/internal/well_known_types.py:178: DeprecationWarning: datetime.datetime.utcnow() is deprecated and scheduled for removal in a future version. Use timezone-aware objects to represent datetimes in UTC: datetime.datetime.now(datetime.UTC).\n",
            "  self.FromDatetime(datetime.datetime.utcnow())\n",
            "/usr/local/lib/python3.12/dist-packages/sklearn/linear_model/_logistic.py:451: DeprecationWarning: scipy.optimize: The `disp` and `iprint` options of the L-BFGS-B solver are deprecated and will be removed in SciPy 1.18.0.\n",
            "  opt_res = optimize.minimize(\n",
            "/usr/local/lib/python3.12/dist-packages/google/protobuf/internal/well_known_types.py:178: DeprecationWarning: datetime.datetime.utcnow() is deprecated and scheduled for removal in a future version. Use timezone-aware objects to represent datetimes in UTC: datetime.datetime.now(datetime.UTC).\n",
            "  self.FromDatetime(datetime.datetime.utcnow())\n",
            "***** Running evaluation *****\n",
            "/usr/local/lib/python3.12/dist-packages/jupyter_client/session.py:203: DeprecationWarning: datetime.datetime.utcnow() is deprecated and scheduled for removal in a future version. Use timezone-aware objects to represent datetimes in UTC: datetime.datetime.now(datetime.UTC).\n",
            "  return datetime.utcnow().replace(tzinfo=utc)\n"
          ]
        },
        {
          "output_type": "stream",
          "name": "stdout",
          "text": [
            "num_iterations=20: F1=0.7818\n"
          ]
        },
        {
          "output_type": "stream",
          "name": "stderr",
          "text": [
            "/usr/local/lib/python3.12/dist-packages/google/protobuf/internal/well_known_types.py:178: DeprecationWarning: datetime.datetime.utcnow() is deprecated and scheduled for removal in a future version. Use timezone-aware objects to represent datetimes in UTC: datetime.datetime.now(datetime.UTC).\n",
            "  self.FromDatetime(datetime.datetime.utcnow())\n",
            "/usr/local/lib/python3.12/dist-packages/jupyter_client/session.py:203: DeprecationWarning: datetime.datetime.utcnow() is deprecated and scheduled for removal in a future version. Use timezone-aware objects to represent datetimes in UTC: datetime.datetime.now(datetime.UTC).\n",
            "  return datetime.utcnow().replace(tzinfo=utc)\n",
            "model_head.pkl not found on HuggingFace Hub, initialising classification head with random weights. You should TRAIN this model on a downstream task to use it for predictions and inference.\n",
            "Applying column mapping to the training dataset\n",
            "Applying column mapping to the evaluation dataset\n",
            "/usr/local/lib/python3.12/dist-packages/jupyter_client/session.py:203: DeprecationWarning: datetime.datetime.utcnow() is deprecated and scheduled for removal in a future version. Use timezone-aware objects to represent datetimes in UTC: datetime.datetime.now(datetime.UTC).\n",
            "  return datetime.utcnow().replace(tzinfo=utc)\n",
            "/usr/local/lib/python3.12/dist-packages/google/protobuf/internal/well_known_types.py:178: DeprecationWarning: datetime.datetime.utcnow() is deprecated and scheduled for removal in a future version. Use timezone-aware objects to represent datetimes in UTC: datetime.datetime.now(datetime.UTC).\n",
            "  self.FromDatetime(datetime.datetime.utcnow())\n"
          ]
        },
        {
          "output_type": "display_data",
          "data": {
            "text/plain": [
              "Map:   0%|          | 0/32 [00:00<?, ? examples/s]"
            ],
            "application/vnd.jupyter.widget-view+json": {
              "version_major": 2,
              "version_minor": 0,
              "model_id": "974c74b295394ea09ec2a84b06bc8655"
            }
          },
          "metadata": {}
        },
        {
          "output_type": "stream",
          "name": "stderr",
          "text": [
            "***** Running training *****\n",
            "  Num unique pairs = 1600\n",
            "  Batch size = 16\n",
            "  Num epochs = 3\n"
          ]
        },
        {
          "output_type": "display_data",
          "data": {
            "text/plain": [
              "<IPython.core.display.HTML object>"
            ],
            "text/html": [
              "\n",
              "    <div>\n",
              "      \n",
              "      <progress value='300' max='300' style='width:300px; height:20px; vertical-align: middle;'></progress>\n",
              "      [300/300 00:30, Epoch 3/3]\n",
              "    </div>\n",
              "    <table border=\"1\" class=\"dataframe\">\n",
              "  <thead>\n",
              " <tr style=\"text-align: left;\">\n",
              "      <th>Step</th>\n",
              "      <th>Training Loss</th>\n",
              "    </tr>\n",
              "  </thead>\n",
              "  <tbody>\n",
              "    <tr>\n",
              "      <td>1</td>\n",
              "      <td>0.345600</td>\n",
              "    </tr>\n",
              "    <tr>\n",
              "      <td>50</td>\n",
              "      <td>0.121800</td>\n",
              "    </tr>\n",
              "    <tr>\n",
              "      <td>100</td>\n",
              "      <td>0.000400</td>\n",
              "    </tr>\n",
              "    <tr>\n",
              "      <td>150</td>\n",
              "      <td>0.000200</td>\n",
              "    </tr>\n",
              "    <tr>\n",
              "      <td>200</td>\n",
              "      <td>0.000200</td>\n",
              "    </tr>\n",
              "    <tr>\n",
              "      <td>250</td>\n",
              "      <td>0.000200</td>\n",
              "    </tr>\n",
              "    <tr>\n",
              "      <td>300</td>\n",
              "      <td>0.000100</td>\n",
              "    </tr>\n",
              "  </tbody>\n",
              "</table><p>"
            ]
          },
          "metadata": {}
        },
        {
          "output_type": "stream",
          "name": "stderr",
          "text": [
            "/usr/local/lib/python3.12/dist-packages/jupyter_client/session.py:203: DeprecationWarning: datetime.datetime.utcnow() is deprecated and scheduled for removal in a future version. Use timezone-aware objects to represent datetimes in UTC: datetime.datetime.now(datetime.UTC).\n",
            "  return datetime.utcnow().replace(tzinfo=utc)\n",
            "/usr/local/lib/python3.12/dist-packages/google/protobuf/internal/well_known_types.py:178: DeprecationWarning: datetime.datetime.utcnow() is deprecated and scheduled for removal in a future version. Use timezone-aware objects to represent datetimes in UTC: datetime.datetime.now(datetime.UTC).\n",
            "  self.FromDatetime(datetime.datetime.utcnow())\n",
            "/usr/local/lib/python3.12/dist-packages/sklearn/linear_model/_logistic.py:451: DeprecationWarning: scipy.optimize: The `disp` and `iprint` options of the L-BFGS-B solver are deprecated and will be removed in SciPy 1.18.0.\n",
            "  opt_res = optimize.minimize(\n",
            "/usr/local/lib/python3.12/dist-packages/google/protobuf/internal/well_known_types.py:178: DeprecationWarning: datetime.datetime.utcnow() is deprecated and scheduled for removal in a future version. Use timezone-aware objects to represent datetimes in UTC: datetime.datetime.now(datetime.UTC).\n",
            "  self.FromDatetime(datetime.datetime.utcnow())\n",
            "***** Running evaluation *****\n",
            "/usr/local/lib/python3.12/dist-packages/jupyter_client/session.py:203: DeprecationWarning: datetime.datetime.utcnow() is deprecated and scheduled for removal in a future version. Use timezone-aware objects to represent datetimes in UTC: datetime.datetime.now(datetime.UTC).\n",
            "  return datetime.utcnow().replace(tzinfo=utc)\n"
          ]
        },
        {
          "output_type": "stream",
          "name": "stdout",
          "text": [
            "num_iterations=25: F1=0.7753\n"
          ]
        },
        {
          "output_type": "stream",
          "name": "stderr",
          "text": [
            "/usr/local/lib/python3.12/dist-packages/google/protobuf/internal/well_known_types.py:178: DeprecationWarning: datetime.datetime.utcnow() is deprecated and scheduled for removal in a future version. Use timezone-aware objects to represent datetimes in UTC: datetime.datetime.now(datetime.UTC).\n",
            "  self.FromDatetime(datetime.datetime.utcnow())\n",
            "/usr/local/lib/python3.12/dist-packages/jupyter_client/session.py:203: DeprecationWarning: datetime.datetime.utcnow() is deprecated and scheduled for removal in a future version. Use timezone-aware objects to represent datetimes in UTC: datetime.datetime.now(datetime.UTC).\n",
            "  return datetime.utcnow().replace(tzinfo=utc)\n",
            "model_head.pkl not found on HuggingFace Hub, initialising classification head with random weights. You should TRAIN this model on a downstream task to use it for predictions and inference.\n",
            "Applying column mapping to the training dataset\n",
            "Applying column mapping to the evaluation dataset\n",
            "/usr/local/lib/python3.12/dist-packages/jupyter_client/session.py:203: DeprecationWarning: datetime.datetime.utcnow() is deprecated and scheduled for removal in a future version. Use timezone-aware objects to represent datetimes in UTC: datetime.datetime.now(datetime.UTC).\n",
            "  return datetime.utcnow().replace(tzinfo=utc)\n",
            "/usr/local/lib/python3.12/dist-packages/google/protobuf/internal/well_known_types.py:178: DeprecationWarning: datetime.datetime.utcnow() is deprecated and scheduled for removal in a future version. Use timezone-aware objects to represent datetimes in UTC: datetime.datetime.now(datetime.UTC).\n",
            "  self.FromDatetime(datetime.datetime.utcnow())\n"
          ]
        },
        {
          "output_type": "display_data",
          "data": {
            "text/plain": [
              "Map:   0%|          | 0/32 [00:00<?, ? examples/s]"
            ],
            "application/vnd.jupyter.widget-view+json": {
              "version_major": 2,
              "version_minor": 0,
              "model_id": "f46edb28212e4544a1a223ed85b0c901"
            }
          },
          "metadata": {}
        },
        {
          "output_type": "stream",
          "name": "stderr",
          "text": [
            "***** Running training *****\n",
            "  Num unique pairs = 1920\n",
            "  Batch size = 16\n",
            "  Num epochs = 3\n"
          ]
        },
        {
          "output_type": "display_data",
          "data": {
            "text/plain": [
              "<IPython.core.display.HTML object>"
            ],
            "text/html": [
              "\n",
              "    <div>\n",
              "      \n",
              "      <progress value='360' max='360' style='width:300px; height:20px; vertical-align: middle;'></progress>\n",
              "      [360/360 00:36, Epoch 3/3]\n",
              "    </div>\n",
              "    <table border=\"1\" class=\"dataframe\">\n",
              "  <thead>\n",
              " <tr style=\"text-align: left;\">\n",
              "      <th>Step</th>\n",
              "      <th>Training Loss</th>\n",
              "    </tr>\n",
              "  </thead>\n",
              "  <tbody>\n",
              "    <tr>\n",
              "      <td>1</td>\n",
              "      <td>0.277600</td>\n",
              "    </tr>\n",
              "    <tr>\n",
              "      <td>50</td>\n",
              "      <td>0.137300</td>\n",
              "    </tr>\n",
              "    <tr>\n",
              "      <td>100</td>\n",
              "      <td>0.000600</td>\n",
              "    </tr>\n",
              "    <tr>\n",
              "      <td>150</td>\n",
              "      <td>0.000300</td>\n",
              "    </tr>\n",
              "    <tr>\n",
              "      <td>200</td>\n",
              "      <td>0.000200</td>\n",
              "    </tr>\n",
              "    <tr>\n",
              "      <td>250</td>\n",
              "      <td>0.000100</td>\n",
              "    </tr>\n",
              "    <tr>\n",
              "      <td>300</td>\n",
              "      <td>0.000100</td>\n",
              "    </tr>\n",
              "    <tr>\n",
              "      <td>350</td>\n",
              "      <td>0.000100</td>\n",
              "    </tr>\n",
              "  </tbody>\n",
              "</table><p>"
            ]
          },
          "metadata": {}
        },
        {
          "output_type": "stream",
          "name": "stderr",
          "text": [
            "/usr/local/lib/python3.12/dist-packages/jupyter_client/session.py:203: DeprecationWarning: datetime.datetime.utcnow() is deprecated and scheduled for removal in a future version. Use timezone-aware objects to represent datetimes in UTC: datetime.datetime.now(datetime.UTC).\n",
            "  return datetime.utcnow().replace(tzinfo=utc)\n",
            "/usr/local/lib/python3.12/dist-packages/google/protobuf/internal/well_known_types.py:178: DeprecationWarning: datetime.datetime.utcnow() is deprecated and scheduled for removal in a future version. Use timezone-aware objects to represent datetimes in UTC: datetime.datetime.now(datetime.UTC).\n",
            "  self.FromDatetime(datetime.datetime.utcnow())\n",
            "/usr/local/lib/python3.12/dist-packages/sklearn/linear_model/_logistic.py:451: DeprecationWarning: scipy.optimize: The `disp` and `iprint` options of the L-BFGS-B solver are deprecated and will be removed in SciPy 1.18.0.\n",
            "  opt_res = optimize.minimize(\n",
            "/usr/local/lib/python3.12/dist-packages/google/protobuf/internal/well_known_types.py:178: DeprecationWarning: datetime.datetime.utcnow() is deprecated and scheduled for removal in a future version. Use timezone-aware objects to represent datetimes in UTC: datetime.datetime.now(datetime.UTC).\n",
            "  self.FromDatetime(datetime.datetime.utcnow())\n",
            "***** Running evaluation *****\n",
            "/usr/local/lib/python3.12/dist-packages/jupyter_client/session.py:203: DeprecationWarning: datetime.datetime.utcnow() is deprecated and scheduled for removal in a future version. Use timezone-aware objects to represent datetimes in UTC: datetime.datetime.now(datetime.UTC).\n",
            "  return datetime.utcnow().replace(tzinfo=utc)\n"
          ]
        },
        {
          "output_type": "stream",
          "name": "stdout",
          "text": [
            "num_iterations=30: F1=0.7844\n"
          ]
        },
        {
          "output_type": "stream",
          "name": "stderr",
          "text": [
            "/usr/local/lib/python3.12/dist-packages/google/protobuf/internal/well_known_types.py:178: DeprecationWarning: datetime.datetime.utcnow() is deprecated and scheduled for removal in a future version. Use timezone-aware objects to represent datetimes in UTC: datetime.datetime.now(datetime.UTC).\n",
            "  self.FromDatetime(datetime.datetime.utcnow())\n",
            "/usr/local/lib/python3.12/dist-packages/jupyter_client/session.py:203: DeprecationWarning: datetime.datetime.utcnow() is deprecated and scheduled for removal in a future version. Use timezone-aware objects to represent datetimes in UTC: datetime.datetime.now(datetime.UTC).\n",
            "  return datetime.utcnow().replace(tzinfo=utc)\n",
            "model_head.pkl not found on HuggingFace Hub, initialising classification head with random weights. You should TRAIN this model on a downstream task to use it for predictions and inference.\n",
            "Applying column mapping to the training dataset\n",
            "Applying column mapping to the evaluation dataset\n",
            "/usr/local/lib/python3.12/dist-packages/jupyter_client/session.py:203: DeprecationWarning: datetime.datetime.utcnow() is deprecated and scheduled for removal in a future version. Use timezone-aware objects to represent datetimes in UTC: datetime.datetime.now(datetime.UTC).\n",
            "  return datetime.utcnow().replace(tzinfo=utc)\n",
            "/usr/local/lib/python3.12/dist-packages/google/protobuf/internal/well_known_types.py:178: DeprecationWarning: datetime.datetime.utcnow() is deprecated and scheduled for removal in a future version. Use timezone-aware objects to represent datetimes in UTC: datetime.datetime.now(datetime.UTC).\n",
            "  self.FromDatetime(datetime.datetime.utcnow())\n"
          ]
        },
        {
          "output_type": "display_data",
          "data": {
            "text/plain": [
              "Map:   0%|          | 0/32 [00:00<?, ? examples/s]"
            ],
            "application/vnd.jupyter.widget-view+json": {
              "version_major": 2,
              "version_minor": 0,
              "model_id": "76cb7d675c2648f4a5e397fa1a533bb6"
            }
          },
          "metadata": {}
        },
        {
          "output_type": "stream",
          "name": "stderr",
          "text": [
            "***** Running training *****\n",
            "  Num unique pairs = 2240\n",
            "  Batch size = 16\n",
            "  Num epochs = 3\n"
          ]
        },
        {
          "output_type": "display_data",
          "data": {
            "text/plain": [
              "<IPython.core.display.HTML object>"
            ],
            "text/html": [
              "\n",
              "    <div>\n",
              "      \n",
              "      <progress value='420' max='420' style='width:300px; height:20px; vertical-align: middle;'></progress>\n",
              "      [420/420 00:42, Epoch 3/3]\n",
              "    </div>\n",
              "    <table border=\"1\" class=\"dataframe\">\n",
              "  <thead>\n",
              " <tr style=\"text-align: left;\">\n",
              "      <th>Step</th>\n",
              "      <th>Training Loss</th>\n",
              "    </tr>\n",
              "  </thead>\n",
              "  <tbody>\n",
              "    <tr>\n",
              "      <td>1</td>\n",
              "      <td>0.391000</td>\n",
              "    </tr>\n",
              "    <tr>\n",
              "      <td>50</td>\n",
              "      <td>0.143000</td>\n",
              "    </tr>\n",
              "    <tr>\n",
              "      <td>100</td>\n",
              "      <td>0.000500</td>\n",
              "    </tr>\n",
              "    <tr>\n",
              "      <td>150</td>\n",
              "      <td>0.000200</td>\n",
              "    </tr>\n",
              "    <tr>\n",
              "      <td>200</td>\n",
              "      <td>0.000200</td>\n",
              "    </tr>\n",
              "    <tr>\n",
              "      <td>250</td>\n",
              "      <td>0.000100</td>\n",
              "    </tr>\n",
              "    <tr>\n",
              "      <td>300</td>\n",
              "      <td>0.000100</td>\n",
              "    </tr>\n",
              "    <tr>\n",
              "      <td>350</td>\n",
              "      <td>0.000100</td>\n",
              "    </tr>\n",
              "    <tr>\n",
              "      <td>400</td>\n",
              "      <td>0.000100</td>\n",
              "    </tr>\n",
              "  </tbody>\n",
              "</table><p>"
            ]
          },
          "metadata": {}
        },
        {
          "output_type": "stream",
          "name": "stderr",
          "text": [
            "/usr/local/lib/python3.12/dist-packages/jupyter_client/session.py:203: DeprecationWarning: datetime.datetime.utcnow() is deprecated and scheduled for removal in a future version. Use timezone-aware objects to represent datetimes in UTC: datetime.datetime.now(datetime.UTC).\n",
            "  return datetime.utcnow().replace(tzinfo=utc)\n",
            "/usr/local/lib/python3.12/dist-packages/google/protobuf/internal/well_known_types.py:178: DeprecationWarning: datetime.datetime.utcnow() is deprecated and scheduled for removal in a future version. Use timezone-aware objects to represent datetimes in UTC: datetime.datetime.now(datetime.UTC).\n",
            "  self.FromDatetime(datetime.datetime.utcnow())\n",
            "/usr/local/lib/python3.12/dist-packages/sklearn/linear_model/_logistic.py:451: DeprecationWarning: scipy.optimize: The `disp` and `iprint` options of the L-BFGS-B solver are deprecated and will be removed in SciPy 1.18.0.\n",
            "  opt_res = optimize.minimize(\n",
            "/usr/local/lib/python3.12/dist-packages/google/protobuf/internal/well_known_types.py:178: DeprecationWarning: datetime.datetime.utcnow() is deprecated and scheduled for removal in a future version. Use timezone-aware objects to represent datetimes in UTC: datetime.datetime.now(datetime.UTC).\n",
            "  self.FromDatetime(datetime.datetime.utcnow())\n",
            "***** Running evaluation *****\n",
            "/usr/local/lib/python3.12/dist-packages/jupyter_client/session.py:203: DeprecationWarning: datetime.datetime.utcnow() is deprecated and scheduled for removal in a future version. Use timezone-aware objects to represent datetimes in UTC: datetime.datetime.now(datetime.UTC).\n",
            "  return datetime.utcnow().replace(tzinfo=utc)\n"
          ]
        },
        {
          "output_type": "stream",
          "name": "stdout",
          "text": [
            "num_iterations=35: F1=0.7851\n"
          ]
        },
        {
          "output_type": "stream",
          "name": "stderr",
          "text": [
            "/usr/local/lib/python3.12/dist-packages/google/protobuf/internal/well_known_types.py:178: DeprecationWarning: datetime.datetime.utcnow() is deprecated and scheduled for removal in a future version. Use timezone-aware objects to represent datetimes in UTC: datetime.datetime.now(datetime.UTC).\n",
            "  self.FromDatetime(datetime.datetime.utcnow())\n",
            "/usr/local/lib/python3.12/dist-packages/jupyter_client/session.py:203: DeprecationWarning: datetime.datetime.utcnow() is deprecated and scheduled for removal in a future version. Use timezone-aware objects to represent datetimes in UTC: datetime.datetime.now(datetime.UTC).\n",
            "  return datetime.utcnow().replace(tzinfo=utc)\n",
            "model_head.pkl not found on HuggingFace Hub, initialising classification head with random weights. You should TRAIN this model on a downstream task to use it for predictions and inference.\n",
            "Applying column mapping to the training dataset\n",
            "Applying column mapping to the evaluation dataset\n",
            "/usr/local/lib/python3.12/dist-packages/jupyter_client/session.py:203: DeprecationWarning: datetime.datetime.utcnow() is deprecated and scheduled for removal in a future version. Use timezone-aware objects to represent datetimes in UTC: datetime.datetime.now(datetime.UTC).\n",
            "  return datetime.utcnow().replace(tzinfo=utc)\n",
            "/usr/local/lib/python3.12/dist-packages/google/protobuf/internal/well_known_types.py:178: DeprecationWarning: datetime.datetime.utcnow() is deprecated and scheduled for removal in a future version. Use timezone-aware objects to represent datetimes in UTC: datetime.datetime.now(datetime.UTC).\n",
            "  self.FromDatetime(datetime.datetime.utcnow())\n"
          ]
        },
        {
          "output_type": "display_data",
          "data": {
            "text/plain": [
              "Map:   0%|          | 0/32 [00:00<?, ? examples/s]"
            ],
            "application/vnd.jupyter.widget-view+json": {
              "version_major": 2,
              "version_minor": 0,
              "model_id": "963c57d8e8cf45bb80c4bd5b737b34d4"
            }
          },
          "metadata": {}
        },
        {
          "output_type": "stream",
          "name": "stderr",
          "text": [
            "***** Running training *****\n",
            "  Num unique pairs = 2560\n",
            "  Batch size = 16\n",
            "  Num epochs = 3\n"
          ]
        },
        {
          "output_type": "display_data",
          "data": {
            "text/plain": [
              "<IPython.core.display.HTML object>"
            ],
            "text/html": [
              "\n",
              "    <div>\n",
              "      \n",
              "      <progress value='480' max='480' style='width:300px; height:20px; vertical-align: middle;'></progress>\n",
              "      [480/480 00:48, Epoch 3/3]\n",
              "    </div>\n",
              "    <table border=\"1\" class=\"dataframe\">\n",
              "  <thead>\n",
              " <tr style=\"text-align: left;\">\n",
              "      <th>Step</th>\n",
              "      <th>Training Loss</th>\n",
              "    </tr>\n",
              "  </thead>\n",
              "  <tbody>\n",
              "    <tr>\n",
              "      <td>1</td>\n",
              "      <td>0.382700</td>\n",
              "    </tr>\n",
              "    <tr>\n",
              "      <td>50</td>\n",
              "      <td>0.149300</td>\n",
              "    </tr>\n",
              "    <tr>\n",
              "      <td>100</td>\n",
              "      <td>0.000600</td>\n",
              "    </tr>\n",
              "    <tr>\n",
              "      <td>150</td>\n",
              "      <td>0.000200</td>\n",
              "    </tr>\n",
              "    <tr>\n",
              "      <td>200</td>\n",
              "      <td>0.000200</td>\n",
              "    </tr>\n",
              "    <tr>\n",
              "      <td>250</td>\n",
              "      <td>0.000100</td>\n",
              "    </tr>\n",
              "    <tr>\n",
              "      <td>300</td>\n",
              "      <td>0.000100</td>\n",
              "    </tr>\n",
              "    <tr>\n",
              "      <td>350</td>\n",
              "      <td>0.000100</td>\n",
              "    </tr>\n",
              "    <tr>\n",
              "      <td>400</td>\n",
              "      <td>0.000100</td>\n",
              "    </tr>\n",
              "    <tr>\n",
              "      <td>450</td>\n",
              "      <td>0.000100</td>\n",
              "    </tr>\n",
              "  </tbody>\n",
              "</table><p>"
            ]
          },
          "metadata": {}
        },
        {
          "output_type": "stream",
          "name": "stderr",
          "text": [
            "/usr/local/lib/python3.12/dist-packages/jupyter_client/session.py:203: DeprecationWarning: datetime.datetime.utcnow() is deprecated and scheduled for removal in a future version. Use timezone-aware objects to represent datetimes in UTC: datetime.datetime.now(datetime.UTC).\n",
            "  return datetime.utcnow().replace(tzinfo=utc)\n",
            "/usr/local/lib/python3.12/dist-packages/google/protobuf/internal/well_known_types.py:178: DeprecationWarning: datetime.datetime.utcnow() is deprecated and scheduled for removal in a future version. Use timezone-aware objects to represent datetimes in UTC: datetime.datetime.now(datetime.UTC).\n",
            "  self.FromDatetime(datetime.datetime.utcnow())\n",
            "/usr/local/lib/python3.12/dist-packages/sklearn/linear_model/_logistic.py:451: DeprecationWarning: scipy.optimize: The `disp` and `iprint` options of the L-BFGS-B solver are deprecated and will be removed in SciPy 1.18.0.\n",
            "  opt_res = optimize.minimize(\n",
            "/usr/local/lib/python3.12/dist-packages/google/protobuf/internal/well_known_types.py:178: DeprecationWarning: datetime.datetime.utcnow() is deprecated and scheduled for removal in a future version. Use timezone-aware objects to represent datetimes in UTC: datetime.datetime.now(datetime.UTC).\n",
            "  self.FromDatetime(datetime.datetime.utcnow())\n",
            "***** Running evaluation *****\n",
            "/usr/local/lib/python3.12/dist-packages/jupyter_client/session.py:203: DeprecationWarning: datetime.datetime.utcnow() is deprecated and scheduled for removal in a future version. Use timezone-aware objects to represent datetimes in UTC: datetime.datetime.now(datetime.UTC).\n",
            "  return datetime.utcnow().replace(tzinfo=utc)\n"
          ]
        },
        {
          "output_type": "stream",
          "name": "stdout",
          "text": [
            "num_iterations=40: F1=0.7816\n",
            "\n",
            "==================================================\n",
            "최적 num_iterations: 35\n",
            "최고 F1 Score: 0.7851\n",
            "==================================================\n"
          ]
        },
        {
          "output_type": "stream",
          "name": "stderr",
          "text": [
            "/usr/local/lib/python3.12/dist-packages/google/protobuf/internal/well_known_types.py:178: DeprecationWarning: datetime.datetime.utcnow() is deprecated and scheduled for removal in a future version. Use timezone-aware objects to represent datetimes in UTC: datetime.datetime.now(datetime.UTC).\n",
            "  self.FromDatetime(datetime.datetime.utcnow())\n",
            "/tmp/ipython-input-2722057952.py:70: UserWarning: Glyph 50640 (\\N{HANGUL SYLLABLE E}) missing from font(s) DejaVu Sans.\n",
            "  plt.tight_layout()\n",
            "/tmp/ipython-input-2722057952.py:70: UserWarning: Glyph 46384 (\\N{HANGUL SYLLABLE DDA}) missing from font(s) DejaVu Sans.\n",
            "  plt.tight_layout()\n",
            "/tmp/ipython-input-2722057952.py:70: UserWarning: Glyph 47480 (\\N{HANGUL SYLLABLE REUN}) missing from font(s) DejaVu Sans.\n",
            "  plt.tight_layout()\n",
            "/tmp/ipython-input-2722057952.py:70: UserWarning: Glyph 49457 (\\N{HANGUL SYLLABLE SEONG}) missing from font(s) DejaVu Sans.\n",
            "  plt.tight_layout()\n",
            "/tmp/ipython-input-2722057952.py:70: UserWarning: Glyph 45733 (\\N{HANGUL SYLLABLE NEUNG}) missing from font(s) DejaVu Sans.\n",
            "  plt.tight_layout()\n",
            "/tmp/ipython-input-2722057952.py:70: UserWarning: Glyph 48320 (\\N{HANGUL SYLLABLE BYEON}) missing from font(s) DejaVu Sans.\n",
            "  plt.tight_layout()\n",
            "/tmp/ipython-input-2722057952.py:70: UserWarning: Glyph 54868 (\\N{HANGUL SYLLABLE HWA}) missing from font(s) DejaVu Sans.\n",
            "  plt.tight_layout()\n",
            "/tmp/ipython-input-2722057952.py:70: UserWarning: Glyph 52572 (\\N{HANGUL SYLLABLE COE}) missing from font(s) DejaVu Sans.\n",
            "  plt.tight_layout()\n",
            "/tmp/ipython-input-2722057952.py:70: UserWarning: Glyph 51201 (\\N{HANGUL SYLLABLE JEOG}) missing from font(s) DejaVu Sans.\n",
            "  plt.tight_layout()\n",
            "/tmp/ipython-input-2722057952.py:70: UserWarning: Glyph 44050 (\\N{HANGUL SYLLABLE GABS}) missing from font(s) DejaVu Sans.\n",
            "  plt.tight_layout()\n",
            "/tmp/ipython-input-2722057952.py:70: UserWarning: Glyph 44284 (\\N{HANGUL SYLLABLE GWA}) missing from font(s) DejaVu Sans.\n",
            "  plt.tight_layout()\n",
            "/tmp/ipython-input-2722057952.py:70: UserWarning: Glyph 54633 (\\N{HANGUL SYLLABLE HAB}) missing from font(s) DejaVu Sans.\n",
            "  plt.tight_layout()\n",
            "/tmp/ipython-input-2722057952.py:70: UserWarning: Glyph 50689 (\\N{HANGUL SYLLABLE YEONG}) missing from font(s) DejaVu Sans.\n",
            "  plt.tight_layout()\n",
            "/tmp/ipython-input-2722057952.py:70: UserWarning: Glyph 50669 (\\N{HANGUL SYLLABLE YEOG}) missing from font(s) DejaVu Sans.\n",
            "  plt.tight_layout()\n",
            "/tmp/ipython-input-2722057952.py:71: UserWarning: Glyph 50640 (\\N{HANGUL SYLLABLE E}) missing from font(s) DejaVu Sans.\n",
            "  plt.savefig('fewshot_iterations_analysis.png', dpi=300, bbox_inches='tight')\n",
            "/tmp/ipython-input-2722057952.py:71: UserWarning: Glyph 46384 (\\N{HANGUL SYLLABLE DDA}) missing from font(s) DejaVu Sans.\n",
            "  plt.savefig('fewshot_iterations_analysis.png', dpi=300, bbox_inches='tight')\n",
            "/tmp/ipython-input-2722057952.py:71: UserWarning: Glyph 47480 (\\N{HANGUL SYLLABLE REUN}) missing from font(s) DejaVu Sans.\n",
            "  plt.savefig('fewshot_iterations_analysis.png', dpi=300, bbox_inches='tight')\n",
            "/tmp/ipython-input-2722057952.py:71: UserWarning: Glyph 49457 (\\N{HANGUL SYLLABLE SEONG}) missing from font(s) DejaVu Sans.\n",
            "  plt.savefig('fewshot_iterations_analysis.png', dpi=300, bbox_inches='tight')\n",
            "/tmp/ipython-input-2722057952.py:71: UserWarning: Glyph 45733 (\\N{HANGUL SYLLABLE NEUNG}) missing from font(s) DejaVu Sans.\n",
            "  plt.savefig('fewshot_iterations_analysis.png', dpi=300, bbox_inches='tight')\n",
            "/tmp/ipython-input-2722057952.py:71: UserWarning: Glyph 48320 (\\N{HANGUL SYLLABLE BYEON}) missing from font(s) DejaVu Sans.\n",
            "  plt.savefig('fewshot_iterations_analysis.png', dpi=300, bbox_inches='tight')\n",
            "/tmp/ipython-input-2722057952.py:71: UserWarning: Glyph 54868 (\\N{HANGUL SYLLABLE HWA}) missing from font(s) DejaVu Sans.\n",
            "  plt.savefig('fewshot_iterations_analysis.png', dpi=300, bbox_inches='tight')\n",
            "/tmp/ipython-input-2722057952.py:71: UserWarning: Glyph 52572 (\\N{HANGUL SYLLABLE COE}) missing from font(s) DejaVu Sans.\n",
            "  plt.savefig('fewshot_iterations_analysis.png', dpi=300, bbox_inches='tight')\n",
            "/tmp/ipython-input-2722057952.py:71: UserWarning: Glyph 51201 (\\N{HANGUL SYLLABLE JEOG}) missing from font(s) DejaVu Sans.\n",
            "  plt.savefig('fewshot_iterations_analysis.png', dpi=300, bbox_inches='tight')\n",
            "/tmp/ipython-input-2722057952.py:71: UserWarning: Glyph 44050 (\\N{HANGUL SYLLABLE GABS}) missing from font(s) DejaVu Sans.\n",
            "  plt.savefig('fewshot_iterations_analysis.png', dpi=300, bbox_inches='tight')\n",
            "/tmp/ipython-input-2722057952.py:71: UserWarning: Glyph 44284 (\\N{HANGUL SYLLABLE GWA}) missing from font(s) DejaVu Sans.\n",
            "  plt.savefig('fewshot_iterations_analysis.png', dpi=300, bbox_inches='tight')\n",
            "/tmp/ipython-input-2722057952.py:71: UserWarning: Glyph 54633 (\\N{HANGUL SYLLABLE HAB}) missing from font(s) DejaVu Sans.\n",
            "  plt.savefig('fewshot_iterations_analysis.png', dpi=300, bbox_inches='tight')\n",
            "/tmp/ipython-input-2722057952.py:71: UserWarning: Glyph 50689 (\\N{HANGUL SYLLABLE YEONG}) missing from font(s) DejaVu Sans.\n",
            "  plt.savefig('fewshot_iterations_analysis.png', dpi=300, bbox_inches='tight')\n",
            "/tmp/ipython-input-2722057952.py:71: UserWarning: Glyph 50669 (\\N{HANGUL SYLLABLE YEOG}) missing from font(s) DejaVu Sans.\n",
            "  plt.savefig('fewshot_iterations_analysis.png', dpi=300, bbox_inches='tight')\n",
            "/usr/local/lib/python3.12/dist-packages/jupyter_client/session.py:203: DeprecationWarning: datetime.datetime.utcnow() is deprecated and scheduled for removal in a future version. Use timezone-aware objects to represent datetimes in UTC: datetime.datetime.now(datetime.UTC).\n",
            "  return datetime.utcnow().replace(tzinfo=utc)\n",
            "/usr/local/lib/python3.12/dist-packages/IPython/core/pylabtools.py:151: UserWarning: Glyph 50640 (\\N{HANGUL SYLLABLE E}) missing from font(s) DejaVu Sans.\n",
            "  fig.canvas.print_figure(bytes_io, **kw)\n",
            "/usr/local/lib/python3.12/dist-packages/IPython/core/pylabtools.py:151: UserWarning: Glyph 46384 (\\N{HANGUL SYLLABLE DDA}) missing from font(s) DejaVu Sans.\n",
            "  fig.canvas.print_figure(bytes_io, **kw)\n",
            "/usr/local/lib/python3.12/dist-packages/IPython/core/pylabtools.py:151: UserWarning: Glyph 47480 (\\N{HANGUL SYLLABLE REUN}) missing from font(s) DejaVu Sans.\n",
            "  fig.canvas.print_figure(bytes_io, **kw)\n",
            "/usr/local/lib/python3.12/dist-packages/IPython/core/pylabtools.py:151: UserWarning: Glyph 49457 (\\N{HANGUL SYLLABLE SEONG}) missing from font(s) DejaVu Sans.\n",
            "  fig.canvas.print_figure(bytes_io, **kw)\n",
            "/usr/local/lib/python3.12/dist-packages/IPython/core/pylabtools.py:151: UserWarning: Glyph 45733 (\\N{HANGUL SYLLABLE NEUNG}) missing from font(s) DejaVu Sans.\n",
            "  fig.canvas.print_figure(bytes_io, **kw)\n",
            "/usr/local/lib/python3.12/dist-packages/IPython/core/pylabtools.py:151: UserWarning: Glyph 48320 (\\N{HANGUL SYLLABLE BYEON}) missing from font(s) DejaVu Sans.\n",
            "  fig.canvas.print_figure(bytes_io, **kw)\n",
            "/usr/local/lib/python3.12/dist-packages/IPython/core/pylabtools.py:151: UserWarning: Glyph 54868 (\\N{HANGUL SYLLABLE HWA}) missing from font(s) DejaVu Sans.\n",
            "  fig.canvas.print_figure(bytes_io, **kw)\n",
            "/usr/local/lib/python3.12/dist-packages/IPython/core/pylabtools.py:151: UserWarning: Glyph 52572 (\\N{HANGUL SYLLABLE COE}) missing from font(s) DejaVu Sans.\n",
            "  fig.canvas.print_figure(bytes_io, **kw)\n",
            "/usr/local/lib/python3.12/dist-packages/IPython/core/pylabtools.py:151: UserWarning: Glyph 51201 (\\N{HANGUL SYLLABLE JEOG}) missing from font(s) DejaVu Sans.\n",
            "  fig.canvas.print_figure(bytes_io, **kw)\n",
            "/usr/local/lib/python3.12/dist-packages/IPython/core/pylabtools.py:151: UserWarning: Glyph 44050 (\\N{HANGUL SYLLABLE GABS}) missing from font(s) DejaVu Sans.\n",
            "  fig.canvas.print_figure(bytes_io, **kw)\n",
            "/usr/local/lib/python3.12/dist-packages/IPython/core/pylabtools.py:151: UserWarning: Glyph 44284 (\\N{HANGUL SYLLABLE GWA}) missing from font(s) DejaVu Sans.\n",
            "  fig.canvas.print_figure(bytes_io, **kw)\n",
            "/usr/local/lib/python3.12/dist-packages/IPython/core/pylabtools.py:151: UserWarning: Glyph 54633 (\\N{HANGUL SYLLABLE HAB}) missing from font(s) DejaVu Sans.\n",
            "  fig.canvas.print_figure(bytes_io, **kw)\n",
            "/usr/local/lib/python3.12/dist-packages/IPython/core/pylabtools.py:151: UserWarning: Glyph 50689 (\\N{HANGUL SYLLABLE YEONG}) missing from font(s) DejaVu Sans.\n",
            "  fig.canvas.print_figure(bytes_io, **kw)\n",
            "/usr/local/lib/python3.12/dist-packages/IPython/core/pylabtools.py:151: UserWarning: Glyph 50669 (\\N{HANGUL SYLLABLE YEOG}) missing from font(s) DejaVu Sans.\n",
            "  fig.canvas.print_figure(bytes_io, **kw)\n"
          ]
        },
        {
          "output_type": "display_data",
          "data": {
            "text/plain": [
              "<Figure size 1000x600 with 1 Axes>"
            ],
            "image/png": "[encoded data removed]"
          },
          "metadata": {}
        },
        {
          "output_type": "stream",
          "name": "stdout",
          "text": [
            "\n",
            "그래프 저장 완료: fewshot_iterations_analysis.png\n"
          ]
        }
      ]
    },
    {
      "cell_type": "markdown",
      "source": [
        "#### 최적 num_iterations 특정 불가\n",
        "\n",
        "### 실험 결과\n",
        "- 테스트 범위: 5~40\n",
        "- 최고 성능: 35 (F1: 0.785)\n",
        "- 패턴: 불규칙한 등락\n",
        "\n",
        "### 한계\n",
        "   - 매 실행마다 쌍 생성이 랜덤\n",
        "   - 동일 설정도 결과 달라질 수 있음\n",
        "    - **높은 노이즈로 인해 최적값 특정 어려움**"
      ],
      "metadata": {
        "id": "xiYMIO2294h6"
      }
    },
    {
      "cell_type": "code",
      "execution_count": null,
      "metadata": {
        "id": "-aKIHJpCQdAm",
        "colab": {
          "base_uri": "https://localhost:8080/",
          "height": 80
        },
        "outputId": "0893d6df-43f8-4967-9814-e691f9fbd17f"
      },
      "outputs": [
        {
          "output_type": "execute_result",
          "data": {
            "text/plain": [
              "LogisticRegression()"
            ],
            "text/html": [
              "<style>#sk-container-id-3 {\n",
              "  /* Definition of color scheme common for light and dark mode */\n",
              "  --sklearn-color-text: #000;\n",
              "  --sklearn-color-text-muted: #666;\n",
              "  --sklearn-color-line: gray;\n",
              "  /* Definition of color scheme for unfitted estimators */\n",
              "  --sklearn-color-unfitted-level-0: #fff5e6;\n",
              "  --sklearn-color-unfitted-level-1: #f6e4d2;\n",
              "  --sklearn-color-unfitted-level-2: #ffe0b3;\n",
              "  --sklearn-color-unfitted-level-3: chocolate;\n",
              "  /* Definition of color scheme for fitted estimators */\n",
              "  --sklearn-color-fitted-level-0: #f0f8ff;\n",
              "  --sklearn-color-fitted-level-1: #d4ebff;\n",
              "  --sklearn-color-fitted-level-2: #b3dbfd;\n",
              "  --sklearn-color-fitted-level-3: cornflowerblue;\n",
              "\n",
              "  /* Specific color for light theme */\n",
              "  --sklearn-color-text-on-default-background: var(--sg-text-color, var(--theme-code-foreground, var(--jp-content-font-color1, black)));\n",
              "  --sklearn-color-background: var(--sg-background-color, var(--theme-background, var(--jp-layout-color0, white)));\n",
              "  --sklearn-color-border-box: var(--sg-text-color, var(--theme-code-foreground, var(--jp-content-font-color1, black)));\n",
              "  --sklearn-color-icon: #696969;\n",
              "\n",
              "  @media (prefers-color-scheme: dark) {\n",
              "    /* Redefinition of color scheme for dark theme */\n",
              "    --sklearn-color-text-on-default-background: var(--sg-text-color, var(--theme-code-foreground, var(--jp-content-font-color1, white)));\n",
              "    --sklearn-color-background: var(--sg-background-color, var(--theme-background, var(--jp-layout-color0, #111)));\n",
              "    --sklearn-color-border-box: var(--sg-text-color, var(--theme-code-foreground, var(--jp-content-font-color1, white)));\n",
              "    --sklearn-color-icon: #878787;\n",
              "  }\n",
              "}\n",
              "\n",
              "#sk-container-id-3 {\n",
              "  color: var(--sklearn-color-text);\n",
              "}\n",
              "\n",
              "#sk-container-id-3 pre {\n",
              "  padding: 0;\n",
              "}\n",
              "\n",
              "#sk-container-id-3 input.sk-hidden--visually {\n",
              "  border: 0;\n",
              "  clip: rect(1px 1px 1px 1px);\n",
              "  clip: rect(1px, 1px, 1px, 1px);\n",
              "  height: 1px;\n",
              "  margin: -1px;\n",
              "  overflow: hidden;\n",
              "  padding: 0;\n",
              "  position: absolute;\n",
              "  width: 1px;\n",
              "}\n",
              "\n",
              "#sk-container-id-3 div.sk-dashed-wrapped {\n",
              "  border: 1px dashed var(--sklearn-color-line);\n",
              "  margin: 0 0.4em 0.5em 0.4em;\n",
              "  box-sizing: border-box;\n",
              "  padding-bottom: 0.4em;\n",
              "  background-color: var(--sklearn-color-background);\n",
              "}\n",
              "\n",
              "#sk-container-id-3 div.sk-container {\n",
              "  /* jupyter's `normalize.less` sets `[hidden] { display: none; }`\n",
              "     but bootstrap.min.css set `[hidden] { display: none !important; }`\n",
              "     so we also need the `!important` here to be able to override the\n",
              "     default hidden behavior on the sphinx rendered scikit-learn.org.\n",
              "     See: https://github.com/scikit-learn/scikit-learn/issues/21755 */\n",
              "  display: inline-block !important;\n",
              "  position: relative;\n",
              "}\n",
              "\n",
              "#sk-container-id-3 div.sk-text-repr-fallback {\n",
              "  display: none;\n",
              "}\n",
              "\n",
              "div.sk-parallel-item,\n",
              "div.sk-serial,\n",
              "div.sk-item {\n",
              "  /* draw centered vertical line to link estimators */\n",
              "  background-image: linear-gradient(var(--sklearn-color-text-on-default-background), var(--sklearn-color-text-on-default-background));\n",
              "  background-size: 2px 100%;\n",
              "  background-repeat: no-repeat;\n",
              "  background-position: center center;\n",
              "}\n",
              "\n",
              "/* Parallel-specific style estimator block */\n",
              "\n",
              "#sk-container-id-3 div.sk-parallel-item::after {\n",
              "  content: \"\";\n",
              "  width: 100%;\n",
              "  border-bottom: 2px solid var(--sklearn-color-text-on-default-background);\n",
              "  flex-grow: 1;\n",
              "}\n",
              "\n",
              "#sk-container-id-3 div.sk-parallel {\n",
              "  display: flex;\n",
              "  align-items: stretch;\n",
              "  justify-content: center;\n",
              "  background-color: var(--sklearn-color-background);\n",
              "  position: relative;\n",
              "}\n",
              "\n",
              "#sk-container-id-3 div.sk-parallel-item {\n",
              "  display: flex;\n",
              "  flex-direction: column;\n",
              "}\n",
              "\n",
              "#sk-container-id-3 div.sk-parallel-item:first-child::after {\n",
              "  align-self: flex-end;\n",
              "  width: 50%;\n",
              "}\n",
              "\n",
              "#sk-container-id-3 div.sk-parallel-item:last-child::after {\n",
              "  align-self: flex-start;\n",
              "  width: 50%;\n",
              "}\n",
              "\n",
              "#sk-container-id-3 div.sk-parallel-item:only-child::after {\n",
              "  width: 0;\n",
              "}\n",
              "\n",
              "/* Serial-specific style estimator block */\n",
              "\n",
              "#sk-container-id-3 div.sk-serial {\n",
              "  display: flex;\n",
              "  flex-direction: column;\n",
              "  align-items: center;\n",
              "  background-color: var(--sklearn-color-background);\n",
              "  padding-right: 1em;\n",
              "  padding-left: 1em;\n",
              "}\n",
              "\n",
              "\n",
              "/* Toggleable style: style used for estimator/Pipeline/ColumnTransformer box that is\n",
              "clickable and can be expanded/collapsed.\n",
              "- Pipeline and ColumnTransformer use this feature and define the default style\n",
              "- Estimators will overwrite some part of the style using the `sk-estimator` class\n",
              "*/\n",
              "\n",
              "/* Pipeline and ColumnTransformer style (default) */\n",
              "\n",
              "#sk-container-id-3 div.sk-toggleable {\n",
              "  /* Default theme specific background. It is overwritten whether we have a\n",
              "  specific estimator or a Pipeline/ColumnTransformer */\n",
              "  background-color: var(--sklearn-color-background);\n",
              "}\n",
              "\n",
              "/* Toggleable label */\n",
              "#sk-container-id-3 label.sk-toggleable__label {\n",
              "  cursor: pointer;\n",
              "  display: flex;\n",
              "  width: 100%;\n",
              "  margin-bottom: 0;\n",
              "  padding: 0.5em;\n",
              "  box-sizing: border-box;\n",
              "  text-align: center;\n",
              "  align-items: start;\n",
              "  justify-content: space-between;\n",
              "  gap: 0.5em;\n",
              "}\n",
              "\n",
              "#sk-container-id-3 label.sk-toggleable__label .caption {\n",
              "  font-size: 0.6rem;\n",
              "  font-weight: lighter;\n",
              "  color: var(--sklearn-color-text-muted);\n",
              "}\n",
              "\n",
              "#sk-container-id-3 label.sk-toggleable__label-arrow:before {\n",
              "  /* Arrow on the left of the label */\n",
              "  content: \"▸\";\n",
              "  float: left;\n",
              "  margin-right: 0.25em;\n",
              "  color: var(--sklearn-color-icon);\n",
              "}\n",
              "\n",
              "#sk-container-id-3 label.sk-toggleable__label-arrow:hover:before {\n",
              "  color: var(--sklearn-color-text);\n",
              "}\n",
              "\n",
              "/* Toggleable content - dropdown */\n",
              "\n",
              "#sk-container-id-3 div.sk-toggleable__content {\n",
              "  max-height: 0;\n",
              "  max-width: 0;\n",
              "  overflow: hidden;\n",
              "  text-align: left;\n",
              "  /* unfitted */\n",
              "  background-color: var(--sklearn-color-unfitted-level-0);\n",
              "}\n",
              "\n",
              "#sk-container-id-3 div.sk-toggleable__content.fitted {\n",
              "  /* fitted */\n",
              "  background-color: var(--sklearn-color-fitted-level-0);\n",
              "}\n",
              "\n",
              "#sk-container-id-3 div.sk-toggleable__content pre {\n",
              "  margin: 0.2em;\n",
              "  border-radius: 0.25em;\n",
              "  color: var(--sklearn-color-text);\n",
              "  /* unfitted */\n",
              "  background-color: var(--sklearn-color-unfitted-level-0);\n",
              "}\n",
              "\n",
              "#sk-container-id-3 div.sk-toggleable__content.fitted pre {\n",
              "  /* unfitted */\n",
              "  background-color: var(--sklearn-color-fitted-level-0);\n",
              "}\n",
              "\n",
              "#sk-container-id-3 input.sk-toggleable__control:checked~div.sk-toggleable__content {\n",
              "  /* Expand drop-down */\n",
              "  max-height: 200px;\n",
              "  max-width: 100%;\n",
              "  overflow: auto;\n",
              "}\n",
              "\n",
              "#sk-container-id-3 input.sk-toggleable__control:checked~label.sk-toggleable__label-arrow:before {\n",
              "  content: \"▾\";\n",
              "}\n",
              "\n",
              "/* Pipeline/ColumnTransformer-specific style */\n",
              "\n",
              "#sk-container-id-3 div.sk-label input.sk-toggleable__control:checked~label.sk-toggleable__label {\n",
              "  color: var(--sklearn-color-text);\n",
              "  background-color: var(--sklearn-color-unfitted-level-2);\n",
              "}\n",
              "\n",
              "#sk-container-id-3 div.sk-label.fitted input.sk-toggleable__control:checked~label.sk-toggleable__label {\n",
              "  background-color: var(--sklearn-color-fitted-level-2);\n",
              "}\n",
              "\n",
              "/* Estimator-specific style */\n",
              "\n",
              "/* Colorize estimator box */\n",
              "#sk-container-id-3 div.sk-estimator input.sk-toggleable__control:checked~label.sk-toggleable__label {\n",
              "  /* unfitted */\n",
              "  background-color: var(--sklearn-color-unfitted-level-2);\n",
              "}\n",
              "\n",
              "#sk-container-id-3 div.sk-estimator.fitted input.sk-toggleable__control:checked~label.sk-toggleable__label {\n",
              "  /* fitted */\n",
              "  background-color: var(--sklearn-color-fitted-level-2);\n",
              "}\n",
              "\n",
              "#sk-container-id-3 div.sk-label label.sk-toggleable__label,\n",
              "#sk-container-id-3 div.sk-label label {\n",
              "  /* The background is the default theme color */\n",
              "  color: var(--sklearn-color-text-on-default-background);\n",
              "}\n",
              "\n",
              "/* On hover, darken the color of the background */\n",
              "#sk-container-id-3 div.sk-label:hover label.sk-toggleable__label {\n",
              "  color: var(--sklearn-color-text);\n",
              "  background-color: var(--sklearn-color-unfitted-level-2);\n",
              "}\n",
              "\n",
              "/* Label box, darken color on hover, fitted */\n",
              "#sk-container-id-3 div.sk-label.fitted:hover label.sk-toggleable__label.fitted {\n",
              "  color: var(--sklearn-color-text);\n",
              "  background-color: var(--sklearn-color-fitted-level-2);\n",
              "}\n",
              "\n",
              "/* Estimator label */\n",
              "\n",
              "#sk-container-id-3 div.sk-label label {\n",
              "  font-family: monospace;\n",
              "  font-weight: bold;\n",
              "  display: inline-block;\n",
              "  line-height: 1.2em;\n",
              "}\n",
              "\n",
              "#sk-container-id-3 div.sk-label-container {\n",
              "  text-align: center;\n",
              "}\n",
              "\n",
              "/* Estimator-specific */\n",
              "#sk-container-id-3 div.sk-estimator {\n",
              "  font-family: monospace;\n",
              "  border: 1px dotted var(--sklearn-color-border-box);\n",
              "  border-radius: 0.25em;\n",
              "  box-sizing: border-box;\n",
              "  margin-bottom: 0.5em;\n",
              "  /* unfitted */\n",
              "  background-color: var(--sklearn-color-unfitted-level-0);\n",
              "}\n",
              "\n",
              "#sk-container-id-3 div.sk-estimator.fitted {\n",
              "  /* fitted */\n",
              "  background-color: var(--sklearn-color-fitted-level-0);\n",
              "}\n",
              "\n",
              "/* on hover */\n",
              "#sk-container-id-3 div.sk-estimator:hover {\n",
              "  /* unfitted */\n",
              "  background-color: var(--sklearn-color-unfitted-level-2);\n",
              "}\n",
              "\n",
              "#sk-container-id-3 div.sk-estimator.fitted:hover {\n",
              "  /* fitted */\n",
              "  background-color: var(--sklearn-color-fitted-level-2);\n",
              "}\n",
              "\n",
              "/* Specification for estimator info (e.g. \"i\" and \"?\") */\n",
              "\n",
              "/* Common style for \"i\" and \"?\" */\n",
              "\n",
              ".sk-estimator-doc-link,\n",
              "a:link.sk-estimator-doc-link,\n",
              "a:visited.sk-estimator-doc-link {\n",
              "  float: right;\n",
              "  font-size: smaller;\n",
              "  line-height: 1em;\n",
              "  font-family: monospace;\n",
              "  background-color: var(--sklearn-color-background);\n",
              "  border-radius: 1em;\n",
              "  height: 1em;\n",
              "  width: 1em;\n",
              "  text-decoration: none !important;\n",
              "  margin-left: 0.5em;\n",
              "  text-align: center;\n",
              "  /* unfitted */\n",
              "  border: var(--sklearn-color-unfitted-level-1) 1pt solid;\n",
              "  color: var(--sklearn-color-unfitted-level-1);\n",
              "}\n",
              "\n",
              ".sk-estimator-doc-link.fitted,\n",
              "a:link.sk-estimator-doc-link.fitted,\n",
              "a:visited.sk-estimator-doc-link.fitted {\n",
              "  /* fitted */\n",
              "  border: var(--sklearn-color-fitted-level-1) 1pt solid;\n",
              "  color: var(--sklearn-color-fitted-level-1);\n",
              "}\n",
              "\n",
              "/* On hover */\n",
              "div.sk-estimator:hover .sk-estimator-doc-link:hover,\n",
              ".sk-estimator-doc-link:hover,\n",
              "div.sk-label-container:hover .sk-estimator-doc-link:hover,\n",
              ".sk-estimator-doc-link:hover {\n",
              "  /* unfitted */\n",
              "  background-color: var(--sklearn-color-unfitted-level-3);\n",
              "  color: var(--sklearn-color-background);\n",
              "  text-decoration: none;\n",
              "}\n",
              "\n",
              "div.sk-estimator.fitted:hover .sk-estimator-doc-link.fitted:hover,\n",
              ".sk-estimator-doc-link.fitted:hover,\n",
              "div.sk-label-container:hover .sk-estimator-doc-link.fitted:hover,\n",
              ".sk-estimator-doc-link.fitted:hover {\n",
              "  /* fitted */\n",
              "  background-color: var(--sklearn-color-fitted-level-3);\n",
              "  color: var(--sklearn-color-background);\n",
              "  text-decoration: none;\n",
              "}\n",
              "\n",
              "/* Span, style for the box shown on hovering the info icon */\n",
              ".sk-estimator-doc-link span {\n",
              "  display: none;\n",
              "  z-index: 9999;\n",
              "  position: relative;\n",
              "  font-weight: normal;\n",
              "  right: .2ex;\n",
              "  padding: .5ex;\n",
              "  margin: .5ex;\n",
              "  width: min-content;\n",
              "  min-width: 20ex;\n",
              "  max-width: 50ex;\n",
              "  color: var(--sklearn-color-text);\n",
              "  box-shadow: 2pt 2pt 4pt #999;\n",
              "  /* unfitted */\n",
              "  background: var(--sklearn-color-unfitted-level-0);\n",
              "  border: .5pt solid var(--sklearn-color-unfitted-level-3);\n",
              "}\n",
              "\n",
              ".sk-estimator-doc-link.fitted span {\n",
              "  /* fitted */\n",
              "  background: var(--sklearn-color-fitted-level-0);\n",
              "  border: var(--sklearn-color-fitted-level-3);\n",
              "}\n",
              "\n",
              ".sk-estimator-doc-link:hover span {\n",
              "  display: block;\n",
              "}\n",
              "\n",
              "/* \"?\"-specific style due to the `<a>` HTML tag */\n",
              "\n",
              "#sk-container-id-3 a.estimator_doc_link {\n",
              "  float: right;\n",
              "  font-size: 1rem;\n",
              "  line-height: 1em;\n",
              "  font-family: monospace;\n",
              "  background-color: var(--sklearn-color-background);\n",
              "  border-radius: 1rem;\n",
              "  height: 1rem;\n",
              "  width: 1rem;\n",
              "  text-decoration: none;\n",
              "  /* unfitted */\n",
              "  color: var(--sklearn-color-unfitted-level-1);\n",
              "  border: var(--sklearn-color-unfitted-level-1) 1pt solid;\n",
              "}\n",
              "\n",
              "#sk-container-id-3 a.estimator_doc_link.fitted {\n",
              "  /* fitted */\n",
              "  border: var(--sklearn-color-fitted-level-1) 1pt solid;\n",
              "  color: var(--sklearn-color-fitted-level-1);\n",
              "}\n",
              "\n",
              "/* On hover */\n",
              "#sk-container-id-3 a.estimator_doc_link:hover {\n",
              "  /* unfitted */\n",
              "  background-color: var(--sklearn-color-unfitted-level-3);\n",
              "  color: var(--sklearn-color-background);\n",
              "  text-decoration: none;\n",
              "}\n",
              "\n",
              "#sk-container-id-3 a.estimator_doc_link.fitted:hover {\n",
              "  /* fitted */\n",
              "  background-color: var(--sklearn-color-fitted-level-3);\n",
              "}\n",
              "</style><div id=\"sk-container-id-3\" class=\"sk-top-container\"><div class=\"sk-text-repr-fallback\"><pre>LogisticRegression()</pre><b>In a Jupyter environment, please rerun this cell to show the HTML representation or trust the notebook. <br />On GitHub, the HTML representation is unable to render, please try loading this page with nbviewer.org.</b></div><div class=\"sk-container\" hidden><div class=\"sk-item\"><div class=\"sk-estimator fitted sk-toggleable\"><input class=\"sk-toggleable__control sk-hidden--visually\" id=\"sk-estimator-id-3\" type=\"checkbox\" checked><label for=\"sk-estimator-id-3\" class=\"sk-toggleable__label fitted sk-toggleable__label-arrow\"><div><div>LogisticRegression</div></div><div><a class=\"sk-estimator-doc-link fitted\" rel=\"noreferrer\" target=\"_blank\" href=\"https://scikit-learn.org/1.6/modules/generated/sklearn.linear_model.LogisticRegression.html\">?<span>Documentation for LogisticRegression</span></a><span class=\"sk-estimator-doc-link fitted\">i<span>Fitted</span></span></div></label><div class=\"sk-toggleable__content fitted\"><pre>LogisticRegression()</pre></div> </div></div></div></div>"
            ]
          },
          "metadata": {},
          "execution_count": 57
        }
      ],
      "source": [
        "model.model_head # 분류기 훈련이 완료되면 파란색"
      ]
    },
    {
      "cell_type": "markdown",
      "source": [
        "\n",
        "\n",
        "---\n",
        "\n"
      ],
      "metadata": {
        "id": "p6rn8zgbCvSh"
      }
    },
    {
      "cell_type": "markdown",
      "metadata": {
        "id": "L7NbUeSn-QSe"
      },
      "source": [
        "## **마스크드 언어 모델링** (MLM)"
      ]
    },
    {
      "cell_type": "markdown",
      "source": [
        "### **사전 훈련된 (BERT)모델 계속 훈련하는 방법**"
      ],
      "metadata": {
        "id": "LZcU5jJGI-Gf"
      }
    },
    {
      "cell_type": "code",
      "execution_count": null,
      "metadata": {
        "id": "Z35PD47AXXnv",
        "colab": {
          "base_uri": "https://localhost:8080/"
        },
        "outputId": "c687bc65-0127-43c2-8915-12f1067e3149"
      },
      "outputs": [
        {
          "output_type": "stream",
          "name": "stderr",
          "text": [
            "Some weights of the model checkpoint at klue/bert-base were not used when initializing BertForMaskedLM: ['bert.pooler.dense.bias', 'bert.pooler.dense.weight', 'cls.seq_relationship.bias', 'cls.seq_relationship.weight']\n",
            "- This IS expected if you are initializing BertForMaskedLM from the checkpoint of a model trained on another task or with another architecture (e.g. initializing a BertForSequenceClassification model from a BertForPreTraining model).\n",
            "- This IS NOT expected if you are initializing BertForMaskedLM from the checkpoint of a model that you expect to be exactly identical (initializing a BertForSequenceClassification model from a BertForSequenceClassification model).\n"
          ]
        }
      ],
      "source": [
        "from transformers import AutoTokenizer, AutoModelForMaskedLM\n",
        "\n",
        "# 모델: klue/bert-base\n",
        "model_id = \"klue/bert-base\"\n",
        "model = AutoModelForMaskedLM.from_pretrained(model_id)\n",
        "tokenizer = AutoTokenizer.from_pretrained(model_id)"
      ]
    },
    {
      "cell_type": "code",
      "execution_count": null,
      "metadata": {
        "id": "zgLardIvEFTG",
        "colab": {
          "base_uri": "https://localhost:8080/",
          "height": 81,
          "referenced_widgets": [
            "42a8ed77202247ac83231c7006cf4384",
            "e4a119bd729b4ef7b3975d6b34dc8d83",
            "8717628536cb4b9e9281df77ee12c3ee",
            "09d9ce040d24415bb54fe4389d0a9134",
            "6caf660452644ad5a68634ffba27a44e",
            "e3c92dd043a44875bc77f441fd459880",
            "4c432d82fc7a4ed393cec6973da0d736",
            "e8f1f9c7532c44338ef20853b6976dfb",
            "7d5c4b803f5f4f64b3c6da8aa3f2b2c2",
            "fb1e4378a137469b8ebc63d848f7bffa",
            "014524ea568a4d438cc213497ac57556",
            "3bcaf10ab3cb4185a20acb0de3aa3973",
            "209f8b87313f43e8ac4968a5cc7f9e77",
            "c1e170dc31914c13b66ae8b820f55931",
            "b8135e7ddaea4ffdab6ed39927f05d13",
            "eaff73e5da4646b3815be1034dfc57dc",
            "dafcfd3854d147a18038adcc31656b5b",
            "4809c0c460614358a47ba29aec793e92",
            "efbc85c42ef7424f89c66c189ad5403b",
            "9d103a60109d42e48e0a43df8f5d86f4",
            "6e119b5acfd44298872acef9a351c480",
            "bb8c71bf28f24fee938b1d7340bb8062"
          ]
        },
        "outputId": "021194eb-e6b1-42f2-de01-f875012ae1c2"
      },
      "outputs": [
        {
          "output_type": "display_data",
          "data": {
            "text/plain": [
              "Map:   0%|          | 0/8500 [00:00<?, ? examples/s]"
            ],
            "application/vnd.jupyter.widget-view+json": {
              "version_major": 2,
              "version_minor": 0,
              "model_id": "42a8ed77202247ac83231c7006cf4384"
            }
          },
          "metadata": {}
        },
        {
          "output_type": "display_data",
          "data": {
            "text/plain": [
              "Map:   0%|          | 0/1000 [00:00<?, ? examples/s]"
            ],
            "application/vnd.jupyter.widget-view+json": {
              "version_major": 2,
              "version_minor": 0,
              "model_id": "3bcaf10ab3cb4185a20acb0de3aa3973"
            }
          },
          "metadata": {}
        }
      ],
      "source": [
        "def preprocess_function(examples):\n",
        "   return tokenizer(examples[\"document\"], truncation=True)\n",
        "\n",
        "# 데이터를 토큰화합니다.\n",
        "tokenized_train = train_data.map(preprocess_function, batched=True)\n",
        "tokenized_train = tokenized_train.remove_columns(\"label\")\n",
        "tokenized_test = test_data.map(preprocess_function, batched=True)\n",
        "tokenized_test = tokenized_test.remove_columns(\"label\")"
      ]
    },
    {
      "cell_type": "markdown",
      "source": [
        "- 마스킹 방법\n",
        "    - 토큰 마스킹 : 단어 마스킹보다는 비교적 빠른 수렴\n",
        "    - 전체 단어 마스킹 : 정료하지만 복잡하고 느리다\n",
        "- 토큰 마스킹\n",
        "    - 문장에 있는 토큰의 15%를 랜덤하게 마스킹함\n",
        "    - 단어의 일부분만 마스킹 될 수 있다."
      ],
      "metadata": {
        "id": "KAB9r_z2Jrlp"
      }
    },
    {
      "cell_type": "code",
      "execution_count": null,
      "metadata": {
        "id": "x7Yfg_2TECs_"
      },
      "outputs": [],
      "source": [
        "from transformers import DataCollatorForLanguageModeling\n",
        "\n",
        "# 토큰 마스킹\n",
        "data_collator = DataCollatorForLanguageModeling(\n",
        "    tokenizer=tokenizer,\n",
        "    mlm=True,\n",
        "    mlm_probability=0.15\n",
        ")"
      ]
    },
    {
      "cell_type": "code",
      "execution_count": null,
      "metadata": {
        "id": "wqnA-ROy7ZRG"
      },
      "outputs": [],
      "source": [
        "# from transformers import DataCollatorForWholeWordMask\n",
        "\n",
        "# # 전체 단어 마스킹\n",
        "# data_collator = DataCollatorForWholeWordMask(\n",
        "#     tokenizer=tokenizer,\n",
        "#     mlm=True,\n",
        "#     mlm_probability=0.15\n",
        "# )"
      ]
    },
    {
      "cell_type": "code",
      "execution_count": null,
      "metadata": {
        "id": "OduApRY03iOE",
        "colab": {
          "base_uri": "https://localhost:8080/"
        },
        "outputId": "02db1a38-9e3c-4a45-b47a-a363ef665034"
      },
      "outputs": [
        {
          "output_type": "stream",
          "name": "stderr",
          "text": [
            "/usr/local/lib/python3.12/dist-packages/jupyter_client/session.py:203: DeprecationWarning: datetime.datetime.utcnow() is deprecated and scheduled for removal in a future version. Use timezone-aware objects to represent datetimes in UTC: datetime.datetime.now(datetime.UTC).\n",
            "  return datetime.utcnow().replace(tzinfo=utc)\n",
            "/usr/local/lib/python3.12/dist-packages/google/protobuf/internal/well_known_types.py:178: DeprecationWarning: datetime.datetime.utcnow() is deprecated and scheduled for removal in a future version. Use timezone-aware objects to represent datetimes in UTC: datetime.datetime.now(datetime.UTC).\n",
            "  self.FromDatetime(datetime.datetime.utcnow())\n"
          ]
        }
      ],
      "source": [
        "# 훈련 매개변수\n",
        "training_args = TrainingArguments(\n",
        "   \"model\",\n",
        "   learning_rate=2e-5,\n",
        "   per_device_train_batch_size=16,\n",
        "   per_device_eval_batch_size=16,\n",
        "   num_train_epochs=1,\n",
        "   weight_decay=0.01,\n",
        "   save_strategy=\"epoch\",\n",
        "   report_to=\"none\"\n",
        ")\n",
        "\n",
        "# Trainer 객체 생성\n",
        "trainer = Trainer(\n",
        "    model=model,\n",
        "    args=training_args,\n",
        "    train_dataset=tokenized_train,\n",
        "    eval_dataset=tokenized_test,\n",
        "    processing_class=tokenizer,\n",
        "    data_collator=data_collator\n",
        ")"
      ]
    },
    {
      "cell_type": "code",
      "execution_count": null,
      "metadata": {
        "id": "v-cRB3QmEiXl",
        "colab": {
          "base_uri": "https://localhost:8080/",
          "height": 196
        },
        "outputId": "08b1b585-e46f-41b4-fd90-8bdc20e8dafc"
      },
      "outputs": [
        {
          "output_type": "display_data",
          "data": {
            "text/plain": [
              "<IPython.core.display.HTML object>"
            ],
            "text/html": [
              "\n",
              "    <div>\n",
              "      \n",
              "      <progress value='532' max='532' style='width:300px; height:20px; vertical-align: middle;'></progress>\n",
              "      [532/532 00:38, Epoch 1/1]\n",
              "    </div>\n",
              "    <table border=\"1\" class=\"dataframe\">\n",
              "  <thead>\n",
              " <tr style=\"text-align: left;\">\n",
              "      <th>Step</th>\n",
              "      <th>Training Loss</th>\n",
              "    </tr>\n",
              "  </thead>\n",
              "  <tbody>\n",
              "    <tr>\n",
              "      <td>500</td>\n",
              "      <td>1.924100</td>\n",
              "    </tr>\n",
              "  </tbody>\n",
              "</table><p>"
            ]
          },
          "metadata": {}
        },
        {
          "output_type": "stream",
          "name": "stderr",
          "text": [
            "/usr/local/lib/python3.12/dist-packages/jupyter_client/session.py:203: DeprecationWarning: datetime.datetime.utcnow() is deprecated and scheduled for removal in a future version. Use timezone-aware objects to represent datetimes in UTC: datetime.datetime.now(datetime.UTC).\n",
            "  return datetime.utcnow().replace(tzinfo=utc)\n",
            "/usr/local/lib/python3.12/dist-packages/google/protobuf/internal/well_known_types.py:178: DeprecationWarning: datetime.datetime.utcnow() is deprecated and scheduled for removal in a future version. Use timezone-aware objects to represent datetimes in UTC: datetime.datetime.now(datetime.UTC).\n",
            "  self.FromDatetime(datetime.datetime.utcnow())\n"
          ]
        }
      ],
      "source": [
        "# 훈련 시간이 오래 걸림(T4 20분 이상)\n",
        "# 사전 훈련된 토크나이저를 저장합니다.\n",
        "tokenizer.save_pretrained(\"mlm\")\n",
        "\n",
        "# 모델을 훈련합니다.\n",
        "trainer.train()\n",
        "\n",
        "# 업데이트된 모델을 저장합니다.\n",
        "model.save_pretrained(\"mlm\")"
      ]
    },
    {
      "cell_type": "markdown",
      "source": [
        "- **Mask 예측 결과 확인: (원본 모델)**"
      ],
      "metadata": {
        "id": "2pEjuKdbP9W4"
      }
    },
    {
      "cell_type": "code",
      "execution_count": null,
      "metadata": {
        "id": "HfxN1p8TOg2v",
        "colab": {
          "base_uri": "https://localhost:8080/"
        },
        "outputId": "12634944-9726-4a01-f3ef-a73eee22feff"
      },
      "outputs": [
        {
          "output_type": "stream",
          "name": "stderr",
          "text": [
            "Some weights of the model checkpoint at klue/bert-base were not used when initializing BertForMaskedLM: ['bert.pooler.dense.bias', 'bert.pooler.dense.weight', 'cls.seq_relationship.bias', 'cls.seq_relationship.weight']\n",
            "- This IS expected if you are initializing BertForMaskedLM from the checkpoint of a model trained on another task or with another architecture (e.g. initializing a BertForSequenceClassification model from a BertForPreTraining model).\n",
            "- This IS NOT expected if you are initializing BertForMaskedLM from the checkpoint of a model that you expect to be exactly identical (initializing a BertForSequenceClassification model from a BertForSequenceClassification model).\n",
            "Device set to use cuda:0\n"
          ]
        },
        {
          "output_type": "stream",
          "name": "stdout",
          "text": [
            ">>> 스토리가 너무 라서 시간 가는 줄 몰랐다.\n",
            ">>> 스토리가 있 라서 시간 가는 줄 몰랐다.\n",
            ">>> 스토리가 워낙 라서 시간 가는 줄 몰랐다.\n",
            ">>> 스토리가 별로 라서 시간 가는 줄 몰랐다.\n",
            ">>> 스토리가 라서 시간 가는 줄 몰랐다.\n"
          ]
        }
      ],
      "source": [
        "from transformers import pipeline\n",
        "\n",
        "# 모델을 로드하고 예측을 만듭니다.\n",
        "mask_filler = pipeline(\"fill-mask\", model=\"klue/bert-base\")\n",
        "preds = mask_filler(\"스토리가 [MASK]라서 시간 가는 줄 몰랐다.\")\n",
        "\n",
        "# 결과를 출력합니다.\n",
        "for pred in preds:\n",
        "    print(f\">>> {pred['sequence']}\")"
      ]
    },
    {
      "cell_type": "markdown",
      "source": [
        "- **Mask 예측 결과 확인: (업데이트된 모델)**\n",
        "\n",
        "- 영화리뷰 학습을 통해 도메인 특화 어휘와 평가 표현이 크게 개선\n",
        "- 문맥적 논리성과 문법적 완성도는 추가 개선이 필요"
      ],
      "metadata": {
        "id": "NAlFhW8hQEpL"
      }
    },
    {
      "cell_type": "code",
      "source": [],
      "metadata": {
        "id": "5DoWbmlGC0H5"
      },
      "execution_count": null,
      "outputs": []
    },
    {
      "cell_type": "code",
      "execution_count": null,
      "metadata": {
        "id": "ogk1hJ4zOlAU",
        "colab": {
          "base_uri": "https://localhost:8080/"
        },
        "outputId": "2ba8eb62-f6ec-4d3c-e7de-5c31f591ec43"
      },
      "outputs": [
        {
          "output_type": "stream",
          "name": "stderr",
          "text": [
            "Device set to use cuda:0\n"
          ]
        },
        {
          "output_type": "stream",
          "name": "stdout",
          "text": [
            ">>> 스토리가 별로 라서 시간 가는 줄 몰랐다.\n",
            ">>> 스토리가 너무 라서 시간 가는 줄 몰랐다.\n",
            ">>> 스토리가 재미 라서 시간 가는 줄 몰랐다.\n",
            ">>> 스토리가 최고 라서 시간 가는 줄 몰랐다.\n",
            ">>> 스토리가 뛰어나 라서 시간 가는 줄 몰랐다.\n",
            ">>> 스토리가 뭐 라서 시간 가는 줄 몰랐다.\n",
            ">>> 스토리가 짜 라서 시간 가는 줄 몰랐다.\n",
            ">>> 스토리가 좋 라서 시간 가는 줄 몰랐다.\n",
            ">>> 스토리가 진짜 라서 시간 가는 줄 몰랐다.\n",
            ">>> 스토리가 남달 라서 시간 가는 줄 몰랐다.\n"
          ]
        }
      ],
      "source": [
        "# 모델을 로드하고 예측을 만듭니다.\n",
        "# 마스크 예측 결과 개수 지정 방법\n",
        "mask_filler = pipeline(\"fill-mask\", model=\"mlm\", top_k=10)\n",
        "preds = mask_filler(\"스토리가 [MASK]라서 시간 가는 줄 몰랐다.\")\n",
        "\n",
        "# 결과를 출력합니다.\n",
        "for pred in preds:\n",
        "    print(f\">>> {pred['sequence']}\")"
      ]
    },
    {
      "cell_type": "markdown",
      "source": [
        "- 기대했던 것\n",
        "\n",
        "  \"스토리가 [재미있어서] 시간 가는 줄 몰랐다\"\n",
        "\n",
        "- 실제 결과  \n",
        "\n",
        "  \"스토리가 [재미] 라서 시간 가는 줄 몰랐다\"\n",
        "\n",
        "- 원인: \"재미있어서\"가 다음과 같이 토큰화됨\n",
        "\n",
        "  - 토큰들 = [\"재미\", \"있어서\"] 또는 [\"재미\", \"##있\", \"##어서\"]\n",
        "  - 모델은 첫 번째 토큰 \"재미\"만 예측"
      ],
      "metadata": {
        "id": "QCaENm4PDM17"
      }
    },
    {
      "cell_type": "code",
      "source": [
        "preds[:5]"
      ],
      "metadata": {
        "id": "hE2cRuWnSp9Z",
        "colab": {
          "base_uri": "https://localhost:8080/"
        },
        "outputId": "275ff5db-5f9a-4f2e-f517-593ddb5a6130"
      },
      "execution_count": null,
      "outputs": [
        {
          "output_type": "execute_result",
          "data": {
            "text/plain": [
              "[{'score': 0.3985593616962433,\n",
              "  'token': 5429,\n",
              "  'token_str': '별로',\n",
              "  'sequence': '스토리가 별로 라서 시간 가는 줄 몰랐다.'},\n",
              " {'score': 0.11836191266775131,\n",
              "  'token': 3760,\n",
              "  'token_str': '너무',\n",
              "  'sequence': '스토리가 너무 라서 시간 가는 줄 몰랐다.'},\n",
              " {'score': 0.028566410765051842,\n",
              "  'token': 4697,\n",
              "  'token_str': '재미',\n",
              "  'sequence': '스토리가 재미 라서 시간 가는 줄 몰랐다.'},\n",
              " {'score': 0.02480860985815525,\n",
              "  'token': 3841,\n",
              "  'token_str': '최고',\n",
              "  'sequence': '스토리가 최고 라서 시간 가는 줄 몰랐다.'},\n",
              " {'score': 0.01693551614880562,\n",
              "  'token': 7999,\n",
              "  'token_str': '뛰어나',\n",
              "  'sequence': '스토리가 뛰어나 라서 시간 가는 줄 몰랐다.'}]"
            ]
          },
          "metadata": {},
          "execution_count": 80
        }
      ]
    },
    {
      "cell_type": "code",
      "source": [
        "len(preds)"
      ],
      "metadata": {
        "id": "2JousAx3S6Ay",
        "colab": {
          "base_uri": "https://localhost:8080/"
        },
        "outputId": "4d8be3c3-7c8d-4e0a-df18-c5e8f0252098"
      },
      "execution_count": null,
      "outputs": [
        {
          "output_type": "execute_result",
          "data": {
            "text/plain": [
              "10"
            ]
          },
          "metadata": {},
          "execution_count": 81
        }
      ]
    },
    {
      "cell_type": "markdown",
      "source": [
        "\n",
        "\n",
        "---\n",
        "\n"
      ],
      "metadata": {
        "id": "T-xAqdV0SrJM"
      }
    },
    {
      "cell_type": "markdown",
      "metadata": {
        "id": "1sDqoG2NyeJO"
      },
      "source": [
        "## **개체명 인식**\n",
        "\n",
        "- **개체명 인식** (**NER** named-entity recognition)\n",
        "- 전체 문서를 분류하는 것이 아니라 **사람이나 위치 등이 포함된 개별 토큰이나 단어를 분류**함\n",
        "- 민감한 데이터가 있을 때 익명화하는 작업에 특별히 도움됨\n",
        "- 개별 단어를 분류하는 데 초점을 맞추려면 세분화된 구조를 고려하도록 데이터를 전처리해야 한다.\n",
        "- 분류 방식:\n",
        "    - **모델이 시퀀스에 있는 개별 토큰에 대해 예측**을 만든다\n",
        "\n"
      ]
    },
    {
      "cell_type": "code",
      "execution_count": null,
      "metadata": {
        "id": "KGDvXU-ZzJ3J"
      },
      "outputs": [],
      "source": [
        "from transformers import AutoModelForTokenClassification, AutoTokenizer\n",
        "from transformers import DataCollatorWithPadding\n",
        "from transformers import TrainingArguments, Trainer\n",
        "import numpy as np"
      ]
    },
    {
      "cell_type": "code",
      "execution_count": null,
      "metadata": {
        "id": "YOQlMioIGY33",
        "colab": {
          "base_uri": "https://localhost:8080/",
          "height": 233,
          "referenced_widgets": [
            "d9acf2b4805c41ac88059d30f53749c9",
            "da345311359b4a7b9d0cfdab69f3ed69",
            "d8ee694608f64a3788bcf78e79953346",
            "3707924d03094a70a19cc81f03f64e24",
            "ef387d6f199a4f8ca9823e07cea50702",
            "51faf2feab584c77964ac369125ed0a4",
            "566055934a874ba3b6c8d9dc420977bd",
            "a2ed090f3dfe48dd839f2760b1b62265",
            "1ad02fd4a5564fc78992b5a43b8a5f43",
            "93288ee98b2c42bd8fe3f8f2d7f591f4",
            "6096042b55a44dcba42e467420fbdd99",
            "8617dcd3d2bf4658992e43ccc20d271e",
            "77388a9378cf4db2bca356ac25f456fd",
            "2b9a7f2146604e63b9aa8f62f6bd010e",
            "e71afdb42c034717a34430614da44f7a",
            "553b7ad5a4e943c2a88d87d5d30dc470",
            "8d41b112fc924d3592f763a1cf04c8ba",
            "ab7fe57715654236b92b9ee5c1c0f304",
            "07be7116c407426a958132eaa210a0b1",
            "d9ac159c8e3444dba1fd78c7287d434a",
            "6a1dfaaf8ae242b0bb36bc9e178d03a1",
            "270d609c75514abca4c9bebb5838b221",
            "f23811b1d1e44575908fd295e74acb21",
            "4e383d2ac7fa4ac5b7b65b77047c53af",
            "576040e561a348b89ba4224b31a8a751",
            "4366cc588d5b465888f80285899a8d13",
            "51c7b660aedf48e8a30f13c584a8c1a5",
            "d12c0423cedf44a1b89fdeedf1338acc",
            "33d1d62d0d2f441c8dc963ac7eee6ee1",
            "7052f92f460a4497995ade02448f545f",
            "eff84a27f80b45089f8b566ade1347e0",
            "8a2a2b61caf240158a7ae9645a041565",
            "719829a323274196a5e500e3d09d6cfc",
            "52df221b613041eabaca0183d1697dec",
            "9d62cb35768e41eaa185430ca7b583f4",
            "a644501e60de49c5be38dc907a4a758d",
            "cf9e98e0eea54ea9a7f81e88d96dbafa",
            "1def251cdceb4ec48e397ef2c384b208",
            "419b3c7886af41c0891728e3f5cff51d",
            "2013deebe78b4463821460a70f0622c4",
            "8b0c2621ff5643eba71d61dd1ab75bb7",
            "87784626f2d94b04ba611e66fd1a4774",
            "2dc73319d7db480e8999f3a96d20e0f5",
            "ea9f3f0a4aa947e6b88599ae0867caaa",
            "e9a36a7cae3f4370abd7ae7234507e21",
            "3b8aa118834c4f059a7285d3c7478c4d",
            "da0464086f6c4a5aa2f5d6ec529d62cb",
            "8b300e3c2044402bb723ad55b5d2be05",
            "a6278e9255384e42bb49e9f37ba53a30",
            "3726fa73a52a4e3688d06b7504a8cfeb",
            "45f9b22fb0d54d1dbc644bf8adfaf13a",
            "194cfe9befd04daaa8a9457388a51b2c",
            "8d1244607fe14d7aa56e06fdf869034c",
            "cf1c4c578c7941aa90f0d9dbe2750aab",
            "c189b60d4c994421872e9d3b1c33fa28"
          ]
        },
        "outputId": "0763f9e2-2cd0-428d-8e81-8c1889b3c9b4"
      },
      "outputs": [
        {
          "output_type": "display_data",
          "data": {
            "text/plain": [
              "README.md: 0.00B [00:00, ?B/s]"
            ],
            "application/vnd.jupyter.widget-view+json": {
              "version_major": 2,
              "version_minor": 0,
              "model_id": "d9acf2b4805c41ac88059d30f53749c9"
            }
          },
          "metadata": {}
        },
        {
          "output_type": "display_data",
          "data": {
            "text/plain": [
              "ner/train-00000-of-00001.parquet:   0%|          | 0.00/4.21M [00:00<?, ?B/s]"
            ],
            "application/vnd.jupyter.widget-view+json": {
              "version_major": 2,
              "version_minor": 0,
              "model_id": "8617dcd3d2bf4658992e43ccc20d271e"
            }
          },
          "metadata": {}
        },
        {
          "output_type": "display_data",
          "data": {
            "text/plain": [
              "ner/validation-00000-of-00001.parquet:   0%|          | 0.00/1.06M [00:00<?, ?B/s]"
            ],
            "application/vnd.jupyter.widget-view+json": {
              "version_major": 2,
              "version_minor": 0,
              "model_id": "f23811b1d1e44575908fd295e74acb21"
            }
          },
          "metadata": {}
        },
        {
          "output_type": "display_data",
          "data": {
            "text/plain": [
              "Generating train split:   0%|          | 0/21008 [00:00<?, ? examples/s]"
            ],
            "application/vnd.jupyter.widget-view+json": {
              "version_major": 2,
              "version_minor": 0,
              "model_id": "52df221b613041eabaca0183d1697dec"
            }
          },
          "metadata": {}
        },
        {
          "output_type": "display_data",
          "data": {
            "text/plain": [
              "Generating validation split:   0%|          | 0/5000 [00:00<?, ? examples/s]"
            ],
            "application/vnd.jupyter.widget-view+json": {
              "version_major": 2,
              "version_minor": 0,
              "model_id": "e9a36a7cae3f4370abd7ae7234507e21"
            }
          },
          "metadata": {}
        }
      ],
      "source": [
        "\n",
        "dataset = load_dataset(\"klue\", \"ner\")"
      ]
    },
    {
      "cell_type": "code",
      "source": [
        "dataset"
      ],
      "metadata": {
        "id": "S-97JmZlWNse",
        "colab": {
          "base_uri": "https://localhost:8080/"
        },
        "outputId": "9906fba3-134f-4963-d482-6d05ff1102c5"
      },
      "execution_count": null,
      "outputs": [
        {
          "output_type": "execute_result",
          "data": {
            "text/plain": [
              "DatasetDict({\n",
              "    train: Dataset({\n",
              "        features: ['sentence', 'tokens', 'ner_tags'],\n",
              "        num_rows: 21008\n",
              "    })\n",
              "    validation: Dataset({\n",
              "        features: ['sentence', 'tokens', 'ner_tags'],\n",
              "        num_rows: 5000\n",
              "    })\n",
              "})"
            ]
          },
          "metadata": {},
          "execution_count": 84
        }
      ]
    },
    {
      "cell_type": "code",
      "execution_count": null,
      "metadata": {
        "id": "hOc5J7YgIPl8",
        "colab": {
          "base_uri": "https://localhost:8080/"
        },
        "outputId": "1405c2fb-3add-42bc-f9ca-664ac863ae82"
      },
      "outputs": [
        {
          "output_type": "execute_result",
          "data": {
            "text/plain": [
              "{'sentence': '마지막 영화 <1분:TI>이 이영화에 대한 나의 인식을 바꿨다.',\n",
              " 'tokens': ['마',\n",
              "  '지',\n",
              "  '막',\n",
              "  ' ',\n",
              "  '영',\n",
              "  '화',\n",
              "  ' ',\n",
              "  '1',\n",
              "  '분',\n",
              "  '이',\n",
              "  ' ',\n",
              "  '이',\n",
              "  '영',\n",
              "  '화',\n",
              "  '에',\n",
              "  ' ',\n",
              "  '대',\n",
              "  '한',\n",
              "  ' ',\n",
              "  '나',\n",
              "  '의',\n",
              "  ' ',\n",
              "  '인',\n",
              "  '식',\n",
              "  '을',\n",
              "  ' ',\n",
              "  '바',\n",
              "  '꿨',\n",
              "  '다',\n",
              "  '.'],\n",
              " 'ner_tags': [12,\n",
              "  12,\n",
              "  12,\n",
              "  12,\n",
              "  12,\n",
              "  12,\n",
              "  12,\n",
              "  10,\n",
              "  11,\n",
              "  12,\n",
              "  12,\n",
              "  12,\n",
              "  12,\n",
              "  12,\n",
              "  12,\n",
              "  12,\n",
              "  12,\n",
              "  12,\n",
              "  12,\n",
              "  12,\n",
              "  12,\n",
              "  12,\n",
              "  12,\n",
              "  12,\n",
              "  12,\n",
              "  12,\n",
              "  12,\n",
              "  12,\n",
              "  12,\n",
              "  12]}"
            ]
          },
          "metadata": {},
          "execution_count": 85
        }
      ],
      "source": [
        "example = dataset[\"train\"][848]\n",
        "example"
      ]
    },
    {
      "cell_type": "markdown",
      "source": [
        "- **ner_tags** : 개체명 태그\n",
        "    - 사람(PER),조직(ORG), 위치(LOC), 기타매체(MISC), 개체아님(O)\n",
        "    - 개체마다 B(시작),I(중간)"
      ],
      "metadata": {
        "id": "HDW_GZI3WuFe"
      }
    },
    {
      "cell_type": "code",
      "execution_count": null,
      "metadata": {
        "id": "hEPNSdADeAWD"
      },
      "outputs": [],
      "source": [
        "label_list = dataset[\"train\"].features[\"ner_tags\"].feature.names\n",
        "label2id = {l:i for i,l in enumerate(label_list)}\n",
        "id2label = {i:l for l,i in label2id.items()}"
      ]
    },
    {
      "cell_type": "code",
      "execution_count": null,
      "metadata": {
        "id": "OtRCaz15AyjC",
        "colab": {
          "base_uri": "https://localhost:8080/"
        },
        "outputId": "a6297b67-3540-454e-e3b0-cb255154f95b"
      },
      "outputs": [
        {
          "output_type": "stream",
          "name": "stderr",
          "text": [
            "Some weights of BertForTokenClassification were not initialized from the model checkpoint at klue/bert-base and are newly initialized: ['classifier.bias', 'classifier.weight']\n",
            "You should probably TRAIN this model on a down-stream task to be able to use it for predictions and inference.\n"
          ]
        }
      ],
      "source": [
        "from transformers import AutoModelForTokenClassification\n",
        "\n",
        "# 토크나이저를 로드합니다.\n",
        "tokenizer = AutoTokenizer.from_pretrained(\"klue/bert-base\")\n",
        "model_id = \"klue/bert-base\"\n",
        "# 모델을 로드합니다.\n",
        "model = AutoModelForTokenClassification.from_pretrained(\n",
        "    model_id,\n",
        "    num_labels=len(id2label),\n",
        "    id2label=id2label,\n",
        "    label2id=label2id\n",
        ")"
      ]
    },
    {
      "cell_type": "markdown",
      "source": [
        "토크나이저가 샘플을 처리하는 방법 확인"
      ],
      "metadata": {
        "id": "o-7q2RPWZR_X"
      }
    },
    {
      "cell_type": "code",
      "source": [
        "example[\"tokens\"]"
      ],
      "metadata": {
        "id": "8izl7YMfZwZt",
        "colab": {
          "base_uri": "https://localhost:8080/"
        },
        "outputId": "6f7d7445-664f-41cc-8eef-9e7edf970341"
      },
      "execution_count": null,
      "outputs": [
        {
          "output_type": "execute_result",
          "data": {
            "text/plain": [
              "['마',\n",
              " '지',\n",
              " '막',\n",
              " ' ',\n",
              " '영',\n",
              " '화',\n",
              " ' ',\n",
              " '1',\n",
              " '분',\n",
              " '이',\n",
              " ' ',\n",
              " '이',\n",
              " '영',\n",
              " '화',\n",
              " '에',\n",
              " ' ',\n",
              " '대',\n",
              " '한',\n",
              " ' ',\n",
              " '나',\n",
              " '의',\n",
              " ' ',\n",
              " '인',\n",
              " '식',\n",
              " '을',\n",
              " ' ',\n",
              " '바',\n",
              " '꿨',\n",
              " '다',\n",
              " '.']"
            ]
          },
          "metadata": {},
          "execution_count": 90
        }
      ]
    },
    {
      "cell_type": "code",
      "execution_count": null,
      "metadata": {
        "id": "QOrlt03kIt_f",
        "colab": {
          "base_uri": "https://localhost:8080/"
        },
        "outputId": "edae03ce-2195-4ec0-d5ba-adafea8809ee"
      },
      "outputs": [
        {
          "output_type": "execute_result",
          "data": {
            "text/plain": [
              "['[CLS]',\n",
              " '마',\n",
              " '지',\n",
              " '막',\n",
              " '영',\n",
              " '화',\n",
              " '1',\n",
              " '분',\n",
              " '이',\n",
              " '이',\n",
              " '영',\n",
              " '화',\n",
              " '에',\n",
              " '대',\n",
              " '한',\n",
              " '나',\n",
              " '의',\n",
              " '인',\n",
              " '식',\n",
              " '을',\n",
              " '바',\n",
              " '꿨',\n",
              " '다',\n",
              " '.',\n",
              " '[SEP]']"
            ]
          },
          "metadata": {},
          "execution_count": 91
        }
      ],
      "source": [
        "# 개별 토큰을 부분 토큰으로 나눕니다.\n",
        "token_ids = tokenizer(example[\"tokens\"], is_split_into_words=True)[\"input_ids\"]\n",
        "sub_tokens = tokenizer.convert_ids_to_tokens(token_ids)\n",
        "sub_tokens\n",
        "\n",
        "# is_split_into_words=True: 토크나이저가 단어 리스트로 처리하도록 지시 (NER 라벨 정렬에 유리)\n",
        "# [\"input_ids\"]: 토큰화된 결과 중 정수 ID 시퀀스만 꺼냄"
      ]
    },
    {
      "cell_type": "markdown",
      "source": [
        "- align_labels\n",
        "    - 입력을 토큰으로 나누고, 토큰을 업데이트된 레이블로 정렬하는 함수"
      ],
      "metadata": {
        "id": "BXkFFVN6a-T2"
      }
    },
    {
      "cell_type": "code",
      "execution_count": null,
      "metadata": {
        "id": "7s5A3mzj6TXf"
      },
      "outputs": [],
      "source": [
        "def align_labels(examples):\n",
        "    # 1. 토큰들을 문장으로 재구성\n",
        "    reconstructed_texts = []\n",
        "    for tokens in examples[\"tokens\"]:\n",
        "        text = ''.join(tokens)\n",
        "        reconstructed_texts.append(text)\n",
        "\n",
        "    # 2. 재구성된 문장으로 토큰화\n",
        "    tokenized_inputs = tokenizer(\n",
        "        reconstructed_texts,\n",
        "        truncation=True,\n",
        "        padding=False,\n",
        "        return_offsets_mapping=True  # 문자 위치 정보 포함\n",
        "    )\n",
        "\n",
        "    # 3. 라벨 정렬\n",
        "    aligned_labels = []\n",
        "\n",
        "    for batch_idx, (original_tokens, original_labels, offsets) in enumerate(\n",
        "        zip(examples[\"tokens\"], examples[\"ner_tags\"], tokenized_inputs[\"offset_mapping\"])\n",
        "    ):\n",
        "\n",
        "        # 원본 토큰의 문자 위치 계산\n",
        "        char_to_original_token = {}\n",
        "        char_pos = 0\n",
        "\n",
        "        for token_idx, token in enumerate(original_tokens):\n",
        "            for _ in range(len(token)):\n",
        "                char_to_original_token[char_pos] = token_idx\n",
        "                char_pos += 1\n",
        "\n",
        "        # 서브토큰별 라벨 할당\n",
        "        labels = []\n",
        "        for start, end in offsets:\n",
        "            if start == end == 0:  # [CLS], [SEP] 등 특수 토큰\n",
        "                labels.append(-100)\n",
        "            else:\n",
        "                # 해당 위치의 원본 토큰 인덱스 찾기\n",
        "                if start < len(char_to_original_token):\n",
        "                    original_token_idx = char_to_original_token[start]\n",
        "                    labels.append(original_labels[original_token_idx])\n",
        "                else:\n",
        "                    labels.append(-100)\n",
        "\n",
        "        aligned_labels.append(labels)\n",
        "\n",
        "    # offset_mapping 제거 (학습에 불필요)\n",
        "    tokenized_inputs.pop(\"offset_mapping\")\n",
        "    tokenized_inputs[\"labels\"] = aligned_labels\n",
        "\n",
        "    return tokenized_inputs"
      ]
    },
    {
      "cell_type": "code",
      "execution_count": null,
      "metadata": {
        "id": "gIWOMzE-AhTu",
        "colab": {
          "base_uri": "https://localhost:8080/",
          "height": 515,
          "referenced_widgets": [
            "ce729c330fc349bb95c91bd084fccb4e",
            "cf1c1a8732af4e79b2d04f283448e8af",
            "eac6571b3b824e95800498915e15a104",
            "7e0ccd2e41b24e9e9807e1cf16359dae",
            "316675656ccd40149f2c534bf5f7eb35",
            "c7e0624e03434b3aa4cab239fdfeafba",
            "900cdde144434a60ade6da00d573700c",
            "b856917c566d4e588e608b15e7a4bc26",
            "3ec4e98dc5cb477d92982c2d5a3a445a",
            "1d519526caa94902b32ea9243e002369",
            "2d067a57b8e34bcc9bc7771fba461304",
            "95c540e88e464b5b80321af153ddfa56",
            "4fde31f3d2cd4b5898dcf13e2c4cf7f3",
            "865a7dbe50b649e5b27f25d964405e1e",
            "220690790c9d4034b360122547c18659",
            "49c4e32702524ef38bde05597f7b1426",
            "9d2db83aca5141038e805ec7056d8f77",
            "fd9919c750d240dc9c52623ae4bc0b52",
            "f9c631bd8aa648a78a8cf210845aa835",
            "02a63988af9e453db522eb88cdead3a9",
            "a8f3c5e6cb4c48d3bcd1fb677ee6ce98",
            "5c46db37c9944fd0b492c3ac35006fea"
          ]
        },
        "outputId": "69124cc4-b551-4633-ae55-a03b9a561527"
      },
      "outputs": [
        {
          "output_type": "stream",
          "name": "stdout",
          "text": [
            "데이터셋 재전처리 중...\n"
          ]
        },
        {
          "output_type": "display_data",
          "data": {
            "text/plain": [
              "Map:   0%|          | 0/21008 [00:00<?, ? examples/s]"
            ],
            "application/vnd.jupyter.widget-view+json": {
              "version_major": 2,
              "version_minor": 0,
              "model_id": "ce729c330fc349bb95c91bd084fccb4e"
            }
          },
          "metadata": {}
        },
        {
          "output_type": "display_data",
          "data": {
            "text/plain": [
              "Map:   0%|          | 0/5000 [00:00<?, ? examples/s]"
            ],
            "application/vnd.jupyter.widget-view+json": {
              "version_major": 2,
              "version_minor": 0,
              "model_id": "95c540e88e464b5b80321af153ddfa56"
            }
          },
          "metadata": {}
        },
        {
          "output_type": "stream",
          "name": "stdout",
          "text": [
            "\n",
            "=== 샘플 848 재전처리 결과 ===\n",
            "원본 문장: 마지막 영화 <1분:TI>이 이영화에 대한 나의 인식을 바꿨다.\n",
            "재구성된 문장: 마지막 영화 1분이 이영화에 대한 나의 인식을 바꿨다.\n",
            "\n",
            "토큰 vs 라벨:\n",
            "  [CLS]           -> IGNORE\n",
            "  마지막             -> O\n",
            "  영화              -> O\n",
            "  1               -> B-TI\n",
            "  ##분             -> I-TI\n",
            "  ##이             -> O\n",
            "  이영              -> O\n",
            "  ##화             -> O\n",
            "  ##에             -> O\n",
            "  대한              -> O\n",
            "  나               -> O\n",
            "  ##의             -> O\n",
            "  인식              -> O\n",
            "  ##을             -> O\n",
            "  바꿨              -> O\n",
            "  ##다             -> O\n",
            "  .               -> O\n",
            "  [SEP]           -> IGNORE\n"
          ]
        }
      ],
      "source": [
        "print(\"데이터셋 재전처리 중...\")\n",
        "tokenized_dataset = dataset.map(align_labels, batched=True)\n",
        "\n",
        "# 결과 확인\n",
        "sample_idx = 848\n",
        "print(f\"\\n=== 샘플 {sample_idx} 재전처리 결과 ===\")\n",
        "original_sample = dataset[\"train\"][sample_idx]\n",
        "processed_sample = tokenized_dataset[\"train\"][sample_idx]\n",
        "\n",
        "print(f\"원본 문장: {original_sample['sentence']}\")\n",
        "print(f\"재구성된 문장: {''.join(original_sample['tokens'])}\")\n",
        "\n",
        "# 토큰화 결과 확인\n",
        "tokens = tokenizer.convert_ids_to_tokens(processed_sample['input_ids'])\n",
        "labels = processed_sample['labels']\n",
        "\n",
        "print(f\"\\n토큰 vs 라벨:\")\n",
        "for token, label in zip(tokens, labels):\n",
        "    label_name = id2label[label] if label != -100 else \"IGNORE\"\n",
        "    print(f\"  {token:15} -> {label_name}\")"
      ]
    },
    {
      "cell_type": "code",
      "source": [
        "!pip install seqeval"
      ],
      "metadata": {
        "colab": {
          "base_uri": "https://localhost:8080/"
        },
        "id": "uE1XbzOM2QWn",
        "outputId": "58857c0c-60f5-4c78-caad-42d65a6a9fa1"
      },
      "execution_count": null,
      "outputs": [
        {
          "output_type": "stream",
          "name": "stdout",
          "text": [
            "Requirement already satisfied: seqeval in /usr/local/lib/python3.12/dist-packages (1.2.2)\n",
            "Requirement already satisfied: numpy>=1.14.0 in /usr/local/lib/python3.12/dist-packages (from seqeval) (2.0.2)\n",
            "Requirement already satisfied: scikit-learn>=0.21.3 in /usr/local/lib/python3.12/dist-packages (from seqeval) (1.6.1)\n",
            "Requirement already satisfied: scipy>=1.6.0 in /usr/local/lib/python3.12/dist-packages (from scikit-learn>=0.21.3->seqeval) (1.16.2)\n",
            "Requirement already satisfied: joblib>=1.2.0 in /usr/local/lib/python3.12/dist-packages (from scikit-learn>=0.21.3->seqeval) (1.5.2)\n",
            "Requirement already satisfied: threadpoolctl>=3.1.0 in /usr/local/lib/python3.12/dist-packages (from scikit-learn>=0.21.3->seqeval) (3.6.0)\n"
          ]
        }
      ]
    },
    {
      "cell_type": "code",
      "execution_count": null,
      "metadata": {
        "id": "bA9nE7E6g97p"
      },
      "outputs": [],
      "source": [
        "import evaluate\n",
        "\n",
        "# seqeval을 로드합니다.\n",
        "seqeval = evaluate.load(\"seqeval\")\n",
        "\n",
        "# 평가 함수\n",
        "def compute_metrics(eval_pred):\n",
        "    logits, labels = eval_pred\n",
        "    predictions = np.argmax(logits, axis=2)\n",
        "\n",
        "    true_predictions = []\n",
        "    true_labels = []\n",
        "\n",
        "    for prediction, label in zip(predictions, labels):\n",
        "        for token_prediction, token_label in zip(prediction, label):\n",
        "            if token_label != -100:\n",
        "                true_predictions.append([id2label[token_prediction]])\n",
        "                true_labels.append([id2label[token_label]])\n",
        "\n",
        "    results = seqeval.compute(predictions=true_predictions, references=true_labels)\n",
        "    return {\"f1\": results[\"overall_f1\"]}"
      ]
    },
    {
      "cell_type": "code",
      "execution_count": null,
      "metadata": {
        "id": "m0S4ZajdCaJl"
      },
      "outputs": [],
      "source": [
        "from transformers import DataCollatorForTokenClassification\n",
        "\n",
        "# 토큰 분류 DataCollator\n",
        "data_collator = DataCollatorForTokenClassification(tokenizer=tokenizer)"
      ]
    },
    {
      "cell_type": "code",
      "execution_count": null,
      "metadata": {
        "id": "S76kRYZtBr5c",
        "colab": {
          "base_uri": "https://localhost:8080/",
          "height": 418
        },
        "outputId": "e4d9f0af-87a4-4718-d5af-308e74ec68c9"
      },
      "outputs": [
        {
          "output_type": "display_data",
          "data": {
            "text/plain": [
              "<IPython.core.display.HTML object>"
            ],
            "text/html": [
              "\n",
              "    <div>\n",
              "      \n",
              "      <progress value='2626' max='2626' style='width:300px; height:20px; vertical-align: middle;'></progress>\n",
              "      [2626/2626 02:31, Epoch 2/2]\n",
              "    </div>\n",
              "    <table border=\"1\" class=\"dataframe\">\n",
              "  <thead>\n",
              " <tr style=\"text-align: left;\">\n",
              "      <th>Epoch</th>\n",
              "      <th>Training Loss</th>\n",
              "      <th>Validation Loss</th>\n",
              "      <th>F1</th>\n",
              "    </tr>\n",
              "  </thead>\n",
              "  <tbody>\n",
              "    <tr>\n",
              "      <td>1</td>\n",
              "      <td>0.065100</td>\n",
              "      <td>0.069436</td>\n",
              "      <td>0.942620</td>\n",
              "    </tr>\n",
              "    <tr>\n",
              "      <td>2</td>\n",
              "      <td>0.038200</td>\n",
              "      <td>0.072277</td>\n",
              "      <td>0.944241</td>\n",
              "    </tr>\n",
              "  </tbody>\n",
              "</table><p>"
            ]
          },
          "metadata": {}
        },
        {
          "output_type": "stream",
          "name": "stderr",
          "text": [
            "/usr/local/lib/python3.12/dist-packages/jupyter_client/session.py:203: DeprecationWarning: datetime.datetime.utcnow() is deprecated and scheduled for removal in a future version. Use timezone-aware objects to represent datetimes in UTC: datetime.datetime.now(datetime.UTC).\n",
            "  return datetime.utcnow().replace(tzinfo=utc)\n",
            "/usr/local/lib/python3.12/dist-packages/google/protobuf/internal/well_known_types.py:178: DeprecationWarning: datetime.datetime.utcnow() is deprecated and scheduled for removal in a future version. Use timezone-aware objects to represent datetimes in UTC: datetime.datetime.now(datetime.UTC).\n",
            "  self.FromDatetime(datetime.datetime.utcnow())\n",
            "/usr/local/lib/python3.12/dist-packages/jupyter_client/session.py:203: DeprecationWarning: datetime.datetime.utcnow() is deprecated and scheduled for removal in a future version. Use timezone-aware objects to represent datetimes in UTC: datetime.datetime.now(datetime.UTC).\n",
            "  return datetime.utcnow().replace(tzinfo=utc)\n",
            "/usr/local/lib/python3.12/dist-packages/google/protobuf/internal/well_known_types.py:178: DeprecationWarning: datetime.datetime.utcnow() is deprecated and scheduled for removal in a future version. Use timezone-aware objects to represent datetimes in UTC: datetime.datetime.now(datetime.UTC).\n",
            "  self.FromDatetime(datetime.datetime.utcnow())\n",
            "/usr/local/lib/python3.12/dist-packages/jupyter_client/session.py:203: DeprecationWarning: datetime.datetime.utcnow() is deprecated and scheduled for removal in a future version. Use timezone-aware objects to represent datetimes in UTC: datetime.datetime.now(datetime.UTC).\n",
            "  return datetime.utcnow().replace(tzinfo=utc)\n",
            "/usr/local/lib/python3.12/dist-packages/google/protobuf/internal/well_known_types.py:178: DeprecationWarning: datetime.datetime.utcnow() is deprecated and scheduled for removal in a future version. Use timezone-aware objects to represent datetimes in UTC: datetime.datetime.now(datetime.UTC).\n",
            "  self.FromDatetime(datetime.datetime.utcnow())\n"
          ]
        },
        {
          "output_type": "execute_result",
          "data": {
            "text/plain": [
              "TrainOutput(global_step=2626, training_loss=0.056652990262742633, metrics={'train_runtime': 151.6937, 'train_samples_per_second': 276.979, 'train_steps_per_second': 17.311, 'total_flos': 1279297320963360.0, 'train_loss': 0.056652990262742633, 'epoch': 2.0})"
            ]
          },
          "metadata": {},
          "execution_count": 123
        }
      ],
      "source": [
        "# 훈련 설정\n",
        "training_args = TrainingArguments(\n",
        "    \"model_ner_ko\",\n",
        "    learning_rate=2e-5,\n",
        "    per_device_train_batch_size=16,\n",
        "    per_device_eval_batch_size=16,\n",
        "    num_train_epochs=2,  # 에폭 수 증가\n",
        "    weight_decay=0.01,\n",
        "    save_strategy=\"epoch\",\n",
        "    eval_strategy=\"epoch\",\n",
        "    report_to=\"none\",\n",
        "    logging_steps=100\n",
        ")\n",
        "\n",
        "# 트레이너 생성\n",
        "trainer = Trainer(\n",
        "    model=model,\n",
        "    args=training_args,\n",
        "    train_dataset=tokenized_dataset[\"train\"],\n",
        "    eval_dataset=tokenized_dataset[\"validation\"],\n",
        "    processing_class=tokenizer,\n",
        "    data_collator=data_collator,\n",
        "    compute_metrics=compute_metrics,\n",
        ")\n",
        "trainer.train()"
      ]
    },
    {
      "cell_type": "code",
      "execution_count": null,
      "metadata": {
        "id": "ds5osPr9T0pq",
        "colab": {
          "base_uri": "https://localhost:8080/",
          "height": 141
        },
        "outputId": "00a811b3-54cb-4788-da8e-334ea446a8bc"
      },
      "outputs": [
        {
          "output_type": "display_data",
          "data": {
            "text/plain": [
              "<IPython.core.display.HTML object>"
            ],
            "text/html": [
              "\n",
              "    <div>\n",
              "      \n",
              "      <progress value='313' max='313' style='width:300px; height:20px; vertical-align: middle;'></progress>\n",
              "      [313/313 00:05]\n",
              "    </div>\n",
              "    "
            ]
          },
          "metadata": {}
        },
        {
          "output_type": "execute_result",
          "data": {
            "text/plain": [
              "{'eval_loss': 0.0722770169377327,\n",
              " 'eval_f1': 0.9442410802436321,\n",
              " 'eval_runtime': 11.1669,\n",
              " 'eval_samples_per_second': 447.754,\n",
              " 'eval_steps_per_second': 28.029,\n",
              " 'epoch': 2.0}"
            ]
          },
          "metadata": {},
          "execution_count": 124
        }
      ],
      "source": [
        "# 테스트 데이터에서 모델을 평가합니다.\n",
        "trainer.evaluate()"
      ]
    },
    {
      "cell_type": "markdown",
      "source": [
        "- **모델 저장 및 추론 수행**"
      ],
      "metadata": {
        "id": "n-USVae8dtT1"
      }
    },
    {
      "cell_type": "code",
      "execution_count": null,
      "metadata": {
        "id": "Q0PAXyzT-N45",
        "colab": {
          "base_uri": "https://localhost:8080/"
        },
        "outputId": "1a35171b-6353-4641-cdc0-7635a9791ddb"
      },
      "outputs": [
        {
          "output_type": "stream",
          "name": "stderr",
          "text": [
            "Device set to use cuda:0\n"
          ]
        },
        {
          "output_type": "stream",
          "name": "stdout",
          "text": [
            "🏷️ 엔티티 분류 결과:\n",
            "------------------------------\n",
            "DT: 2024년 3월 15일, 조선시대\n",
            "LC: 서울대학교, 부산 해운대 벡스코\n",
            "OG: 삼성전자, 구글코리아\n",
            "PS: 김철수, 이순신, 박지영\n",
            "QT: 500명, 50억원\n",
            "TI: 오후 3시\n"
          ]
        }
      ],
      "source": [
        "from transformers import pipeline\n",
        "from collections import defaultdict\n",
        "\n",
        "# 미세 튜닝된 모델을 저장합니다.\n",
        "trainer.save_model(\"ner_model-ko\")\n",
        "\n",
        "\n",
        "\n",
        "# 미세 튜닝된 모델로 추론을 수행합니다.\n",
        "token_classifier = pipeline(\n",
        "    \"token-classification\",\n",
        "    model=\"ner_model-ko\",\n",
        "    aggregation_strategy=\"simple\"\n",
        ")\n",
        "text = \"\"\"\n",
        "2024년 3월 15일 오후 3시에 삼성전자 임직원 500명이 서울대학교에서 열린\n",
        "'인공지능과 미래사회' 세미나에 참석했다. 이 행사에서 김철수 교수는\n",
        "조선시대 이순신 장군의 리더십을 현대 경영학에 접목한 연구를 발표했으며,\n",
        "구글코리아 박지영 대표는 50억원 규모의 AI 투자 계획을 발표했다.\n",
        "행사장인 부산 해운대 벡스코에서는 삼겹살과 김치를 포함한 한식 뷔페가\n",
        "제공되었고, 참가자들은 갤럭시 스마트폰으로 QR코드를 스캔하여\n",
        "디지털 명함을 교환했다.\n",
        "\"\"\"\n",
        "result = token_classifier(text)\n",
        "# 유형별로 분류\n",
        "entities_by_type = defaultdict(list)\n",
        "for entity in result:\n",
        "    entities_by_type[entity['entity_group']].append(entity['word'])\n",
        "\n",
        "print(\"🏷️ 엔티티 분류 결과:\")\n",
        "print(\"-\" * 30)\n",
        "\n",
        "for entity_type, words in sorted(entities_by_type.items()):\n",
        "    print(f\"{entity_type}: {', '.join(words)}\")"
      ]
    },
    {
      "cell_type": "markdown",
      "source": [
        "klue_entities = {\n",
        "    # 인물 관련\n",
        "    'PS': 'Person - 인명 (박지성, 김철수, 이순신 등)',\n",
        "    \n",
        "    # 장소 관련  \n",
        "    'LC': 'Location - 지명 (서울, 부산, 맨체스터 등)',\n",
        "    \n",
        "    # 기관 관련\n",
        "    'OG': 'Organization - 기관명 (삼성전자, 서울대학교, 맨체스터 유나이티드 등)',\n",
        "    \n",
        "    # 날짜/시간\n",
        "    'DT': 'Date/Time - 날짜/시간 (2024년, 오늘, 3시 등)',\n",
        "    \n",
        "    # 수량\n",
        "    'QT': 'Quantity - 수량 (100개, 50%, 3명 등)',\n",
        "    \n",
        "    # 기타 고유명사\n",
        "    'CV': 'Civilization - 문명/문화 (조선시대, 르네상스 등)',\n",
        "    'AM': 'Animal - 동물명',\n",
        "    'PT': 'Plant - 식물명',\n",
        "    'MT': 'Material - 물질명',\n",
        "    'TI': 'Title - 작품명/타이틀',\n",
        "    'EV': 'Event - 사건명',\n",
        "    'AF': 'Artifact - 인공물',\n",
        "    'TR': 'Term - 용어',\n",
        "    'FD': 'Food - 음식명',\n",
        "}"
      ],
      "metadata": {
        "id": "go_6KMlDNxBe"
      }
    }
  ]
}